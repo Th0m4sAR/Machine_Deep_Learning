{
  "nbformat": 4,
  "nbformat_minor": 0,
  "metadata": {
    "colab": {
      "provenance": [],
      "gpuType": "T4",
      "toc_visible": true
    },
    "kernelspec": {
      "name": "python3",
      "display_name": "Python 3"
    },
    "language_info": {
      "name": "python"
    },
    "accelerator": "GPU"
  },
  "cells": [
    {
      "cell_type": "markdown",
      "source": [
        "# Digit Recognizer\n",
        " * For more information and datasets: https://www.kaggle.com/competitions/digit-recognizer/leaderboard#"
      ],
      "metadata": {
        "id": "Pen2xAApZylM"
      }
    },
    {
      "cell_type": "code",
      "execution_count": 1,
      "metadata": {
        "id": "MCplmMhGV162"
      },
      "outputs": [],
      "source": [
        "import pandas as pd\n",
        "import numpy as np\n",
        "import matplotlib.pyplot as plt\n",
        "import tensorflow as tf\n"
      ]
    },
    {
      "cell_type": "code",
      "source": [
        "train_df = pd.read_csv('/content/drive/MyDrive/Data_Science/digit-recognizer/train.csv')\n",
        "test_df = pd.read_csv('/content/drive/MyDrive/Data_Science/digit-recognizer/test.csv')"
      ],
      "metadata": {
        "id": "oqRm46d9XxZI"
      },
      "execution_count": 2,
      "outputs": []
    },
    {
      "cell_type": "code",
      "source": [
        "train_df.head()"
      ],
      "metadata": {
        "colab": {
          "base_uri": "https://localhost:8080/",
          "height": 256
        },
        "id": "6YNtNnX4YFFS",
        "outputId": "dda48a34-2f3e-4718-8568-1f046e86a23d"
      },
      "execution_count": 3,
      "outputs": [
        {
          "output_type": "execute_result",
          "data": {
            "text/plain": [
              "   label  pixel0  pixel1  pixel2  pixel3  pixel4  pixel5  pixel6  pixel7  \\\n",
              "0      1       0       0       0       0       0       0       0       0   \n",
              "1      0       0       0       0       0       0       0       0       0   \n",
              "2      1       0       0       0       0       0       0       0       0   \n",
              "3      4       0       0       0       0       0       0       0       0   \n",
              "4      0       0       0       0       0       0       0       0       0   \n",
              "\n",
              "   pixel8  ...  pixel774  pixel775  pixel776  pixel777  pixel778  pixel779  \\\n",
              "0       0  ...         0         0         0         0         0         0   \n",
              "1       0  ...         0         0         0         0         0         0   \n",
              "2       0  ...         0         0         0         0         0         0   \n",
              "3       0  ...         0         0         0         0         0         0   \n",
              "4       0  ...         0         0         0         0         0         0   \n",
              "\n",
              "   pixel780  pixel781  pixel782  pixel783  \n",
              "0         0         0         0         0  \n",
              "1         0         0         0         0  \n",
              "2         0         0         0         0  \n",
              "3         0         0         0         0  \n",
              "4         0         0         0         0  \n",
              "\n",
              "[5 rows x 785 columns]"
            ],
            "text/html": [
              "\n",
              "  <div id=\"df-3d5aee12-2309-41e1-a04a-2fc85744c410\" class=\"colab-df-container\">\n",
              "    <div>\n",
              "<style scoped>\n",
              "    .dataframe tbody tr th:only-of-type {\n",
              "        vertical-align: middle;\n",
              "    }\n",
              "\n",
              "    .dataframe tbody tr th {\n",
              "        vertical-align: top;\n",
              "    }\n",
              "\n",
              "    .dataframe thead th {\n",
              "        text-align: right;\n",
              "    }\n",
              "</style>\n",
              "<table border=\"1\" class=\"dataframe\">\n",
              "  <thead>\n",
              "    <tr style=\"text-align: right;\">\n",
              "      <th></th>\n",
              "      <th>label</th>\n",
              "      <th>pixel0</th>\n",
              "      <th>pixel1</th>\n",
              "      <th>pixel2</th>\n",
              "      <th>pixel3</th>\n",
              "      <th>pixel4</th>\n",
              "      <th>pixel5</th>\n",
              "      <th>pixel6</th>\n",
              "      <th>pixel7</th>\n",
              "      <th>pixel8</th>\n",
              "      <th>...</th>\n",
              "      <th>pixel774</th>\n",
              "      <th>pixel775</th>\n",
              "      <th>pixel776</th>\n",
              "      <th>pixel777</th>\n",
              "      <th>pixel778</th>\n",
              "      <th>pixel779</th>\n",
              "      <th>pixel780</th>\n",
              "      <th>pixel781</th>\n",
              "      <th>pixel782</th>\n",
              "      <th>pixel783</th>\n",
              "    </tr>\n",
              "  </thead>\n",
              "  <tbody>\n",
              "    <tr>\n",
              "      <th>0</th>\n",
              "      <td>1</td>\n",
              "      <td>0</td>\n",
              "      <td>0</td>\n",
              "      <td>0</td>\n",
              "      <td>0</td>\n",
              "      <td>0</td>\n",
              "      <td>0</td>\n",
              "      <td>0</td>\n",
              "      <td>0</td>\n",
              "      <td>0</td>\n",
              "      <td>...</td>\n",
              "      <td>0</td>\n",
              "      <td>0</td>\n",
              "      <td>0</td>\n",
              "      <td>0</td>\n",
              "      <td>0</td>\n",
              "      <td>0</td>\n",
              "      <td>0</td>\n",
              "      <td>0</td>\n",
              "      <td>0</td>\n",
              "      <td>0</td>\n",
              "    </tr>\n",
              "    <tr>\n",
              "      <th>1</th>\n",
              "      <td>0</td>\n",
              "      <td>0</td>\n",
              "      <td>0</td>\n",
              "      <td>0</td>\n",
              "      <td>0</td>\n",
              "      <td>0</td>\n",
              "      <td>0</td>\n",
              "      <td>0</td>\n",
              "      <td>0</td>\n",
              "      <td>0</td>\n",
              "      <td>...</td>\n",
              "      <td>0</td>\n",
              "      <td>0</td>\n",
              "      <td>0</td>\n",
              "      <td>0</td>\n",
              "      <td>0</td>\n",
              "      <td>0</td>\n",
              "      <td>0</td>\n",
              "      <td>0</td>\n",
              "      <td>0</td>\n",
              "      <td>0</td>\n",
              "    </tr>\n",
              "    <tr>\n",
              "      <th>2</th>\n",
              "      <td>1</td>\n",
              "      <td>0</td>\n",
              "      <td>0</td>\n",
              "      <td>0</td>\n",
              "      <td>0</td>\n",
              "      <td>0</td>\n",
              "      <td>0</td>\n",
              "      <td>0</td>\n",
              "      <td>0</td>\n",
              "      <td>0</td>\n",
              "      <td>...</td>\n",
              "      <td>0</td>\n",
              "      <td>0</td>\n",
              "      <td>0</td>\n",
              "      <td>0</td>\n",
              "      <td>0</td>\n",
              "      <td>0</td>\n",
              "      <td>0</td>\n",
              "      <td>0</td>\n",
              "      <td>0</td>\n",
              "      <td>0</td>\n",
              "    </tr>\n",
              "    <tr>\n",
              "      <th>3</th>\n",
              "      <td>4</td>\n",
              "      <td>0</td>\n",
              "      <td>0</td>\n",
              "      <td>0</td>\n",
              "      <td>0</td>\n",
              "      <td>0</td>\n",
              "      <td>0</td>\n",
              "      <td>0</td>\n",
              "      <td>0</td>\n",
              "      <td>0</td>\n",
              "      <td>...</td>\n",
              "      <td>0</td>\n",
              "      <td>0</td>\n",
              "      <td>0</td>\n",
              "      <td>0</td>\n",
              "      <td>0</td>\n",
              "      <td>0</td>\n",
              "      <td>0</td>\n",
              "      <td>0</td>\n",
              "      <td>0</td>\n",
              "      <td>0</td>\n",
              "    </tr>\n",
              "    <tr>\n",
              "      <th>4</th>\n",
              "      <td>0</td>\n",
              "      <td>0</td>\n",
              "      <td>0</td>\n",
              "      <td>0</td>\n",
              "      <td>0</td>\n",
              "      <td>0</td>\n",
              "      <td>0</td>\n",
              "      <td>0</td>\n",
              "      <td>0</td>\n",
              "      <td>0</td>\n",
              "      <td>...</td>\n",
              "      <td>0</td>\n",
              "      <td>0</td>\n",
              "      <td>0</td>\n",
              "      <td>0</td>\n",
              "      <td>0</td>\n",
              "      <td>0</td>\n",
              "      <td>0</td>\n",
              "      <td>0</td>\n",
              "      <td>0</td>\n",
              "      <td>0</td>\n",
              "    </tr>\n",
              "  </tbody>\n",
              "</table>\n",
              "<p>5 rows × 785 columns</p>\n",
              "</div>\n",
              "    <div class=\"colab-df-buttons\">\n",
              "\n",
              "  <div class=\"colab-df-container\">\n",
              "    <button class=\"colab-df-convert\" onclick=\"convertToInteractive('df-3d5aee12-2309-41e1-a04a-2fc85744c410')\"\n",
              "            title=\"Convert this dataframe to an interactive table.\"\n",
              "            style=\"display:none;\">\n",
              "\n",
              "  <svg xmlns=\"http://www.w3.org/2000/svg\" height=\"24px\" viewBox=\"0 -960 960 960\">\n",
              "    <path d=\"M120-120v-720h720v720H120Zm60-500h600v-160H180v160Zm220 220h160v-160H400v160Zm0 220h160v-160H400v160ZM180-400h160v-160H180v160Zm440 0h160v-160H620v160ZM180-180h160v-160H180v160Zm440 0h160v-160H620v160Z\"/>\n",
              "  </svg>\n",
              "    </button>\n",
              "\n",
              "  <style>\n",
              "    .colab-df-container {\n",
              "      display:flex;\n",
              "      gap: 12px;\n",
              "    }\n",
              "\n",
              "    .colab-df-convert {\n",
              "      background-color: #E8F0FE;\n",
              "      border: none;\n",
              "      border-radius: 50%;\n",
              "      cursor: pointer;\n",
              "      display: none;\n",
              "      fill: #1967D2;\n",
              "      height: 32px;\n",
              "      padding: 0 0 0 0;\n",
              "      width: 32px;\n",
              "    }\n",
              "\n",
              "    .colab-df-convert:hover {\n",
              "      background-color: #E2EBFA;\n",
              "      box-shadow: 0px 1px 2px rgba(60, 64, 67, 0.3), 0px 1px 3px 1px rgba(60, 64, 67, 0.15);\n",
              "      fill: #174EA6;\n",
              "    }\n",
              "\n",
              "    .colab-df-buttons div {\n",
              "      margin-bottom: 4px;\n",
              "    }\n",
              "\n",
              "    [theme=dark] .colab-df-convert {\n",
              "      background-color: #3B4455;\n",
              "      fill: #D2E3FC;\n",
              "    }\n",
              "\n",
              "    [theme=dark] .colab-df-convert:hover {\n",
              "      background-color: #434B5C;\n",
              "      box-shadow: 0px 1px 3px 1px rgba(0, 0, 0, 0.15);\n",
              "      filter: drop-shadow(0px 1px 2px rgba(0, 0, 0, 0.3));\n",
              "      fill: #FFFFFF;\n",
              "    }\n",
              "  </style>\n",
              "\n",
              "    <script>\n",
              "      const buttonEl =\n",
              "        document.querySelector('#df-3d5aee12-2309-41e1-a04a-2fc85744c410 button.colab-df-convert');\n",
              "      buttonEl.style.display =\n",
              "        google.colab.kernel.accessAllowed ? 'block' : 'none';\n",
              "\n",
              "      async function convertToInteractive(key) {\n",
              "        const element = document.querySelector('#df-3d5aee12-2309-41e1-a04a-2fc85744c410');\n",
              "        const dataTable =\n",
              "          await google.colab.kernel.invokeFunction('convertToInteractive',\n",
              "                                                    [key], {});\n",
              "        if (!dataTable) return;\n",
              "\n",
              "        const docLinkHtml = 'Like what you see? Visit the ' +\n",
              "          '<a target=\"_blank\" href=https://colab.research.google.com/notebooks/data_table.ipynb>data table notebook</a>'\n",
              "          + ' to learn more about interactive tables.';\n",
              "        element.innerHTML = '';\n",
              "        dataTable['output_type'] = 'display_data';\n",
              "        await google.colab.output.renderOutput(dataTable, element);\n",
              "        const docLink = document.createElement('div');\n",
              "        docLink.innerHTML = docLinkHtml;\n",
              "        element.appendChild(docLink);\n",
              "      }\n",
              "    </script>\n",
              "  </div>\n",
              "\n",
              "\n",
              "<div id=\"df-3a256a85-3d64-4dcd-9252-95d8a1b13e92\">\n",
              "  <button class=\"colab-df-quickchart\" onclick=\"quickchart('df-3a256a85-3d64-4dcd-9252-95d8a1b13e92')\"\n",
              "            title=\"Suggest charts.\"\n",
              "            style=\"display:none;\">\n",
              "\n",
              "<svg xmlns=\"http://www.w3.org/2000/svg\" height=\"24px\"viewBox=\"0 0 24 24\"\n",
              "     width=\"24px\">\n",
              "    <g>\n",
              "        <path d=\"M19 3H5c-1.1 0-2 .9-2 2v14c0 1.1.9 2 2 2h14c1.1 0 2-.9 2-2V5c0-1.1-.9-2-2-2zM9 17H7v-7h2v7zm4 0h-2V7h2v10zm4 0h-2v-4h2v4z\"/>\n",
              "    </g>\n",
              "</svg>\n",
              "  </button>\n",
              "\n",
              "<style>\n",
              "  .colab-df-quickchart {\n",
              "      --bg-color: #E8F0FE;\n",
              "      --fill-color: #1967D2;\n",
              "      --hover-bg-color: #E2EBFA;\n",
              "      --hover-fill-color: #174EA6;\n",
              "      --disabled-fill-color: #AAA;\n",
              "      --disabled-bg-color: #DDD;\n",
              "  }\n",
              "\n",
              "  [theme=dark] .colab-df-quickchart {\n",
              "      --bg-color: #3B4455;\n",
              "      --fill-color: #D2E3FC;\n",
              "      --hover-bg-color: #434B5C;\n",
              "      --hover-fill-color: #FFFFFF;\n",
              "      --disabled-bg-color: #3B4455;\n",
              "      --disabled-fill-color: #666;\n",
              "  }\n",
              "\n",
              "  .colab-df-quickchart {\n",
              "    background-color: var(--bg-color);\n",
              "    border: none;\n",
              "    border-radius: 50%;\n",
              "    cursor: pointer;\n",
              "    display: none;\n",
              "    fill: var(--fill-color);\n",
              "    height: 32px;\n",
              "    padding: 0;\n",
              "    width: 32px;\n",
              "  }\n",
              "\n",
              "  .colab-df-quickchart:hover {\n",
              "    background-color: var(--hover-bg-color);\n",
              "    box-shadow: 0 1px 2px rgba(60, 64, 67, 0.3), 0 1px 3px 1px rgba(60, 64, 67, 0.15);\n",
              "    fill: var(--button-hover-fill-color);\n",
              "  }\n",
              "\n",
              "  .colab-df-quickchart-complete:disabled,\n",
              "  .colab-df-quickchart-complete:disabled:hover {\n",
              "    background-color: var(--disabled-bg-color);\n",
              "    fill: var(--disabled-fill-color);\n",
              "    box-shadow: none;\n",
              "  }\n",
              "\n",
              "  .colab-df-spinner {\n",
              "    border: 2px solid var(--fill-color);\n",
              "    border-color: transparent;\n",
              "    border-bottom-color: var(--fill-color);\n",
              "    animation:\n",
              "      spin 1s steps(1) infinite;\n",
              "  }\n",
              "\n",
              "  @keyframes spin {\n",
              "    0% {\n",
              "      border-color: transparent;\n",
              "      border-bottom-color: var(--fill-color);\n",
              "      border-left-color: var(--fill-color);\n",
              "    }\n",
              "    20% {\n",
              "      border-color: transparent;\n",
              "      border-left-color: var(--fill-color);\n",
              "      border-top-color: var(--fill-color);\n",
              "    }\n",
              "    30% {\n",
              "      border-color: transparent;\n",
              "      border-left-color: var(--fill-color);\n",
              "      border-top-color: var(--fill-color);\n",
              "      border-right-color: var(--fill-color);\n",
              "    }\n",
              "    40% {\n",
              "      border-color: transparent;\n",
              "      border-right-color: var(--fill-color);\n",
              "      border-top-color: var(--fill-color);\n",
              "    }\n",
              "    60% {\n",
              "      border-color: transparent;\n",
              "      border-right-color: var(--fill-color);\n",
              "    }\n",
              "    80% {\n",
              "      border-color: transparent;\n",
              "      border-right-color: var(--fill-color);\n",
              "      border-bottom-color: var(--fill-color);\n",
              "    }\n",
              "    90% {\n",
              "      border-color: transparent;\n",
              "      border-bottom-color: var(--fill-color);\n",
              "    }\n",
              "  }\n",
              "</style>\n",
              "\n",
              "  <script>\n",
              "    async function quickchart(key) {\n",
              "      const quickchartButtonEl =\n",
              "        document.querySelector('#' + key + ' button');\n",
              "      quickchartButtonEl.disabled = true;  // To prevent multiple clicks.\n",
              "      quickchartButtonEl.classList.add('colab-df-spinner');\n",
              "      try {\n",
              "        const charts = await google.colab.kernel.invokeFunction(\n",
              "            'suggestCharts', [key], {});\n",
              "      } catch (error) {\n",
              "        console.error('Error during call to suggestCharts:', error);\n",
              "      }\n",
              "      quickchartButtonEl.classList.remove('colab-df-spinner');\n",
              "      quickchartButtonEl.classList.add('colab-df-quickchart-complete');\n",
              "    }\n",
              "    (() => {\n",
              "      let quickchartButtonEl =\n",
              "        document.querySelector('#df-3a256a85-3d64-4dcd-9252-95d8a1b13e92 button');\n",
              "      quickchartButtonEl.style.display =\n",
              "        google.colab.kernel.accessAllowed ? 'block' : 'none';\n",
              "    })();\n",
              "  </script>\n",
              "</div>\n",
              "    </div>\n",
              "  </div>\n"
            ]
          },
          "metadata": {},
          "execution_count": 3
        }
      ]
    },
    {
      "cell_type": "code",
      "source": [
        "# Split label from the dataset\n",
        "labels = train_df['label']\n",
        "img = train_df.drop('label', axis=1)"
      ],
      "metadata": {
        "id": "_OYGSmu6YIih"
      },
      "execution_count": 4,
      "outputs": []
    },
    {
      "cell_type": "code",
      "source": [
        "# Reshape the data set into figures.\n",
        "img = np.asarray(img).reshape([len(img), 28, 28, 1])\n",
        "labels = np.asarray(labels).reshape([len(img), 1]) # Reshape labels for compatibility"
      ],
      "metadata": {
        "id": "QvcCjkud7dvZ"
      },
      "execution_count": 5,
      "outputs": []
    },
    {
      "cell_type": "code",
      "source": [
        "img.shape, labels.shape"
      ],
      "metadata": {
        "colab": {
          "base_uri": "https://localhost:8080/"
        },
        "id": "S6z90P1y9ZMw",
        "outputId": "eb7a526f-a670-4554-a856-ca653e4ee6b4"
      },
      "execution_count": 6,
      "outputs": [
        {
          "output_type": "execute_result",
          "data": {
            "text/plain": [
              "((42000, 28, 28, 1), (42000, 1))"
            ]
          },
          "metadata": {},
          "execution_count": 6
        }
      ]
    },
    {
      "cell_type": "code",
      "source": [
        "labels[:5]"
      ],
      "metadata": {
        "colab": {
          "base_uri": "https://localhost:8080/"
        },
        "id": "yz6fo3heYPD8",
        "outputId": "6e0048b8-5114-4504-9820-134afc404ffe"
      },
      "execution_count": 7,
      "outputs": [
        {
          "output_type": "execute_result",
          "data": {
            "text/plain": [
              "array([[1],\n",
              "       [0],\n",
              "       [1],\n",
              "       [4],\n",
              "       [0]])"
            ]
          },
          "metadata": {},
          "execution_count": 7
        }
      ]
    },
    {
      "cell_type": "code",
      "source": [
        "img[0].shape"
      ],
      "metadata": {
        "colab": {
          "base_uri": "https://localhost:8080/"
        },
        "id": "ipjNUKAKaoDT",
        "outputId": "9af404e0-9336-4229-c143-912a4eb9b714"
      },
      "execution_count": 8,
      "outputs": [
        {
          "output_type": "execute_result",
          "data": {
            "text/plain": [
              "(28, 28, 1)"
            ]
          },
          "metadata": {},
          "execution_count": 8
        }
      ]
    },
    {
      "cell_type": "markdown",
      "source": [
        "## Data Visualization"
      ],
      "metadata": {
        "id": "Rl24BvtWvUWP"
      }
    },
    {
      "cell_type": "code",
      "source": [
        "# Plot value counts\n",
        "x = np.unique(labels, return_counts=True)[0]\n",
        "y = np.unique(labels, return_counts=True)[1]\n",
        "\n",
        "plt.bar(x, y);"
      ],
      "metadata": {
        "colab": {
          "base_uri": "https://localhost:8080/",
          "height": 430
        },
        "id": "iXvdOlwtauUB",
        "outputId": "ee51b773-a201-4f04-ec4f-9dde5da1e641"
      },
      "execution_count": 9,
      "outputs": [
        {
          "output_type": "display_data",
          "data": {
            "text/plain": [
              "<Figure size 640x480 with 1 Axes>"
            ],
            "image/png": "[encoded data removed]"
          },
          "metadata": {}
        }
      ]
    },
    {
      "cell_type": "code",
      "source": [
        "# Split into val and train datasets\n",
        "from sklearn.model_selection import train_test_split\n",
        "\n",
        "train_img, val_img, train_labels, val_labels = train_test_split(img, labels)"
      ],
      "metadata": {
        "id": "BXkU9VVDtxD3"
      },
      "execution_count": 10,
      "outputs": []
    },
    {
      "cell_type": "code",
      "source": [
        "print(f\"\"\"\n",
        "  train images shape: {train_img.shape}\n",
        "  validation images shape: {val_img.shape}\n",
        "  train labels shape: {train_labels.shape}\n",
        "  validation labels shape: {val_labels.shape}\n",
        "\"\"\")"
      ],
      "metadata": {
        "colab": {
          "base_uri": "https://localhost:8080/"
        },
        "id": "_lRso8sPugDk",
        "outputId": "1505403f-6cd0-4976-c207-3f1dc9acb715"
      },
      "execution_count": 11,
      "outputs": [
        {
          "output_type": "stream",
          "name": "stdout",
          "text": [
            "\n",
            "  train images shape: (31500, 28, 28, 1)\n",
            "  validation images shape: (10500, 28, 28, 1)\n",
            "  train labels shape: (31500, 1)\n",
            "  validation labels shape: (10500, 1)\n",
            "\n"
          ]
        }
      ]
    },
    {
      "cell_type": "code",
      "source": [
        "# Plot value counts\n",
        "x = np.unique(train_labels, return_counts=True)[0]\n",
        "y = np.unique(train_labels, return_counts=True)[1]\n",
        "\n",
        "plt.bar(x, y);"
      ],
      "metadata": {
        "colab": {
          "base_uri": "https://localhost:8080/",
          "height": 430
        },
        "id": "_7krqXhMu_e8",
        "outputId": "185c981b-77e0-4430-a762-56c85384c182"
      },
      "execution_count": 12,
      "outputs": [
        {
          "output_type": "display_data",
          "data": {
            "text/plain": [
              "<Figure size 640x480 with 1 Axes>"
            ],
            "image/png": "[encoded data removed]"
          },
          "metadata": {}
        }
      ]
    },
    {
      "cell_type": "code",
      "source": [
        "# Plot value counts\n",
        "x = np.unique(val_labels, return_counts=True)[0]\n",
        "y = np.unique(val_labels, return_counts=True)[1]\n",
        "\n",
        "plt.bar(x, y);"
      ],
      "metadata": {
        "colab": {
          "base_uri": "https://localhost:8080/",
          "height": 430
        },
        "id": "-P6QewpAvNGS",
        "outputId": "220d3be9-f048-41e9-9c80-508dca723403"
      },
      "execution_count": 13,
      "outputs": [
        {
          "output_type": "display_data",
          "data": {
            "text/plain": [
              "<Figure size 640x480 with 1 Axes>"
            ],
            "image/png": "[encoded data removed]"
          },
          "metadata": {}
        }
      ]
    },
    {
      "cell_type": "code",
      "source": [
        "import random\n",
        "\n",
        "fig = plt.figure(figsize=(10, 10))\n",
        "for i in range(5):\n",
        "  random_number = random.randint(1, len(labels-5))\n",
        "  plt.subplot(5, 5, i+1)\n",
        "  plt.imshow(img[random_number])\n",
        "  plt.axis(False)\n",
        "  plt.title(str(labels[random_number]),y=-0.15, color='grey')"
      ],
      "metadata": {
        "colab": {
          "base_uri": "https://localhost:8080/",
          "height": 185
        },
        "id": "bw2l3Vjjvnzw",
        "outputId": "5c516889-5a4f-4f76-efb4-097307f2fca0"
      },
      "execution_count": 14,
      "outputs": [
        {
          "output_type": "display_data",
          "data": {
            "text/plain": [
              "<Figure size 1000x1000 with 5 Axes>"
            ],
            "image/png": "[encoded data removed]"
          },
          "metadata": {}
        }
      ]
    },
    {
      "cell_type": "code",
      "source": [
        "train_img.max()"
      ],
      "metadata": {
        "colab": {
          "base_uri": "https://localhost:8080/"
        },
        "id": "QVEeX1bexQVH",
        "outputId": "3de1a6b5-b6bd-4507-c129-9e7e146caf20"
      },
      "execution_count": 15,
      "outputs": [
        {
          "output_type": "execute_result",
          "data": {
            "text/plain": [
              "255"
            ]
          },
          "metadata": {},
          "execution_count": 15
        }
      ]
    },
    {
      "cell_type": "code",
      "source": [
        "# Creating a dataset to make it easier to feed the data to a tf model\n",
        "\n",
        "train_set = tf.data.Dataset.from_tensor_slices((train_img, train_labels))\n",
        "val_set = tf.data.Dataset.from_tensor_slices((val_img, val_labels))\n",
        "\n",
        "print(train_set)\n",
        "print(val_set)"
      ],
      "metadata": {
        "colab": {
          "base_uri": "https://localhost:8080/"
        },
        "id": "UTofwCB1pd-v",
        "outputId": "fd612470-501b-4554-ab98-682a6384a368"
      },
      "execution_count": 16,
      "outputs": [
        {
          "output_type": "stream",
          "name": "stdout",
          "text": [
            "<_TensorSliceDataset element_spec=(TensorSpec(shape=(28, 28, 1), dtype=tf.int64, name=None), TensorSpec(shape=(1,), dtype=tf.int64, name=None))>\n",
            "<_TensorSliceDataset element_spec=(TensorSpec(shape=(28, 28, 1), dtype=tf.int64, name=None), TensorSpec(shape=(1,), dtype=tf.int64, name=None))>\n"
          ]
        }
      ]
    },
    {
      "cell_type": "code",
      "source": [
        "def pipeline(tf_data):\n",
        "  \"\"\"\n",
        "  Sheffle and batch data\n",
        "  \"\"\"\n",
        "\n",
        "  # Shuffle data\n",
        "  tf_data = tf_data.shuffle(100) # Sheffle data\n",
        "  tf_data = tf_data.batch(32) # Best batch number\n",
        "\n",
        "  return tf_data"
      ],
      "metadata": {
        "id": "AOpRwvWKsIUj"
      },
      "execution_count": 17,
      "outputs": []
    },
    {
      "cell_type": "code",
      "source": [
        "train_set = pipeline(train_set)\n",
        "val_set = pipeline(val_set)"
      ],
      "metadata": {
        "id": "prYaLKJbsmWe"
      },
      "execution_count": 18,
      "outputs": []
    },
    {
      "cell_type": "markdown",
      "source": [
        "## Modelling Experiments"
      ],
      "metadata": {
        "id": "wj5XTI8NQwtP"
      }
    },
    {
      "cell_type": "markdown",
      "source": [
        "### Creating callbacks and evaluation function"
      ],
      "metadata": {
        "id": "BYcWyfCv2fAb"
      }
    },
    {
      "cell_type": "code",
      "source": [
        "from tensorflow.keras.callbacks import EarlyStopping\n",
        "\n",
        "early_stopping = EarlyStopping(monitor=\"val_loss\", patience=3)"
      ],
      "metadata": {
        "id": "i001T3gs2eaK"
      },
      "execution_count": 19,
      "outputs": []
    },
    {
      "cell_type": "code",
      "source": [
        "from tensorflow.keras import layers\n",
        "NUM_CLASSES = len(np.unique(train_labels))\n",
        "SHAPE = (28, 28, 1)\n",
        "\n",
        "# Augmentation model\n",
        "data_augmentation = tf.keras.Sequential([\n",
        "    layers.RandomFlip(\"horizontal_and_vertical\"),\n",
        "    layers.RandomRotation(0.2),\n",
        "    layers.Rescaling(1./255)\n",
        "])"
      ],
      "metadata": {
        "id": "N-ALlzU8t2Tj"
      },
      "execution_count": 20,
      "outputs": []
    },
    {
      "cell_type": "code",
      "source": [
        "from sklearn.metrics import accuracy_score, precision_recall_fscore_support\n",
        "\n",
        "# Create function to evaluate model\n",
        "def evaluate_model(model, X_val, y_val):\n",
        "  \"\"\"\n",
        "  Calculates a model accuracy, precision, recall and f1-score of a classification model\n",
        "\n",
        "  Return:\n",
        "    Predictions sample, a dictionary with accuracy, precision, recall and f1-score\n",
        "  \"\"\"\n",
        "  # Get class names\n",
        "  class_names = np.unique(y_val)\n",
        "\n",
        "  # Get model predicitions\n",
        "  y_preds = np.argmax(model.predict(X_val), axis=1)\n",
        "  print(f\"Prediction sample: {y_preds[:5]}\\n\")\n",
        "\n",
        "  # Calculate model accuracy\n",
        "  model_accuracy = accuracy_score(y_val, y_preds)\n",
        "\n",
        "  # Calculate model precision, recall and f1-score\n",
        "  model_precision, model_recall, model_f1, _ = precision_recall_fscore_support(y_val, y_preds, average=\"weighted\")\n",
        "\n",
        "\n",
        "\n",
        "  # Create dictionary\n",
        "  model_results = {\"accuracy\": model_accuracy,\n",
        "                   \"precision\": model_precision,\n",
        "                   \"recall\": model_recall,\n",
        "                   \"f1-score\": model_f1}\n",
        "\n",
        "  return model_results"
      ],
      "metadata": {
        "id": "10l37vmo056G"
      },
      "execution_count": 21,
      "outputs": []
    },
    {
      "cell_type": "markdown",
      "source": [
        "### Model 0: Baseline Tensorflow example in image classification"
      ],
      "metadata": {
        "id": "ROCVk4r4Qz6r"
      }
    },
    {
      "cell_type": "code",
      "source": [
        "# Create Model 0\n",
        "inputs = layers.Input(shape=SHAPE, name=\"input_layer\")\n",
        "x = data_augmentation(inputs)\n",
        "x = layers.Conv2D(32, 3, activation=\"relu\", name=\"Conv_2D_Layer\")(x)\n",
        "x = layers.MaxPooling2D(name=\"Max_Pooling_2D_layer\")(x)\n",
        "x = layers.Flatten(name=\"Flatten_Layer\")(x)\n",
        "x = layers.Dense(128, activation=\"relu\", name=\"Dense_Layer\")(x)\n",
        "outputs = layers.Dense(NUM_CLASSES, activation=\"softmax\", name=\"Output_Layer\")(x)\n",
        "\n",
        "\n",
        "model_0 = tf.keras.Model(inputs, outputs, name=\"baseline_model\")\n",
        "\n",
        "# Compile Model\n",
        "model_0.compile(loss=\"SparseCategoricalCrossentropy\",\n",
        "                optimizer=tf.keras.optimizers.Adam(),\n",
        "                metrics=[\"accuracy\"])\n",
        "\n",
        "# Get model summary\n",
        "model_0.summary()"
      ],
      "metadata": {
        "id": "_-NFzrZd7Vim",
        "colab": {
          "base_uri": "https://localhost:8080/"
        },
        "outputId": "04dfc70e-7874-4170-d754-91297dedd3e2"
      },
      "execution_count": 22,
      "outputs": [
        {
          "output_type": "stream",
          "name": "stdout",
          "text": [
            "Model: \"baseline_model\"\n",
            "_________________________________________________________________\n",
            " Layer (type)                Output Shape              Param #   \n",
            "=================================================================\n",
            " input_layer (InputLayer)    [(None, 28, 28, 1)]       0         \n",
            "                                                                 \n",
            " sequential (Sequential)     (None, 28, 28, 1)         0         \n",
            "                                                                 \n",
            " Conv_2D_Layer (Conv2D)      (None, 26, 26, 32)        320       \n",
            "                                                                 \n",
            " Max_Pooling_2D_layer (MaxP  (None, 13, 13, 32)        0         \n",
            " ooling2D)                                                       \n",
            "                                                                 \n",
            " Flatten_Layer (Flatten)     (None, 5408)              0         \n",
            "                                                                 \n",
            " Dense_Layer (Dense)         (None, 128)               692352    \n",
            "                                                                 \n",
            " Output_Layer (Dense)        (None, 10)                1290      \n",
            "                                                                 \n",
            "=================================================================\n",
            "Total params: 693962 (2.65 MB)\n",
            "Trainable params: 693962 (2.65 MB)\n",
            "Non-trainable params: 0 (0.00 Byte)\n",
            "_________________________________________________________________\n"
          ]
        }
      ]
    },
    {
      "cell_type": "code",
      "source": [
        "history_baseline = model_0.fit(train_set,\n",
        "                               epochs=100,\n",
        "                               validation_data=val_set,\n",
        "                               callbacks=[early_stopping],\n",
        "                               verbose=0)"
      ],
      "metadata": {
        "id": "5UTlWaDmz4GR"
      },
      "execution_count": 23,
      "outputs": []
    },
    {
      "cell_type": "code",
      "source": [
        "model_0_score = evaluate_model(model=model_0,\n",
        "                               X_val=val_img,\n",
        "                               y_val=val_labels)\n",
        "model_0_score"
      ],
      "metadata": {
        "id": "4hQGMwe38Eq8",
        "colab": {
          "base_uri": "https://localhost:8080/"
        },
        "outputId": "78a837eb-07cd-43c7-8ec4-e3ccd9cc5fc4"
      },
      "execution_count": 24,
      "outputs": [
        {
          "output_type": "stream",
          "name": "stdout",
          "text": [
            "329/329 [==============================] - 1s 2ms/step\n",
            "Prediction sample: [6 9 5 7 9]\n",
            "\n"
          ]
        },
        {
          "output_type": "execute_result",
          "data": {
            "text/plain": [
              "{'accuracy': 0.9417142857142857,\n",
              " 'precision': 0.9431087406375125,\n",
              " 'recall': 0.9417142857142857,\n",
              " 'f1-score': 0.9417763488208827}"
            ]
          },
          "metadata": {},
          "execution_count": 24
        }
      ]
    },
    {
      "cell_type": "code",
      "source": [
        "model_0.evaluate(val_set)"
      ],
      "metadata": {
        "colab": {
          "base_uri": "https://localhost:8080/"
        },
        "id": "HOzWsqZhRhxZ",
        "outputId": "013f398d-443a-45eb-ac24-4dbfc0a33535"
      },
      "execution_count": 25,
      "outputs": [
        {
          "output_type": "stream",
          "name": "stdout",
          "text": [
            "329/329 [==============================] - 1s 3ms/step - loss: 0.1942 - accuracy: 0.9417\n"
          ]
        },
        {
          "output_type": "execute_result",
          "data": {
            "text/plain": [
              "[0.19415441155433655, 0.9417142868041992]"
            ]
          },
          "metadata": {},
          "execution_count": 25
        }
      ]
    },
    {
      "cell_type": "code",
      "source": [
        "# Plot loss curves\n",
        "def plot_curves(history):\n",
        "  \"\"\"\n",
        "  Returns separate plots for loss, accuracy, val_loss and val_accuracy\n",
        "  \"\"\"\n",
        "\n",
        "  loss = history.history[\"loss\"]\n",
        "  acc = history.history[\"accuracy\"]\n",
        "  val_loss = history.history[\"val_loss\"]\n",
        "  val_acc = history.history[\"val_accuracy\"]\n",
        "\n",
        "  epochs = range(len(history.history[\"loss\"]))\n",
        "\n",
        "  # Plot loss\n",
        "  plt.plot(epochs, loss, label=\"training loss\")\n",
        "  plt.plot(epochs, val_loss, label=\"validation loss\")\n",
        "  plt.title(\"loss\")\n",
        "  plt.xlabel(\"epochs\"),\n",
        "  plt.legend()\n",
        "\n",
        "  plt.figure()\n",
        "\n",
        "  # Plot accuracy\n",
        "  plt.plot(epochs, acc, label=\"training accuracy\")\n",
        "  plt.plot(epochs, val_acc, label=\"validation accuracy\")\n",
        "  plt.title(\"accuracy\")\n",
        "  plt.xlabel(\"epochs\"),\n",
        "  plt.legend()\n"
      ],
      "metadata": {
        "id": "PHBfwraFB6GU"
      },
      "execution_count": 26,
      "outputs": []
    },
    {
      "cell_type": "code",
      "source": [
        "plot_curves(history_baseline)"
      ],
      "metadata": {
        "id": "wI1HWILlDQ30",
        "colab": {
          "base_uri": "https://localhost:8080/",
          "height": 927
        },
        "outputId": "8780297f-3886-4668-f1b3-33bd09c7698b"
      },
      "execution_count": 27,
      "outputs": [
        {
          "output_type": "display_data",
          "data": {
            "text/plain": [
              "<Figure size 640x480 with 1 Axes>"
            ],
            "image/png": "[encoded data removed]"
          },
          "metadata": {}
        },
        {
          "output_type": "display_data",
          "data": {
            "text/plain": [
              "<Figure size 640x480 with 1 Axes>"
            ],
            "image/png": "[encoded data removed]"
          },
          "metadata": {}
        }
      ]
    },
    {
      "cell_type": "markdown",
      "source": [
        "### Model 1: Increasing Model 0 complexity"
      ],
      "metadata": {
        "id": "MMLfBZImoqLd"
      }
    },
    {
      "cell_type": "code",
      "source": [
        "# Create Model\n",
        "inputs = layers.Input(shape=SHAPE, name=\"input_layer\")\n",
        "x = data_augmentation(inputs)\n",
        "x = layers.Conv2D(128, 5, activation=\"relu\", name=\"Conv_2D_Layer\")(x)\n",
        "x = layers.MaxPooling2D(name=\"Max_Pooling_2D_layer\")(x)\n",
        "x = layers.Dense(128, activation=\"relu\", name=\"Dense_Layer\")(x)\n",
        "x = layers.GlobalAveragePooling2D()(x)\n",
        "outputs = layers.Dense(NUM_CLASSES, activation=\"softmax\", name=\"Output_Layer\")(x)\n",
        "\n",
        "\n",
        "model_1 = tf.keras.Model(inputs, outputs, name=\"model_1\")\n",
        "\n",
        "# Compile Model\n",
        "model_1.compile(loss=\"SparseCategoricalCrossentropy\",\n",
        "                optimizer=tf.keras.optimizers.Adam(),\n",
        "                metrics=[\"accuracy\"])\n",
        "\n",
        "# Get model summary\n",
        "model_1.summary()"
      ],
      "metadata": {
        "id": "WisSKfBHDUhB",
        "colab": {
          "base_uri": "https://localhost:8080/"
        },
        "outputId": "99fc2ca9-dbb5-4399-fb1c-b42826f3d690"
      },
      "execution_count": 28,
      "outputs": [
        {
          "output_type": "stream",
          "name": "stdout",
          "text": [
            "Model: \"model_1\"\n",
            "_________________________________________________________________\n",
            " Layer (type)                Output Shape              Param #   \n",
            "=================================================================\n",
            " input_layer (InputLayer)    [(None, 28, 28, 1)]       0         \n",
            "                                                                 \n",
            " sequential (Sequential)     (None, 28, 28, 1)         0         \n",
            "                                                                 \n",
            " Conv_2D_Layer (Conv2D)      (None, 24, 24, 128)       3328      \n",
            "                                                                 \n",
            " Max_Pooling_2D_layer (MaxP  (None, 12, 12, 128)       0         \n",
            " ooling2D)                                                       \n",
            "                                                                 \n",
            " Dense_Layer (Dense)         (None, 12, 12, 128)       16512     \n",
            "                                                                 \n",
            " global_average_pooling2d (  (None, 128)               0         \n",
            " GlobalAveragePooling2D)                                         \n",
            "                                                                 \n",
            " Output_Layer (Dense)        (None, 10)                1290      \n",
            "                                                                 \n",
            "=================================================================\n",
            "Total params: 21130 (82.54 KB)\n",
            "Trainable params: 21130 (82.54 KB)\n",
            "Non-trainable params: 0 (0.00 Byte)\n",
            "_________________________________________________________________\n"
          ]
        }
      ]
    },
    {
      "cell_type": "code",
      "source": [
        "history_model_1 = model_1.fit(train_set,\n",
        "                               epochs=100,\n",
        "                               validation_data=val_set,\n",
        "                               callbacks=[early_stopping],\n",
        "                               verbose=0)"
      ],
      "metadata": {
        "id": "MPJHv9h2QJtf"
      },
      "execution_count": 29,
      "outputs": []
    },
    {
      "cell_type": "code",
      "source": [
        "model_1_score = evaluate_model(model=model_1,\n",
        "                               X_val=val_img,\n",
        "                               y_val=val_labels)\n",
        "model_1_score"
      ],
      "metadata": {
        "colab": {
          "base_uri": "https://localhost:8080/"
        },
        "id": "UDNk7jEnQPTi",
        "outputId": "5f71035b-7850-4dc7-8eaa-caf2e122377f"
      },
      "execution_count": 30,
      "outputs": [
        {
          "output_type": "stream",
          "name": "stdout",
          "text": [
            "329/329 [==============================] - 1s 2ms/step\n",
            "Prediction sample: [9 2 3 4 9]\n",
            "\n"
          ]
        },
        {
          "output_type": "execute_result",
          "data": {
            "text/plain": [
              "{'accuracy': 0.6247619047619047,\n",
              " 'precision': 0.6425470292488453,\n",
              " 'recall': 0.6247619047619047,\n",
              " 'f1-score': 0.5955069303329883}"
            ]
          },
          "metadata": {},
          "execution_count": 30
        }
      ]
    },
    {
      "cell_type": "code",
      "source": [
        "model_1.evaluate(val_set)"
      ],
      "metadata": {
        "colab": {
          "base_uri": "https://localhost:8080/"
        },
        "id": "UEfFCeB-Rn3q",
        "outputId": "e12ae5f9-eb29-4683-ed60-316da3c8f16a"
      },
      "execution_count": 31,
      "outputs": [
        {
          "output_type": "stream",
          "name": "stdout",
          "text": [
            "329/329 [==============================] - 1s 4ms/step - loss: 1.1602 - accuracy: 0.6248\n"
          ]
        },
        {
          "output_type": "execute_result",
          "data": {
            "text/plain": [
              "[1.1601510047912598, 0.6247618794441223]"
            ]
          },
          "metadata": {},
          "execution_count": 31
        }
      ]
    },
    {
      "cell_type": "code",
      "source": [
        "plot_curves(history_model_1)"
      ],
      "metadata": {
        "colab": {
          "base_uri": "https://localhost:8080/",
          "height": 927
        },
        "id": "733PB2BOQPfQ",
        "outputId": "4d7b6ab1-81f5-41bf-9274-5430c015aa36"
      },
      "execution_count": 32,
      "outputs": [
        {
          "output_type": "display_data",
          "data": {
            "text/plain": [
              "<Figure size 640x480 with 1 Axes>"
            ],
            "image/png": "[encoded data removed]"
          },
          "metadata": {}
        },
        {
          "output_type": "display_data",
          "data": {
            "text/plain": [
              "<Figure size 640x480 with 1 Axes>"
            ],
            "image/png": "[encoded data removed]"
          },
          "metadata": {}
        }
      ]
    },
    {
      "cell_type": "markdown",
      "source": [
        "### Model 2: Add Layers"
      ],
      "metadata": {
        "id": "_jlUOkgnQ77W"
      }
    },
    {
      "cell_type": "code",
      "source": [
        "# Create Model\n",
        "inputs = layers.Input(shape=SHAPE, name=\"input_layer\")\n",
        "x = data_augmentation(inputs)\n",
        "x = layers.Dropout(0.2)(x) # Dropout layer to prevent overfitting\n",
        "x = layers.Conv2D(128, 5, activation=\"relu\", name=\"Conv_2D_Layer\")(x)\n",
        "x = layers.MaxPooling2D(name=\"Max_Pooling_2D_layer\")(x)\n",
        "x = layers.Conv2D(128, 5, activation=\"relu\", name=\"Conve_2D_Layer_2\")(x)\n",
        "x = layers.MaxPooling2D(name=\"Max_Pooling_2D_Layer_2\")(x)\n",
        "x = layers.GlobalAveragePooling2D()(x)\n",
        "outputs = layers.Dense(NUM_CLASSES, activation=\"softmax\", name=\"Output_Layer\")(x)\n",
        "\n",
        "\n",
        "model_2 = tf.keras.Model(inputs, outputs, name=\"model_2\")\n",
        "\n",
        "# Compile Model\n",
        "model_2.compile(loss=\"SparseCategoricalCrossentropy\",\n",
        "                optimizer=tf.keras.optimizers.Adam(),\n",
        "                metrics=[\"accuracy\"])\n",
        "\n",
        "# Get summary\n",
        "model_2.summary()"
      ],
      "metadata": {
        "id": "n9SgUlHiLIGR",
        "colab": {
          "base_uri": "https://localhost:8080/"
        },
        "outputId": "159f3907-e3c0-4320-9a5b-05edea6e8c4f"
      },
      "execution_count": 33,
      "outputs": [
        {
          "output_type": "stream",
          "name": "stdout",
          "text": [
            "Model: \"model_2\"\n",
            "_________________________________________________________________\n",
            " Layer (type)                Output Shape              Param #   \n",
            "=================================================================\n",
            " input_layer (InputLayer)    [(None, 28, 28, 1)]       0         \n",
            "                                                                 \n",
            " sequential (Sequential)     (None, 28, 28, 1)         0         \n",
            "                                                                 \n",
            " dropout (Dropout)           (None, 28, 28, 1)         0         \n",
            "                                                                 \n",
            " Conv_2D_Layer (Conv2D)      (None, 24, 24, 128)       3328      \n",
            "                                                                 \n",
            " Max_Pooling_2D_layer (MaxP  (None, 12, 12, 128)       0         \n",
            " ooling2D)                                                       \n",
            "                                                                 \n",
            " Conve_2D_Layer_2 (Conv2D)   (None, 8, 8, 128)         409728    \n",
            "                                                                 \n",
            " Max_Pooling_2D_Layer_2 (Ma  (None, 4, 4, 128)         0         \n",
            " xPooling2D)                                                     \n",
            "                                                                 \n",
            " global_average_pooling2d_1  (None, 128)               0         \n",
            "  (GlobalAveragePooling2D)                                       \n",
            "                                                                 \n",
            " Output_Layer (Dense)        (None, 10)                1290      \n",
            "                                                                 \n",
            "=================================================================\n",
            "Total params: 414346 (1.58 MB)\n",
            "Trainable params: 414346 (1.58 MB)\n",
            "Non-trainable params: 0 (0.00 Byte)\n",
            "_________________________________________________________________\n"
          ]
        }
      ]
    },
    {
      "cell_type": "code",
      "source": [
        "history_model_2 = model_2.fit(train_set,\n",
        "                               epochs=100,\n",
        "                               validation_data=val_set,\n",
        "                               callbacks=[early_stopping],\n",
        "                               verbose=0)"
      ],
      "metadata": {
        "id": "iAu3nxF6E-Fh"
      },
      "execution_count": 34,
      "outputs": []
    },
    {
      "cell_type": "code",
      "source": [
        "model_2_score = evaluate_model(model=model_2,\n",
        "                               X_val=val_img,\n",
        "                               y_val=val_labels)\n",
        "model_2_score"
      ],
      "metadata": {
        "id": "mIauyITHFNzY",
        "colab": {
          "base_uri": "https://localhost:8080/"
        },
        "outputId": "7160c43c-2239-41a5-ac29-73a201b54a38"
      },
      "execution_count": 35,
      "outputs": [
        {
          "output_type": "stream",
          "name": "stdout",
          "text": [
            "329/329 [==============================] - 1s 2ms/step\n",
            "Prediction sample: [6 9 5 7 9]\n",
            "\n"
          ]
        },
        {
          "output_type": "execute_result",
          "data": {
            "text/plain": [
              "{'accuracy': 0.8926666666666667,\n",
              " 'precision': 0.8966132036667744,\n",
              " 'recall': 0.8926666666666667,\n",
              " 'f1-score': 0.8924755305430156}"
            ]
          },
          "metadata": {},
          "execution_count": 35
        }
      ]
    },
    {
      "cell_type": "code",
      "source": [
        "model_2.evaluate(val_set)"
      ],
      "metadata": {
        "id": "X4to1ZSTFREa",
        "colab": {
          "base_uri": "https://localhost:8080/"
        },
        "outputId": "0aa3e7e3-fcfb-46a3-a1ba-d983b5110cbe"
      },
      "execution_count": 36,
      "outputs": [
        {
          "output_type": "stream",
          "name": "stdout",
          "text": [
            "329/329 [==============================] - 1s 4ms/step - loss: 0.3276 - accuracy: 0.8927\n"
          ]
        },
        {
          "output_type": "execute_result",
          "data": {
            "text/plain": [
              "[0.3276001811027527, 0.8926666378974915]"
            ]
          },
          "metadata": {},
          "execution_count": 36
        }
      ]
    },
    {
      "cell_type": "code",
      "source": [
        "plot_curves(history_model_2)"
      ],
      "metadata": {
        "id": "32cV40HyFQ-x",
        "colab": {
          "base_uri": "https://localhost:8080/",
          "height": 927
        },
        "outputId": "76bdf1fe-f2d0-4658-f7b9-d244d5d322db"
      },
      "execution_count": 37,
      "outputs": [
        {
          "output_type": "display_data",
          "data": {
            "text/plain": [
              "<Figure size 640x480 with 1 Axes>"
            ],
            "image/png": "[encoded data removed]"
          },
          "metadata": {}
        },
        {
          "output_type": "display_data",
          "data": {
            "text/plain": [
              "<Figure size 640x480 with 1 Axes>"
            ],
            "image/png": "[encoded data removed]"
          },
          "metadata": {}
        }
      ]
    },
    {
      "cell_type": "markdown",
      "source": [
        "### Model 3: Two Conv2D loops"
      ],
      "metadata": {
        "id": "EamqHtJaFhLD"
      }
    },
    {
      "cell_type": "code",
      "source": [
        "# Create model\n",
        "inputs = layers.Input(shape=SHAPE, name=\"input\")\n",
        "# First loop\n",
        "x = layers.Conv2D(32, 5, activation='relu', name=\"Conv2D\")(inputs)\n",
        "x = layers.MaxPooling2D(name=\"Max_Pooling\")(x)\n",
        "# Second loop\n",
        "x = layers.Conv2D(64, 5, activation='relu', name=\"Conv2D_2\")(x)\n",
        "x = layers.MaxPooling2D(name=\"Max_Pooling_2\")(x)\n",
        "# Max Pooling\n",
        "x = layers.MaxPooling2D(name=\"Max_Pooling_3\")(x)\n",
        "# Flatten\n",
        "x = layers.Flatten(name=\"Flatten_Layer\")(x)\n",
        "# Dense Layers + output\n",
        "x = layers.Dense(128, activation=\"relu\", name=\"Dense_Layer\")(x)\n",
        "x = layers.Dense(32, activation=\"relu\", name=\"Dense_Layer_2\")(x)\n",
        "outputs = layers.Dense(NUM_CLASSES, activation=\"softmax\", name=\"output\")(x)\n",
        "\n",
        "model_3 = tf.keras.Model(inputs, outputs, name=\"model_3\")\n",
        "\n",
        "# Compile model\n",
        "model_3.compile(loss=\"SparseCategoricalCrossentropy\",\n",
        "                optimizer=tf.keras.optimizers.Adam(),\n",
        "                metrics=[\"accuracy\"])\n",
        "\n",
        "# Get summary\n",
        "model_3.summary()"
      ],
      "metadata": {
        "id": "BIoODeBjFrKe",
        "colab": {
          "base_uri": "https://localhost:8080/"
        },
        "outputId": "10f99f9c-d8ac-4191-a739-ef592ca4be1a"
      },
      "execution_count": 38,
      "outputs": [
        {
          "output_type": "stream",
          "name": "stdout",
          "text": [
            "Model: \"model_3\"\n",
            "_________________________________________________________________\n",
            " Layer (type)                Output Shape              Param #   \n",
            "=================================================================\n",
            " input (InputLayer)          [(None, 28, 28, 1)]       0         \n",
            "                                                                 \n",
            " Conv2D (Conv2D)             (None, 24, 24, 32)        832       \n",
            "                                                                 \n",
            " Max_Pooling (MaxPooling2D)  (None, 12, 12, 32)        0         \n",
            "                                                                 \n",
            " Conv2D_2 (Conv2D)           (None, 8, 8, 64)          51264     \n",
            "                                                                 \n",
            " Max_Pooling_2 (MaxPooling2  (None, 4, 4, 64)          0         \n",
            " D)                                                              \n",
            "                                                                 \n",
            " Max_Pooling_3 (MaxPooling2  (None, 2, 2, 64)          0         \n",
            " D)                                                              \n",
            "                                                                 \n",
            " Flatten_Layer (Flatten)     (None, 256)               0         \n",
            "                                                                 \n",
            " Dense_Layer (Dense)         (None, 128)               32896     \n",
            "                                                                 \n",
            " Dense_Layer_2 (Dense)       (None, 32)                4128      \n",
            "                                                                 \n",
            " output (Dense)              (None, 10)                330       \n",
            "                                                                 \n",
            "=================================================================\n",
            "Total params: 89450 (349.41 KB)\n",
            "Trainable params: 89450 (349.41 KB)\n",
            "Non-trainable params: 0 (0.00 Byte)\n",
            "_________________________________________________________________\n"
          ]
        }
      ]
    },
    {
      "cell_type": "code",
      "source": [
        "history_model_3 = model_3.fit(train_set,\n",
        "                               epochs=100,\n",
        "                               validation_data=val_set,\n",
        "                               callbacks=[early_stopping],\n",
        "                               verbose=0)"
      ],
      "metadata": {
        "id": "DotMPZyaJGqN"
      },
      "execution_count": 39,
      "outputs": []
    },
    {
      "cell_type": "code",
      "source": [
        "model_3_score = evaluate_model(model=model_3,\n",
        "                               X_val=val_img,\n",
        "                               y_val=val_labels)\n",
        "model_3_score"
      ],
      "metadata": {
        "id": "CuUt_lRcJPJt",
        "colab": {
          "base_uri": "https://localhost:8080/"
        },
        "outputId": "14b7cd71-1e54-4009-dcc4-132d4b49b580"
      },
      "execution_count": 40,
      "outputs": [
        {
          "output_type": "stream",
          "name": "stdout",
          "text": [
            "329/329 [==============================] - 1s 2ms/step\n",
            "Prediction sample: [6 9 5 4 9]\n",
            "\n"
          ]
        },
        {
          "output_type": "execute_result",
          "data": {
            "text/plain": [
              "{'accuracy': 0.983904761904762,\n",
              " 'precision': 0.9839933391342285,\n",
              " 'recall': 0.983904761904762,\n",
              " 'f1-score': 0.9838977910097361}"
            ]
          },
          "metadata": {},
          "execution_count": 40
        }
      ]
    },
    {
      "cell_type": "code",
      "source": [
        "model_3.evaluate(val_set)"
      ],
      "metadata": {
        "id": "LUuQqKOGJR2Y",
        "colab": {
          "base_uri": "https://localhost:8080/"
        },
        "outputId": "398e8110-b8eb-4377-ef91-eeb5523da496"
      },
      "execution_count": 41,
      "outputs": [
        {
          "output_type": "stream",
          "name": "stdout",
          "text": [
            "329/329 [==============================] - 1s 3ms/step - loss: 0.0750 - accuracy: 0.9839\n"
          ]
        },
        {
          "output_type": "execute_result",
          "data": {
            "text/plain": [
              "[0.07498064637184143, 0.9839047789573669]"
            ]
          },
          "metadata": {},
          "execution_count": 41
        }
      ]
    },
    {
      "cell_type": "code",
      "source": [
        "plot_curves(history_model_3)"
      ],
      "metadata": {
        "id": "ceWylYvmJUXf",
        "colab": {
          "base_uri": "https://localhost:8080/",
          "height": 927
        },
        "outputId": "f7a36378-e853-480d-d82f-6889abdc7968"
      },
      "execution_count": 42,
      "outputs": [
        {
          "output_type": "display_data",
          "data": {
            "text/plain": [
              "<Figure size 640x480 with 1 Axes>"
            ],
            "image/png": "[encoded data removed]"
          },
          "metadata": {}
        },
        {
          "output_type": "display_data",
          "data": {
            "text/plain": [
              "<Figure size 640x480 with 1 Axes>"
            ],
            "image/png": "[encoded data removed]"
          },
          "metadata": {}
        }
      ]
    },
    {
      "cell_type": "markdown",
      "source": [
        "### Model 4: Same as model 3 but with data augmentation"
      ],
      "metadata": {
        "id": "1cjWQxKSV3PJ"
      }
    },
    {
      "cell_type": "code",
      "source": [
        "# Create model\n",
        "inputs = layers.Input(shape=SHAPE, name=\"input\")\n",
        "# Data augmentation\n",
        "x = data_augmentation(inputs)\n",
        "# First loop\n",
        "x = layers.Conv2D(32, 5, activation='relu', name=\"Conv2D\")(x)\n",
        "x = layers.MaxPooling2D(name=\"Max_Pooling\")(x)\n",
        "# Second loop\n",
        "x = layers.Conv2D(64, 5, activation='relu', name=\"Conv2D_2\")(x)\n",
        "x = layers.MaxPooling2D(name=\"Max_Pooling_2\")(x)\n",
        "# Max Pooling\n",
        "x = layers.MaxPooling2D(name=\"Max_Pooling_3\")(x)\n",
        "# Flatten\n",
        "x = layers.Flatten(name=\"Flatten_Layer\")(x)\n",
        "# Dense Layers + output\n",
        "x = layers.Dense(128, activation=\"relu\", name=\"Dense_Layer\")(x)\n",
        "x = layers.Dense(32, activation=\"relu\", name=\"Dense_Layer_2\")(x)\n",
        "outputs = layers.Dense(NUM_CLASSES, activation=\"softmax\", name=\"output\")(x)\n",
        "\n",
        "model_4 = tf.keras.Model(inputs, outputs, name=\"model_4\")\n",
        "\n",
        "# Compile model\n",
        "model_4.compile(loss=\"SparseCategoricalCrossentropy\",\n",
        "                optimizer=tf.keras.optimizers.Adam(),\n",
        "                metrics=[\"accuracy\"])\n",
        "\n",
        "# Get summary\n",
        "model_4.summary()"
      ],
      "metadata": {
        "id": "z3pegQoEV9oQ",
        "colab": {
          "base_uri": "https://localhost:8080/"
        },
        "outputId": "f6dfb3d7-de6d-4420-c219-4846b9645d28"
      },
      "execution_count": 43,
      "outputs": [
        {
          "output_type": "stream",
          "name": "stdout",
          "text": [
            "Model: \"model_4\"\n",
            "_________________________________________________________________\n",
            " Layer (type)                Output Shape              Param #   \n",
            "=================================================================\n",
            " input (InputLayer)          [(None, 28, 28, 1)]       0         \n",
            "                                                                 \n",
            " sequential (Sequential)     (None, 28, 28, 1)         0         \n",
            "                                                                 \n",
            " Conv2D (Conv2D)             (None, 24, 24, 32)        832       \n",
            "                                                                 \n",
            " Max_Pooling (MaxPooling2D)  (None, 12, 12, 32)        0         \n",
            "                                                                 \n",
            " Conv2D_2 (Conv2D)           (None, 8, 8, 64)          51264     \n",
            "                                                                 \n",
            " Max_Pooling_2 (MaxPooling2  (None, 4, 4, 64)          0         \n",
            " D)                                                              \n",
            "                                                                 \n",
            " Max_Pooling_3 (MaxPooling2  (None, 2, 2, 64)          0         \n",
            " D)                                                              \n",
            "                                                                 \n",
            " Flatten_Layer (Flatten)     (None, 256)               0         \n",
            "                                                                 \n",
            " Dense_Layer (Dense)         (None, 128)               32896     \n",
            "                                                                 \n",
            " Dense_Layer_2 (Dense)       (None, 32)                4128      \n",
            "                                                                 \n",
            " output (Dense)              (None, 10)                330       \n",
            "                                                                 \n",
            "=================================================================\n",
            "Total params: 89450 (349.41 KB)\n",
            "Trainable params: 89450 (349.41 KB)\n",
            "Non-trainable params: 0 (0.00 Byte)\n",
            "_________________________________________________________________\n"
          ]
        }
      ]
    },
    {
      "cell_type": "code",
      "source": [
        "history_model_4 = model_4.fit(train_set,\n",
        "                               epochs=100,\n",
        "                               validation_data=val_set,\n",
        "                               callbacks=[early_stopping],\n",
        "                               verbose=0)"
      ],
      "metadata": {
        "id": "2T-iw7LLWntc"
      },
      "execution_count": 44,
      "outputs": []
    },
    {
      "cell_type": "code",
      "source": [
        "model_4_score = evaluate_model(model=model_4,\n",
        "                               X_val=val_img,\n",
        "                               y_val=val_labels)\n",
        "model_4_score"
      ],
      "metadata": {
        "id": "tYKPDoQwWspX",
        "colab": {
          "base_uri": "https://localhost:8080/"
        },
        "outputId": "7915f0a7-bce7-4f62-e997-23340a58114b"
      },
      "execution_count": 45,
      "outputs": [
        {
          "output_type": "stream",
          "name": "stdout",
          "text": [
            "329/329 [==============================] - 1s 2ms/step\n",
            "Prediction sample: [6 9 5 4 9]\n",
            "\n"
          ]
        },
        {
          "output_type": "execute_result",
          "data": {
            "text/plain": [
              "{'accuracy': 0.9353333333333333,\n",
              " 'precision': 0.9367149463869641,\n",
              " 'recall': 0.9353333333333333,\n",
              " 'f1-score': 0.9349282298600607}"
            ]
          },
          "metadata": {},
          "execution_count": 45
        }
      ]
    },
    {
      "cell_type": "code",
      "source": [
        "model_4.evaluate(val_set)"
      ],
      "metadata": {
        "id": "8XZoiiOpWsjN",
        "colab": {
          "base_uri": "https://localhost:8080/"
        },
        "outputId": "7c2bf257-0211-4575-b5eb-6d308a6d26f0"
      },
      "execution_count": 46,
      "outputs": [
        {
          "output_type": "stream",
          "name": "stdout",
          "text": [
            "329/329 [==============================] - 1s 3ms/step - loss: 0.2012 - accuracy: 0.9353\n"
          ]
        },
        {
          "output_type": "execute_result",
          "data": {
            "text/plain": [
              "[0.20123203098773956, 0.9353333115577698]"
            ]
          },
          "metadata": {},
          "execution_count": 46
        }
      ]
    },
    {
      "cell_type": "code",
      "source": [
        "plot_curves(history_model_4)"
      ],
      "metadata": {
        "id": "3Sf4KxKlW4l_",
        "colab": {
          "base_uri": "https://localhost:8080/",
          "height": 927
        },
        "outputId": "018f178f-152c-4bf2-fcab-d43701e9ecbb"
      },
      "execution_count": 47,
      "outputs": [
        {
          "output_type": "display_data",
          "data": {
            "text/plain": [
              "<Figure size 640x480 with 1 Axes>"
            ],
            "image/png": "[encoded data removed]"
          },
          "metadata": {}
        },
        {
          "output_type": "display_data",
          "data": {
            "text/plain": [
              "<Figure size 640x480 with 1 Axes>"
            ],
            "image/png": "[encoded data removed]"
          },
          "metadata": {}
        }
      ]
    },
    {
      "cell_type": "markdown",
      "source": [
        "### Model 5: Same as model 3 but with kernel_size=3"
      ],
      "metadata": {
        "id": "vcwNEpysW-ns"
      }
    },
    {
      "cell_type": "code",
      "source": [
        "# Create model\n",
        "inputs = layers.Input(shape=SHAPE, name=\"input\")\n",
        "# First loop\n",
        "x = layers.Conv2D(32, 3, activation='relu', name=\"Conv2D\")(inputs)\n",
        "x = layers.MaxPooling2D(name=\"Max_Pooling\")(x)\n",
        "# Second loop\n",
        "x = layers.Conv2D(64, 3, activation='relu', name=\"Conv2D_2\")(x)\n",
        "x = layers.MaxPooling2D(name=\"Max_Pooling_2\")(x)\n",
        "# Max Pooling\n",
        "x = layers.MaxPooling2D(name=\"Max_Pooling_3\")(x)\n",
        "# Flatten\n",
        "x = layers.Flatten(name=\"Flatten_Layer\")(x)\n",
        "# Dense Layers + output\n",
        "x = layers.Dense(128, activation=\"relu\", name=\"Dense_Layer\")(x)\n",
        "x = layers.Dense(32, activation=\"relu\", name=\"Dense_Layer_2\")(x)\n",
        "outputs = layers.Dense(NUM_CLASSES, activation=\"softmax\", name=\"output\")(x)\n",
        "\n",
        "model_5 = tf.keras.Model(inputs, outputs, name=\"model_5\")\n",
        "\n",
        "# Compile model\n",
        "model_5.compile(loss=\"SparseCategoricalCrossentropy\",\n",
        "                optimizer=tf.keras.optimizers.Adam(),\n",
        "                metrics=[\"accuracy\"])\n",
        "\n",
        "# Get model summary\n",
        "model_5.summary()"
      ],
      "metadata": {
        "id": "XUM-kDfCZ7UN",
        "colab": {
          "base_uri": "https://localhost:8080/"
        },
        "outputId": "ec18a61a-3da4-45d6-ea7e-551a1636e957"
      },
      "execution_count": 48,
      "outputs": [
        {
          "output_type": "stream",
          "name": "stdout",
          "text": [
            "Model: \"model_5\"\n",
            "_________________________________________________________________\n",
            " Layer (type)                Output Shape              Param #   \n",
            "=================================================================\n",
            " input (InputLayer)          [(None, 28, 28, 1)]       0         \n",
            "                                                                 \n",
            " Conv2D (Conv2D)             (None, 26, 26, 32)        320       \n",
            "                                                                 \n",
            " Max_Pooling (MaxPooling2D)  (None, 13, 13, 32)        0         \n",
            "                                                                 \n",
            " Conv2D_2 (Conv2D)           (None, 11, 11, 64)        18496     \n",
            "                                                                 \n",
            " Max_Pooling_2 (MaxPooling2  (None, 5, 5, 64)          0         \n",
            " D)                                                              \n",
            "                                                                 \n",
            " Max_Pooling_3 (MaxPooling2  (None, 2, 2, 64)          0         \n",
            " D)                                                              \n",
            "                                                                 \n",
            " Flatten_Layer (Flatten)     (None, 256)               0         \n",
            "                                                                 \n",
            " Dense_Layer (Dense)         (None, 128)               32896     \n",
            "                                                                 \n",
            " Dense_Layer_2 (Dense)       (None, 32)                4128      \n",
            "                                                                 \n",
            " output (Dense)              (None, 10)                330       \n",
            "                                                                 \n",
            "=================================================================\n",
            "Total params: 56170 (219.41 KB)\n",
            "Trainable params: 56170 (219.41 KB)\n",
            "Non-trainable params: 0 (0.00 Byte)\n",
            "_________________________________________________________________\n"
          ]
        }
      ]
    },
    {
      "cell_type": "code",
      "source": [
        "history_model_5 = model_5.fit(train_set,\n",
        "                               epochs=100,\n",
        "                               validation_data=val_set,\n",
        "                               callbacks=[early_stopping],\n",
        "                               verbose=0)"
      ],
      "metadata": {
        "id": "rFkX9aHQaCyV"
      },
      "execution_count": 49,
      "outputs": []
    },
    {
      "cell_type": "code",
      "source": [
        "model_5_score = evaluate_model(model=model_5,\n",
        "                               X_val=val_img,\n",
        "                               y_val=val_labels)\n",
        "model_5_score"
      ],
      "metadata": {
        "id": "jWFtspCIaIxk",
        "colab": {
          "base_uri": "https://localhost:8080/"
        },
        "outputId": "eb35f2d8-7997-4d24-9fca-42380b0c2f94"
      },
      "execution_count": 50,
      "outputs": [
        {
          "output_type": "stream",
          "name": "stdout",
          "text": [
            "329/329 [==============================] - 1s 3ms/step\n",
            "Prediction sample: [6 9 5 4 9]\n",
            "\n"
          ]
        },
        {
          "output_type": "execute_result",
          "data": {
            "text/plain": [
              "{'accuracy': 0.979047619047619,\n",
              " 'precision': 0.9790784060397474,\n",
              " 'recall': 0.979047619047619,\n",
              " 'f1-score': 0.9790351051499677}"
            ]
          },
          "metadata": {},
          "execution_count": 50
        }
      ]
    },
    {
      "cell_type": "code",
      "source": [
        "model_5.evaluate(val_set)"
      ],
      "metadata": {
        "id": "7euzuVzsaLeo",
        "colab": {
          "base_uri": "https://localhost:8080/"
        },
        "outputId": "f037d12a-0776-4d06-ee03-3db530a097cb"
      },
      "execution_count": 51,
      "outputs": [
        {
          "output_type": "stream",
          "name": "stdout",
          "text": [
            "329/329 [==============================] - 1s 3ms/step - loss: 0.0966 - accuracy: 0.9790\n"
          ]
        },
        {
          "output_type": "execute_result",
          "data": {
            "text/plain": [
              "[0.09661861509084702, 0.9790475964546204]"
            ]
          },
          "metadata": {},
          "execution_count": 51
        }
      ]
    },
    {
      "cell_type": "code",
      "source": [
        "plot_curves(history_model_5)"
      ],
      "metadata": {
        "id": "lyiYo11BaPqb",
        "colab": {
          "base_uri": "https://localhost:8080/",
          "height": 927
        },
        "outputId": "3d9161d0-cdb7-4953-8aa7-b65e0d88943f"
      },
      "execution_count": 52,
      "outputs": [
        {
          "output_type": "display_data",
          "data": {
            "text/plain": [
              "<Figure size 640x480 with 1 Axes>"
            ],
            "image/png": "[encoded data removed]"
          },
          "metadata": {}
        },
        {
          "output_type": "display_data",
          "data": {
            "text/plain": [
              "<Figure size 640x480 with 1 Axes>"
            ],
            "image/png": "[encoded data removed]"
          },
          "metadata": {}
        }
      ]
    },
    {
      "cell_type": "markdown",
      "source": [
        "## Compare and evaluate models"
      ],
      "metadata": {
        "id": "EEa7wlcGaj5p"
      }
    },
    {
      "cell_type": "markdown",
      "source": [
        "### Comparing model results"
      ],
      "metadata": {
        "id": "gfvfu8btaq4p"
      }
    },
    {
      "cell_type": "code",
      "source": [
        "models_results = pd.DataFrame({\"baseline\": model_0_score,\n",
        "                               \"model_1\": model_1_score,\n",
        "                               \"model_2\": model_2_score,\n",
        "                               \"model_3\": model_3_score,\n",
        "                               \"model_4\": model_4_score,\n",
        "                               \"model_5\": model_5_score})\n",
        "\n",
        "models_results = models_results.transpose()\n",
        "models_results"
      ],
      "metadata": {
        "id": "FuqqMuYEbat7",
        "colab": {
          "base_uri": "https://localhost:8080/",
          "height": 238
        },
        "outputId": "825fb709-ee21-4d85-f237-6bf238504af7"
      },
      "execution_count": 53,
      "outputs": [
        {
          "output_type": "execute_result",
          "data": {
            "text/plain": [
              "          accuracy  precision    recall  f1-score\n",
              "baseline  0.941714   0.943109  0.941714  0.941776\n",
              "model_1   0.624762   0.642547  0.624762  0.595507\n",
              "model_2   0.892667   0.896613  0.892667  0.892476\n",
              "model_3   0.983905   0.983993  0.983905  0.983898\n",
              "model_4   0.935333   0.936715  0.935333  0.934928\n",
              "model_5   0.979048   0.979078  0.979048  0.979035"
            ],
            "text/html": [
              "\n",
              "  <div id=\"df-3fdb7fe7-c7ea-46e3-8c1b-dbf1168c9698\" class=\"colab-df-container\">\n",
              "    <div>\n",
              "<style scoped>\n",
              "    .dataframe tbody tr th:only-of-type {\n",
              "        vertical-align: middle;\n",
              "    }\n",
              "\n",
              "    .dataframe tbody tr th {\n",
              "        vertical-align: top;\n",
              "    }\n",
              "\n",
              "    .dataframe thead th {\n",
              "        text-align: right;\n",
              "    }\n",
              "</style>\n",
              "<table border=\"1\" class=\"dataframe\">\n",
              "  <thead>\n",
              "    <tr style=\"text-align: right;\">\n",
              "      <th></th>\n",
              "      <th>accuracy</th>\n",
              "      <th>precision</th>\n",
              "      <th>recall</th>\n",
              "      <th>f1-score</th>\n",
              "    </tr>\n",
              "  </thead>\n",
              "  <tbody>\n",
              "    <tr>\n",
              "      <th>baseline</th>\n",
              "      <td>0.941714</td>\n",
              "      <td>0.943109</td>\n",
              "      <td>0.941714</td>\n",
              "      <td>0.941776</td>\n",
              "    </tr>\n",
              "    <tr>\n",
              "      <th>model_1</th>\n",
              "      <td>0.624762</td>\n",
              "      <td>0.642547</td>\n",
              "      <td>0.624762</td>\n",
              "      <td>0.595507</td>\n",
              "    </tr>\n",
              "    <tr>\n",
              "      <th>model_2</th>\n",
              "      <td>0.892667</td>\n",
              "      <td>0.896613</td>\n",
              "      <td>0.892667</td>\n",
              "      <td>0.892476</td>\n",
              "    </tr>\n",
              "    <tr>\n",
              "      <th>model_3</th>\n",
              "      <td>0.983905</td>\n",
              "      <td>0.983993</td>\n",
              "      <td>0.983905</td>\n",
              "      <td>0.983898</td>\n",
              "    </tr>\n",
              "    <tr>\n",
              "      <th>model_4</th>\n",
              "      <td>0.935333</td>\n",
              "      <td>0.936715</td>\n",
              "      <td>0.935333</td>\n",
              "      <td>0.934928</td>\n",
              "    </tr>\n",
              "    <tr>\n",
              "      <th>model_5</th>\n",
              "      <td>0.979048</td>\n",
              "      <td>0.979078</td>\n",
              "      <td>0.979048</td>\n",
              "      <td>0.979035</td>\n",
              "    </tr>\n",
              "  </tbody>\n",
              "</table>\n",
              "</div>\n",
              "    <div class=\"colab-df-buttons\">\n",
              "\n",
              "  <div class=\"colab-df-container\">\n",
              "    <button class=\"colab-df-convert\" onclick=\"convertToInteractive('df-3fdb7fe7-c7ea-46e3-8c1b-dbf1168c9698')\"\n",
              "            title=\"Convert this dataframe to an interactive table.\"\n",
              "            style=\"display:none;\">\n",
              "\n",
              "  <svg xmlns=\"http://www.w3.org/2000/svg\" height=\"24px\" viewBox=\"0 -960 960 960\">\n",
              "    <path d=\"M120-120v-720h720v720H120Zm60-500h600v-160H180v160Zm220 220h160v-160H400v160Zm0 220h160v-160H400v160ZM180-400h160v-160H180v160Zm440 0h160v-160H620v160ZM180-180h160v-160H180v160Zm440 0h160v-160H620v160Z\"/>\n",
              "  </svg>\n",
              "    </button>\n",
              "\n",
              "  <style>\n",
              "    .colab-df-container {\n",
              "      display:flex;\n",
              "      gap: 12px;\n",
              "    }\n",
              "\n",
              "    .colab-df-convert {\n",
              "      background-color: #E8F0FE;\n",
              "      border: none;\n",
              "      border-radius: 50%;\n",
              "      cursor: pointer;\n",
              "      display: none;\n",
              "      fill: #1967D2;\n",
              "      height: 32px;\n",
              "      padding: 0 0 0 0;\n",
              "      width: 32px;\n",
              "    }\n",
              "\n",
              "    .colab-df-convert:hover {\n",
              "      background-color: #E2EBFA;\n",
              "      box-shadow: 0px 1px 2px rgba(60, 64, 67, 0.3), 0px 1px 3px 1px rgba(60, 64, 67, 0.15);\n",
              "      fill: #174EA6;\n",
              "    }\n",
              "\n",
              "    .colab-df-buttons div {\n",
              "      margin-bottom: 4px;\n",
              "    }\n",
              "\n",
              "    [theme=dark] .colab-df-convert {\n",
              "      background-color: #3B4455;\n",
              "      fill: #D2E3FC;\n",
              "    }\n",
              "\n",
              "    [theme=dark] .colab-df-convert:hover {\n",
              "      background-color: #434B5C;\n",
              "      box-shadow: 0px 1px 3px 1px rgba(0, 0, 0, 0.15);\n",
              "      filter: drop-shadow(0px 1px 2px rgba(0, 0, 0, 0.3));\n",
              "      fill: #FFFFFF;\n",
              "    }\n",
              "  </style>\n",
              "\n",
              "    <script>\n",
              "      const buttonEl =\n",
              "        document.querySelector('#df-3fdb7fe7-c7ea-46e3-8c1b-dbf1168c9698 button.colab-df-convert');\n",
              "      buttonEl.style.display =\n",
              "        google.colab.kernel.accessAllowed ? 'block' : 'none';\n",
              "\n",
              "      async function convertToInteractive(key) {\n",
              "        const element = document.querySelector('#df-3fdb7fe7-c7ea-46e3-8c1b-dbf1168c9698');\n",
              "        const dataTable =\n",
              "          await google.colab.kernel.invokeFunction('convertToInteractive',\n",
              "                                                    [key], {});\n",
              "        if (!dataTable) return;\n",
              "\n",
              "        const docLinkHtml = 'Like what you see? Visit the ' +\n",
              "          '<a target=\"_blank\" href=https://colab.research.google.com/notebooks/data_table.ipynb>data table notebook</a>'\n",
              "          + ' to learn more about interactive tables.';\n",
              "        element.innerHTML = '';\n",
              "        dataTable['output_type'] = 'display_data';\n",
              "        await google.colab.output.renderOutput(dataTable, element);\n",
              "        const docLink = document.createElement('div');\n",
              "        docLink.innerHTML = docLinkHtml;\n",
              "        element.appendChild(docLink);\n",
              "      }\n",
              "    </script>\n",
              "  </div>\n",
              "\n",
              "\n",
              "<div id=\"df-5ebaae92-1f9b-4667-a5ed-ae6541d6cb0f\">\n",
              "  <button class=\"colab-df-quickchart\" onclick=\"quickchart('df-5ebaae92-1f9b-4667-a5ed-ae6541d6cb0f')\"\n",
              "            title=\"Suggest charts.\"\n",
              "            style=\"display:none;\">\n",
              "\n",
              "<svg xmlns=\"http://www.w3.org/2000/svg\" height=\"24px\"viewBox=\"0 0 24 24\"\n",
              "     width=\"24px\">\n",
              "    <g>\n",
              "        <path d=\"M19 3H5c-1.1 0-2 .9-2 2v14c0 1.1.9 2 2 2h14c1.1 0 2-.9 2-2V5c0-1.1-.9-2-2-2zM9 17H7v-7h2v7zm4 0h-2V7h2v10zm4 0h-2v-4h2v4z\"/>\n",
              "    </g>\n",
              "</svg>\n",
              "  </button>\n",
              "\n",
              "<style>\n",
              "  .colab-df-quickchart {\n",
              "      --bg-color: #E8F0FE;\n",
              "      --fill-color: #1967D2;\n",
              "      --hover-bg-color: #E2EBFA;\n",
              "      --hover-fill-color: #174EA6;\n",
              "      --disabled-fill-color: #AAA;\n",
              "      --disabled-bg-color: #DDD;\n",
              "  }\n",
              "\n",
              "  [theme=dark] .colab-df-quickchart {\n",
              "      --bg-color: #3B4455;\n",
              "      --fill-color: #D2E3FC;\n",
              "      --hover-bg-color: #434B5C;\n",
              "      --hover-fill-color: #FFFFFF;\n",
              "      --disabled-bg-color: #3B4455;\n",
              "      --disabled-fill-color: #666;\n",
              "  }\n",
              "\n",
              "  .colab-df-quickchart {\n",
              "    background-color: var(--bg-color);\n",
              "    border: none;\n",
              "    border-radius: 50%;\n",
              "    cursor: pointer;\n",
              "    display: none;\n",
              "    fill: var(--fill-color);\n",
              "    height: 32px;\n",
              "    padding: 0;\n",
              "    width: 32px;\n",
              "  }\n",
              "\n",
              "  .colab-df-quickchart:hover {\n",
              "    background-color: var(--hover-bg-color);\n",
              "    box-shadow: 0 1px 2px rgba(60, 64, 67, 0.3), 0 1px 3px 1px rgba(60, 64, 67, 0.15);\n",
              "    fill: var(--button-hover-fill-color);\n",
              "  }\n",
              "\n",
              "  .colab-df-quickchart-complete:disabled,\n",
              "  .colab-df-quickchart-complete:disabled:hover {\n",
              "    background-color: var(--disabled-bg-color);\n",
              "    fill: var(--disabled-fill-color);\n",
              "    box-shadow: none;\n",
              "  }\n",
              "\n",
              "  .colab-df-spinner {\n",
              "    border: 2px solid var(--fill-color);\n",
              "    border-color: transparent;\n",
              "    border-bottom-color: var(--fill-color);\n",
              "    animation:\n",
              "      spin 1s steps(1) infinite;\n",
              "  }\n",
              "\n",
              "  @keyframes spin {\n",
              "    0% {\n",
              "      border-color: transparent;\n",
              "      border-bottom-color: var(--fill-color);\n",
              "      border-left-color: var(--fill-color);\n",
              "    }\n",
              "    20% {\n",
              "      border-color: transparent;\n",
              "      border-left-color: var(--fill-color);\n",
              "      border-top-color: var(--fill-color);\n",
              "    }\n",
              "    30% {\n",
              "      border-color: transparent;\n",
              "      border-left-color: var(--fill-color);\n",
              "      border-top-color: var(--fill-color);\n",
              "      border-right-color: var(--fill-color);\n",
              "    }\n",
              "    40% {\n",
              "      border-color: transparent;\n",
              "      border-right-color: var(--fill-color);\n",
              "      border-top-color: var(--fill-color);\n",
              "    }\n",
              "    60% {\n",
              "      border-color: transparent;\n",
              "      border-right-color: var(--fill-color);\n",
              "    }\n",
              "    80% {\n",
              "      border-color: transparent;\n",
              "      border-right-color: var(--fill-color);\n",
              "      border-bottom-color: var(--fill-color);\n",
              "    }\n",
              "    90% {\n",
              "      border-color: transparent;\n",
              "      border-bottom-color: var(--fill-color);\n",
              "    }\n",
              "  }\n",
              "</style>\n",
              "\n",
              "  <script>\n",
              "    async function quickchart(key) {\n",
              "      const quickchartButtonEl =\n",
              "        document.querySelector('#' + key + ' button');\n",
              "      quickchartButtonEl.disabled = true;  // To prevent multiple clicks.\n",
              "      quickchartButtonEl.classList.add('colab-df-spinner');\n",
              "      try {\n",
              "        const charts = await google.colab.kernel.invokeFunction(\n",
              "            'suggestCharts', [key], {});\n",
              "      } catch (error) {\n",
              "        console.error('Error during call to suggestCharts:', error);\n",
              "      }\n",
              "      quickchartButtonEl.classList.remove('colab-df-spinner');\n",
              "      quickchartButtonEl.classList.add('colab-df-quickchart-complete');\n",
              "    }\n",
              "    (() => {\n",
              "      let quickchartButtonEl =\n",
              "        document.querySelector('#df-5ebaae92-1f9b-4667-a5ed-ae6541d6cb0f button');\n",
              "      quickchartButtonEl.style.display =\n",
              "        google.colab.kernel.accessAllowed ? 'block' : 'none';\n",
              "    })();\n",
              "  </script>\n",
              "</div>\n",
              "    </div>\n",
              "  </div>\n"
            ]
          },
          "metadata": {},
          "execution_count": 53
        }
      ]
    },
    {
      "cell_type": "code",
      "source": [
        "models_results.sort_values(\"f1-score\", ascending=True)[\"f1-score\"].plot(kind=\"bar\", figsize=(10, 7));"
      ],
      "metadata": {
        "colab": {
          "base_uri": "https://localhost:8080/",
          "height": 644
        },
        "id": "n1tYbpdG_SiQ",
        "outputId": "d3ed6e79-4455-4cf1-fbc5-0ae8eb0603f0"
      },
      "execution_count": 54,
      "outputs": [
        {
          "output_type": "display_data",
          "data": {
            "text/plain": [
              "<Figure size 1000x700 with 1 Axes>"
            ],
            "image/png": "[encoded data removed]"
          },
          "metadata": {}
        }
      ]
    },
    {
      "cell_type": "markdown",
      "source": [
        "### Confusion Matrix"
      ],
      "metadata": {
        "id": "1XT46WTF_5g4"
      }
    },
    {
      "cell_type": "code",
      "source": [
        "y_pred_probs = model_3.predict(val_img)\n",
        "y_pred_probs[5], y_pred_probs.shape"
      ],
      "metadata": {
        "colab": {
          "base_uri": "https://localhost:8080/"
        },
        "id": "Mbi7nN97ALq3",
        "outputId": "8615265b-6c09-425b-ef97-ba6d2605e478"
      },
      "execution_count": 55,
      "outputs": [
        {
          "output_type": "stream",
          "name": "stdout",
          "text": [
            "329/329 [==============================] - 1s 2ms/step\n"
          ]
        },
        {
          "output_type": "execute_result",
          "data": {
            "text/plain": [
              "(array([3.3838210e-15, 9.2700305e-13, 9.5486685e-10, 4.2065957e-14,\n",
              "        1.0000000e+00, 4.9536760e-19, 1.2678669e-21, 1.4497608e-12,\n",
              "        4.6169820e-19, 7.3694086e-11], dtype=float32),\n",
              " (10500, 10))"
            ]
          },
          "metadata": {},
          "execution_count": 55
        }
      ]
    },
    {
      "cell_type": "code",
      "source": [
        "y_preds = tf.argmax(y_pred_probs, axis=1)\n",
        "y_preds[5], y_preds.shape"
      ],
      "metadata": {
        "colab": {
          "base_uri": "https://localhost:8080/"
        },
        "id": "LvGuKo60BGxG",
        "outputId": "bbe33b51-18f4-4749-fd0d-724b93c68ea9"
      },
      "execution_count": 56,
      "outputs": [
        {
          "output_type": "execute_result",
          "data": {
            "text/plain": [
              "(<tf.Tensor: shape=(), dtype=int64, numpy=4>, TensorShape([10500]))"
            ]
          },
          "metadata": {},
          "execution_count": 56
        }
      ]
    },
    {
      "cell_type": "code",
      "source": [
        "# Create and plot a confusion_matrix\n",
        "import itertools\n",
        "from sklearn.metrics import confusion_matrix\n",
        "\n",
        "def make_confusion_matrix(y_true, y_pred, classes=None, figsize=(10, 10), text_size=15):\n",
        "  \"\"\"\n",
        "  Plot a confusion matrix\n",
        "  \"\"\"\n",
        "  # create a confusion matrix\n",
        "  cm = confusion_matrix(y_true, y_pred)\n",
        "  cm_norm = cm.astype(\"float\") / cm.sum(axis=1) # normalize confusion matrix\n",
        "  n_classes = cm.shape[0]\n",
        "\n",
        "  # Let's prettify\n",
        "  fig, ax = plt.subplots(figsize=figsize)\n",
        "  # Create a matrix plot\n",
        "  cax = ax.matshow(cm, cmap=plt.cm.Blues)\n",
        "  fig.colorbar(cax)\n",
        "\n",
        "  # Set labels\n",
        "  if classes:\n",
        "    labels = classes\n",
        "  else:\n",
        "    labels = np.arange(cm.shape[0])\n",
        "\n",
        "  # Label the axes\n",
        "  ax.set(title=\"Confusion Matrix\",\n",
        "         xlabel=\"Predicted Label\",\n",
        "         ylabel=\"True Label\",\n",
        "         xticks=np.arange(n_classes),\n",
        "         yticks=np.arange(n_classes),\n",
        "         xticklabels=labels,\n",
        "         yticklabels=labels)\n",
        "\n",
        " # Set x-axis labels to bottom\n",
        "  ax.xaxis.set_label_position(\"bottom\")\n",
        "  ax.xaxis.tick_bottom()\n",
        "\n",
        "  # Adjust label size\n",
        "  ax.yaxis.label.set_size(text_size)\n",
        "  ax.xaxis.label.set_size(text_size)\n",
        "  ax.title.set_size(text_size)\n",
        "\n",
        "  # Set threshold for different colors\n",
        "  threshold = (cm.max() + cm.min()) / 2.\n",
        "\n",
        "  # Plot the text on each cell\n",
        "  for i, j in itertools.product(range(cm.shape[0]), range(cm.shape[1])):\n",
        "    plt.text(j, i, f\"{cm[i, j]} ({cm_norm[i, j]*100:.1f}%)\",\n",
        "            horizontalalignment=\"center\",\n",
        "            color=\"white\" if cm[i, j] > threshold else \"black\",\n",
        "            size=text_size)\n"
      ],
      "metadata": {
        "id": "Y7R_E7-ZBsZm"
      },
      "execution_count": 57,
      "outputs": []
    },
    {
      "cell_type": "code",
      "source": [
        "make_confusion_matrix(y_true=val_labels,\n",
        "                      y_pred=y_preds,\n",
        "                      figsize=(15, 15),\n",
        "                      text_size=10)"
      ],
      "metadata": {
        "colab": {
          "base_uri": "https://localhost:8080/",
          "height": 1000
        },
        "id": "gAgPnE2VAgdX",
        "outputId": "dc26ceb6-44d4-4807-cad0-37dba0094236"
      },
      "execution_count": 58,
      "outputs": [
        {
          "output_type": "display_data",
          "data": {
            "text/plain": [
              "<Figure size 1500x1500 with 2 Axes>"
            ],
            "image/png": "[encoded data removed]"
          },
          "metadata": {}
        }
      ]
    },
    {
      "cell_type": "markdown",
      "source": [
        "### Prepare and predict test dataset"
      ],
      "metadata": {
        "id": "8EzjA8vGDyLV"
      }
    },
    {
      "cell_type": "code",
      "source": [
        "train_img.shape"
      ],
      "metadata": {
        "colab": {
          "base_uri": "https://localhost:8080/"
        },
        "id": "ECl1CuUvUEt9",
        "outputId": "87df41eb-e6d3-43a2-f5d7-634a25680892"
      },
      "execution_count": 61,
      "outputs": [
        {
          "output_type": "execute_result",
          "data": {
            "text/plain": [
              "(31500, 28, 28, 1)"
            ]
          },
          "metadata": {},
          "execution_count": 61
        }
      ]
    },
    {
      "cell_type": "code",
      "source": [
        "test_df.shape"
      ],
      "metadata": {
        "colab": {
          "base_uri": "https://localhost:8080/"
        },
        "id": "-xFMoQ82RpHK",
        "outputId": "b47d496d-74c6-414d-d67b-acb803ae384a"
      },
      "execution_count": 59,
      "outputs": [
        {
          "output_type": "execute_result",
          "data": {
            "text/plain": [
              "(28000, 784)"
            ]
          },
          "metadata": {},
          "execution_count": 59
        }
      ]
    },
    {
      "cell_type": "code",
      "source": [
        "test_df = np.asarray(test_df).reshape([len(test_df), 28, 28, 1])\n",
        "test_df.shape"
      ],
      "metadata": {
        "colab": {
          "base_uri": "https://localhost:8080/"
        },
        "id": "3WNq90Y9UMAH",
        "outputId": "e9f1412f-f205-4211-a463-8ee33a066b9c"
      },
      "execution_count": 63,
      "outputs": [
        {
          "output_type": "execute_result",
          "data": {
            "text/plain": [
              "(28000, 28, 28, 1)"
            ]
          },
          "metadata": {},
          "execution_count": 63
        }
      ]
    },
    {
      "cell_type": "code",
      "source": [
        "test_pred_probs = model_3.predict(test_df)\n",
        "test_pred_probs[2]"
      ],
      "metadata": {
        "colab": {
          "base_uri": "https://localhost:8080/"
        },
        "id": "SB_6i_TdD2sf",
        "outputId": "a1e841ea-fdd7-4d2a-bbcf-7ec4af2f7698"
      },
      "execution_count": 64,
      "outputs": [
        {
          "output_type": "stream",
          "name": "stdout",
          "text": [
            "875/875 [==============================] - 4s 4ms/step\n"
          ]
        },
        {
          "output_type": "execute_result",
          "data": {
            "text/plain": [
              "array([[4.20473292e-12, 7.43011624e-11, 9.99998569e-01, ...,\n",
              "        3.50119706e-07, 7.10772885e-10, 4.07187201e-11],\n",
              "       [9.99985218e-01, 1.49837174e-12, 1.13438787e-08, ...,\n",
              "        4.44686077e-17, 7.20942523e-07, 6.59821126e-07],\n",
              "       [3.95440896e-13, 1.31195478e-12, 2.90366932e-11, ...,\n",
              "        4.29317845e-15, 1.11311735e-07, 9.99999881e-01],\n",
              "       ...,\n",
              "       [0.00000000e+00, 1.27358618e-11, 1.19524058e-17, ...,\n",
              "        6.19100034e-16, 2.53834588e-19, 5.14451695e-23],\n",
              "       [2.47459414e-10, 7.78725251e-10, 1.50202979e-08, ...,\n",
              "        1.50167140e-12, 4.48174404e-08, 9.99995351e-01],\n",
              "       [4.13497621e-18, 2.83293954e-19, 1.00000000e+00, ...,\n",
              "        1.50868044e-12, 2.96893386e-16, 3.66969218e-19]], dtype=float32)"
            ]
          },
          "metadata": {},
          "execution_count": 64
        }
      ]
    },
    {
      "cell_type": "code",
      "source": [
        "test_pred = tf.argmax(test_pred_probs, axis=1)\n",
        "test_pred, test_pred.shape"
      ],
      "metadata": {
        "colab": {
          "base_uri": "https://localhost:8080/"
        },
        "id": "wXERWLhtUmn3",
        "outputId": "1b6c7de5-484a-4ce5-addb-4e667fbc77b1"
      },
      "execution_count": 65,
      "outputs": [
        {
          "output_type": "execute_result",
          "data": {
            "text/plain": [
              "(<tf.Tensor: shape=(28000,), dtype=int64, numpy=array([2, 0, 9, ..., 3, 9, 2])>,\n",
              " TensorShape([28000]))"
            ]
          },
          "metadata": {},
          "execution_count": 65
        }
      ]
    },
    {
      "cell_type": "code",
      "source": [
        "imageid = [i for i in range(1, len(test_df)+1) ]\n",
        "imageid[0], imageid[-1], len(imageid)"
      ],
      "metadata": {
        "colab": {
          "base_uri": "https://localhost:8080/"
        },
        "id": "onfU1lIoUxVa",
        "outputId": "9dd29241-c583-4c1b-fc1e-9895cb767fb3"
      },
      "execution_count": 80,
      "outputs": [
        {
          "output_type": "execute_result",
          "data": {
            "text/plain": [
              "(1, 28000, 28000)"
            ]
          },
          "metadata": {},
          "execution_count": 80
        }
      ]
    },
    {
      "cell_type": "markdown",
      "source": [
        "### Create Submission File with the format:\n",
        "* ImageId - Label"
      ],
      "metadata": {
        "id": "2SkOO6IHVNcl"
      }
    },
    {
      "cell_type": "code",
      "source": [
        "submission_file = pd.DataFrame({\"ImageId\": imageid,\n",
        "                               \"Label\": test_pred})\n",
        "\n",
        "submission_file"
      ],
      "metadata": {
        "colab": {
          "base_uri": "https://localhost:8080/",
          "height": 424
        },
        "id": "WYlc6z2EU7Mc",
        "outputId": "d946bc97-108e-4ef1-9fbb-2388d16d8860"
      },
      "execution_count": 87,
      "outputs": [
        {
          "output_type": "execute_result",
          "data": {
            "text/plain": [
              "       ImageId  Label\n",
              "0            1      2\n",
              "1            2      0\n",
              "2            3      9\n",
              "3            4      0\n",
              "4            5      3\n",
              "...        ...    ...\n",
              "27995    27996      9\n",
              "27996    27997      7\n",
              "27997    27998      3\n",
              "27998    27999      9\n",
              "27999    28000      2\n",
              "\n",
              "[28000 rows x 2 columns]"
            ],
            "text/html": [
              "\n",
              "  <div id=\"df-e5735345-1232-47a3-8d1c-d94652026147\" class=\"colab-df-container\">\n",
              "    <div>\n",
              "<style scoped>\n",
              "    .dataframe tbody tr th:only-of-type {\n",
              "        vertical-align: middle;\n",
              "    }\n",
              "\n",
              "    .dataframe tbody tr th {\n",
              "        vertical-align: top;\n",
              "    }\n",
              "\n",
              "    .dataframe thead th {\n",
              "        text-align: right;\n",
              "    }\n",
              "</style>\n",
              "<table border=\"1\" class=\"dataframe\">\n",
              "  <thead>\n",
              "    <tr style=\"text-align: right;\">\n",
              "      <th></th>\n",
              "      <th>ImageId</th>\n",
              "      <th>Label</th>\n",
              "    </tr>\n",
              "  </thead>\n",
              "  <tbody>\n",
              "    <tr>\n",
              "      <th>0</th>\n",
              "      <td>1</td>\n",
              "      <td>2</td>\n",
              "    </tr>\n",
              "    <tr>\n",
              "      <th>1</th>\n",
              "      <td>2</td>\n",
              "      <td>0</td>\n",
              "    </tr>\n",
              "    <tr>\n",
              "      <th>2</th>\n",
              "      <td>3</td>\n",
              "      <td>9</td>\n",
              "    </tr>\n",
              "    <tr>\n",
              "      <th>3</th>\n",
              "      <td>4</td>\n",
              "      <td>0</td>\n",
              "    </tr>\n",
              "    <tr>\n",
              "      <th>4</th>\n",
              "      <td>5</td>\n",
              "      <td>3</td>\n",
              "    </tr>\n",
              "    <tr>\n",
              "      <th>...</th>\n",
              "      <td>...</td>\n",
              "      <td>...</td>\n",
              "    </tr>\n",
              "    <tr>\n",
              "      <th>27995</th>\n",
              "      <td>27996</td>\n",
              "      <td>9</td>\n",
              "    </tr>\n",
              "    <tr>\n",
              "      <th>27996</th>\n",
              "      <td>27997</td>\n",
              "      <td>7</td>\n",
              "    </tr>\n",
              "    <tr>\n",
              "      <th>27997</th>\n",
              "      <td>27998</td>\n",
              "      <td>3</td>\n",
              "    </tr>\n",
              "    <tr>\n",
              "      <th>27998</th>\n",
              "      <td>27999</td>\n",
              "      <td>9</td>\n",
              "    </tr>\n",
              "    <tr>\n",
              "      <th>27999</th>\n",
              "      <td>28000</td>\n",
              "      <td>2</td>\n",
              "    </tr>\n",
              "  </tbody>\n",
              "</table>\n",
              "<p>28000 rows × 2 columns</p>\n",
              "</div>\n",
              "    <div class=\"colab-df-buttons\">\n",
              "\n",
              "  <div class=\"colab-df-container\">\n",
              "    <button class=\"colab-df-convert\" onclick=\"convertToInteractive('df-e5735345-1232-47a3-8d1c-d94652026147')\"\n",
              "            title=\"Convert this dataframe to an interactive table.\"\n",
              "            style=\"display:none;\">\n",
              "\n",
              "  <svg xmlns=\"http://www.w3.org/2000/svg\" height=\"24px\" viewBox=\"0 -960 960 960\">\n",
              "    <path d=\"M120-120v-720h720v720H120Zm60-500h600v-160H180v160Zm220 220h160v-160H400v160Zm0 220h160v-160H400v160ZM180-400h160v-160H180v160Zm440 0h160v-160H620v160ZM180-180h160v-160H180v160Zm440 0h160v-160H620v160Z\"/>\n",
              "  </svg>\n",
              "    </button>\n",
              "\n",
              "  <style>\n",
              "    .colab-df-container {\n",
              "      display:flex;\n",
              "      gap: 12px;\n",
              "    }\n",
              "\n",
              "    .colab-df-convert {\n",
              "      background-color: #E8F0FE;\n",
              "      border: none;\n",
              "      border-radius: 50%;\n",
              "      cursor: pointer;\n",
              "      display: none;\n",
              "      fill: #1967D2;\n",
              "      height: 32px;\n",
              "      padding: 0 0 0 0;\n",
              "      width: 32px;\n",
              "    }\n",
              "\n",
              "    .colab-df-convert:hover {\n",
              "      background-color: #E2EBFA;\n",
              "      box-shadow: 0px 1px 2px rgba(60, 64, 67, 0.3), 0px 1px 3px 1px rgba(60, 64, 67, 0.15);\n",
              "      fill: #174EA6;\n",
              "    }\n",
              "\n",
              "    .colab-df-buttons div {\n",
              "      margin-bottom: 4px;\n",
              "    }\n",
              "\n",
              "    [theme=dark] .colab-df-convert {\n",
              "      background-color: #3B4455;\n",
              "      fill: #D2E3FC;\n",
              "    }\n",
              "\n",
              "    [theme=dark] .colab-df-convert:hover {\n",
              "      background-color: #434B5C;\n",
              "      box-shadow: 0px 1px 3px 1px rgba(0, 0, 0, 0.15);\n",
              "      filter: drop-shadow(0px 1px 2px rgba(0, 0, 0, 0.3));\n",
              "      fill: #FFFFFF;\n",
              "    }\n",
              "  </style>\n",
              "\n",
              "    <script>\n",
              "      const buttonEl =\n",
              "        document.querySelector('#df-e5735345-1232-47a3-8d1c-d94652026147 button.colab-df-convert');\n",
              "      buttonEl.style.display =\n",
              "        google.colab.kernel.accessAllowed ? 'block' : 'none';\n",
              "\n",
              "      async function convertToInteractive(key) {\n",
              "        const element = document.querySelector('#df-e5735345-1232-47a3-8d1c-d94652026147');\n",
              "        const dataTable =\n",
              "          await google.colab.kernel.invokeFunction('convertToInteractive',\n",
              "                                                    [key], {});\n",
              "        if (!dataTable) return;\n",
              "\n",
              "        const docLinkHtml = 'Like what you see? Visit the ' +\n",
              "          '<a target=\"_blank\" href=https://colab.research.google.com/notebooks/data_table.ipynb>data table notebook</a>'\n",
              "          + ' to learn more about interactive tables.';\n",
              "        element.innerHTML = '';\n",
              "        dataTable['output_type'] = 'display_data';\n",
              "        await google.colab.output.renderOutput(dataTable, element);\n",
              "        const docLink = document.createElement('div');\n",
              "        docLink.innerHTML = docLinkHtml;\n",
              "        element.appendChild(docLink);\n",
              "      }\n",
              "    </script>\n",
              "  </div>\n",
              "\n",
              "\n",
              "<div id=\"df-3e6bcde8-6500-4176-86b8-c8c7cd66a700\">\n",
              "  <button class=\"colab-df-quickchart\" onclick=\"quickchart('df-3e6bcde8-6500-4176-86b8-c8c7cd66a700')\"\n",
              "            title=\"Suggest charts.\"\n",
              "            style=\"display:none;\">\n",
              "\n",
              "<svg xmlns=\"http://www.w3.org/2000/svg\" height=\"24px\"viewBox=\"0 0 24 24\"\n",
              "     width=\"24px\">\n",
              "    <g>\n",
              "        <path d=\"M19 3H5c-1.1 0-2 .9-2 2v14c0 1.1.9 2 2 2h14c1.1 0 2-.9 2-2V5c0-1.1-.9-2-2-2zM9 17H7v-7h2v7zm4 0h-2V7h2v10zm4 0h-2v-4h2v4z\"/>\n",
              "    </g>\n",
              "</svg>\n",
              "  </button>\n",
              "\n",
              "<style>\n",
              "  .colab-df-quickchart {\n",
              "      --bg-color: #E8F0FE;\n",
              "      --fill-color: #1967D2;\n",
              "      --hover-bg-color: #E2EBFA;\n",
              "      --hover-fill-color: #174EA6;\n",
              "      --disabled-fill-color: #AAA;\n",
              "      --disabled-bg-color: #DDD;\n",
              "  }\n",
              "\n",
              "  [theme=dark] .colab-df-quickchart {\n",
              "      --bg-color: #3B4455;\n",
              "      --fill-color: #D2E3FC;\n",
              "      --hover-bg-color: #434B5C;\n",
              "      --hover-fill-color: #FFFFFF;\n",
              "      --disabled-bg-color: #3B4455;\n",
              "      --disabled-fill-color: #666;\n",
              "  }\n",
              "\n",
              "  .colab-df-quickchart {\n",
              "    background-color: var(--bg-color);\n",
              "    border: none;\n",
              "    border-radius: 50%;\n",
              "    cursor: pointer;\n",
              "    display: none;\n",
              "    fill: var(--fill-color);\n",
              "    height: 32px;\n",
              "    padding: 0;\n",
              "    width: 32px;\n",
              "  }\n",
              "\n",
              "  .colab-df-quickchart:hover {\n",
              "    background-color: var(--hover-bg-color);\n",
              "    box-shadow: 0 1px 2px rgba(60, 64, 67, 0.3), 0 1px 3px 1px rgba(60, 64, 67, 0.15);\n",
              "    fill: var(--button-hover-fill-color);\n",
              "  }\n",
              "\n",
              "  .colab-df-quickchart-complete:disabled,\n",
              "  .colab-df-quickchart-complete:disabled:hover {\n",
              "    background-color: var(--disabled-bg-color);\n",
              "    fill: var(--disabled-fill-color);\n",
              "    box-shadow: none;\n",
              "  }\n",
              "\n",
              "  .colab-df-spinner {\n",
              "    border: 2px solid var(--fill-color);\n",
              "    border-color: transparent;\n",
              "    border-bottom-color: var(--fill-color);\n",
              "    animation:\n",
              "      spin 1s steps(1) infinite;\n",
              "  }\n",
              "\n",
              "  @keyframes spin {\n",
              "    0% {\n",
              "      border-color: transparent;\n",
              "      border-bottom-color: var(--fill-color);\n",
              "      border-left-color: var(--fill-color);\n",
              "    }\n",
              "    20% {\n",
              "      border-color: transparent;\n",
              "      border-left-color: var(--fill-color);\n",
              "      border-top-color: var(--fill-color);\n",
              "    }\n",
              "    30% {\n",
              "      border-color: transparent;\n",
              "      border-left-color: var(--fill-color);\n",
              "      border-top-color: var(--fill-color);\n",
              "      border-right-color: var(--fill-color);\n",
              "    }\n",
              "    40% {\n",
              "      border-color: transparent;\n",
              "      border-right-color: var(--fill-color);\n",
              "      border-top-color: var(--fill-color);\n",
              "    }\n",
              "    60% {\n",
              "      border-color: transparent;\n",
              "      border-right-color: var(--fill-color);\n",
              "    }\n",
              "    80% {\n",
              "      border-color: transparent;\n",
              "      border-right-color: var(--fill-color);\n",
              "      border-bottom-color: var(--fill-color);\n",
              "    }\n",
              "    90% {\n",
              "      border-color: transparent;\n",
              "      border-bottom-color: var(--fill-color);\n",
              "    }\n",
              "  }\n",
              "</style>\n",
              "\n",
              "  <script>\n",
              "    async function quickchart(key) {\n",
              "      const quickchartButtonEl =\n",
              "        document.querySelector('#' + key + ' button');\n",
              "      quickchartButtonEl.disabled = true;  // To prevent multiple clicks.\n",
              "      quickchartButtonEl.classList.add('colab-df-spinner');\n",
              "      try {\n",
              "        const charts = await google.colab.kernel.invokeFunction(\n",
              "            'suggestCharts', [key], {});\n",
              "      } catch (error) {\n",
              "        console.error('Error during call to suggestCharts:', error);\n",
              "      }\n",
              "      quickchartButtonEl.classList.remove('colab-df-spinner');\n",
              "      quickchartButtonEl.classList.add('colab-df-quickchart-complete');\n",
              "    }\n",
              "    (() => {\n",
              "      let quickchartButtonEl =\n",
              "        document.querySelector('#df-3e6bcde8-6500-4176-86b8-c8c7cd66a700 button');\n",
              "      quickchartButtonEl.style.display =\n",
              "        google.colab.kernel.accessAllowed ? 'block' : 'none';\n",
              "    })();\n",
              "  </script>\n",
              "</div>\n",
              "    </div>\n",
              "  </div>\n"
            ]
          },
          "metadata": {},
          "execution_count": 87
        }
      ]
    },
    {
      "cell_type": "code",
      "source": [
        "submission_file.to_csv(\"submission_file.csv\", index=False)"
      ],
      "metadata": {
        "id": "c_vltnRuWiR5"
      },
      "execution_count": 92,
      "outputs": []
    },
    {
      "cell_type": "code",
      "source": [
        "submission_review = pd.read_csv(\"submission_file.csv\")\n",
        "submission_review.head()"
      ],
      "metadata": {
        "colab": {
          "base_uri": "https://localhost:8080/",
          "height": 206
        },
        "id": "fcJv7uUGZGvg",
        "outputId": "16f9f9e1-e441-4f9a-86e2-2bfe2b847d6f"
      },
      "execution_count": 93,
      "outputs": [
        {
          "output_type": "execute_result",
          "data": {
            "text/plain": [
              "   ImageId  Label\n",
              "0        1      2\n",
              "1        2      0\n",
              "2        3      9\n",
              "3        4      0\n",
              "4        5      3"
            ],
            "text/html": [
              "\n",
              "  <div id=\"df-60eeb04e-cf38-44d6-8583-3be9f1c9e273\" class=\"colab-df-container\">\n",
              "    <div>\n",
              "<style scoped>\n",
              "    .dataframe tbody tr th:only-of-type {\n",
              "        vertical-align: middle;\n",
              "    }\n",
              "\n",
              "    .dataframe tbody tr th {\n",
              "        vertical-align: top;\n",
              "    }\n",
              "\n",
              "    .dataframe thead th {\n",
              "        text-align: right;\n",
              "    }\n",
              "</style>\n",
              "<table border=\"1\" class=\"dataframe\">\n",
              "  <thead>\n",
              "    <tr style=\"text-align: right;\">\n",
              "      <th></th>\n",
              "      <th>ImageId</th>\n",
              "      <th>Label</th>\n",
              "    </tr>\n",
              "  </thead>\n",
              "  <tbody>\n",
              "    <tr>\n",
              "      <th>0</th>\n",
              "      <td>1</td>\n",
              "      <td>2</td>\n",
              "    </tr>\n",
              "    <tr>\n",
              "      <th>1</th>\n",
              "      <td>2</td>\n",
              "      <td>0</td>\n",
              "    </tr>\n",
              "    <tr>\n",
              "      <th>2</th>\n",
              "      <td>3</td>\n",
              "      <td>9</td>\n",
              "    </tr>\n",
              "    <tr>\n",
              "      <th>3</th>\n",
              "      <td>4</td>\n",
              "      <td>0</td>\n",
              "    </tr>\n",
              "    <tr>\n",
              "      <th>4</th>\n",
              "      <td>5</td>\n",
              "      <td>3</td>\n",
              "    </tr>\n",
              "  </tbody>\n",
              "</table>\n",
              "</div>\n",
              "    <div class=\"colab-df-buttons\">\n",
              "\n",
              "  <div class=\"colab-df-container\">\n",
              "    <button class=\"colab-df-convert\" onclick=\"convertToInteractive('df-60eeb04e-cf38-44d6-8583-3be9f1c9e273')\"\n",
              "            title=\"Convert this dataframe to an interactive table.\"\n",
              "            style=\"display:none;\">\n",
              "\n",
              "  <svg xmlns=\"http://www.w3.org/2000/svg\" height=\"24px\" viewBox=\"0 -960 960 960\">\n",
              "    <path d=\"M120-120v-720h720v720H120Zm60-500h600v-160H180v160Zm220 220h160v-160H400v160Zm0 220h160v-160H400v160ZM180-400h160v-160H180v160Zm440 0h160v-160H620v160ZM180-180h160v-160H180v160Zm440 0h160v-160H620v160Z\"/>\n",
              "  </svg>\n",
              "    </button>\n",
              "\n",
              "  <style>\n",
              "    .colab-df-container {\n",
              "      display:flex;\n",
              "      gap: 12px;\n",
              "    }\n",
              "\n",
              "    .colab-df-convert {\n",
              "      background-color: #E8F0FE;\n",
              "      border: none;\n",
              "      border-radius: 50%;\n",
              "      cursor: pointer;\n",
              "      display: none;\n",
              "      fill: #1967D2;\n",
              "      height: 32px;\n",
              "      padding: 0 0 0 0;\n",
              "      width: 32px;\n",
              "    }\n",
              "\n",
              "    .colab-df-convert:hover {\n",
              "      background-color: #E2EBFA;\n",
              "      box-shadow: 0px 1px 2px rgba(60, 64, 67, 0.3), 0px 1px 3px 1px rgba(60, 64, 67, 0.15);\n",
              "      fill: #174EA6;\n",
              "    }\n",
              "\n",
              "    .colab-df-buttons div {\n",
              "      margin-bottom: 4px;\n",
              "    }\n",
              "\n",
              "    [theme=dark] .colab-df-convert {\n",
              "      background-color: #3B4455;\n",
              "      fill: #D2E3FC;\n",
              "    }\n",
              "\n",
              "    [theme=dark] .colab-df-convert:hover {\n",
              "      background-color: #434B5C;\n",
              "      box-shadow: 0px 1px 3px 1px rgba(0, 0, 0, 0.15);\n",
              "      filter: drop-shadow(0px 1px 2px rgba(0, 0, 0, 0.3));\n",
              "      fill: #FFFFFF;\n",
              "    }\n",
              "  </style>\n",
              "\n",
              "    <script>\n",
              "      const buttonEl =\n",
              "        document.querySelector('#df-60eeb04e-cf38-44d6-8583-3be9f1c9e273 button.colab-df-convert');\n",
              "      buttonEl.style.display =\n",
              "        google.colab.kernel.accessAllowed ? 'block' : 'none';\n",
              "\n",
              "      async function convertToInteractive(key) {\n",
              "        const element = document.querySelector('#df-60eeb04e-cf38-44d6-8583-3be9f1c9e273');\n",
              "        const dataTable =\n",
              "          await google.colab.kernel.invokeFunction('convertToInteractive',\n",
              "                                                    [key], {});\n",
              "        if (!dataTable) return;\n",
              "\n",
              "        const docLinkHtml = 'Like what you see? Visit the ' +\n",
              "          '<a target=\"_blank\" href=https://colab.research.google.com/notebooks/data_table.ipynb>data table notebook</a>'\n",
              "          + ' to learn more about interactive tables.';\n",
              "        element.innerHTML = '';\n",
              "        dataTable['output_type'] = 'display_data';\n",
              "        await google.colab.output.renderOutput(dataTable, element);\n",
              "        const docLink = document.createElement('div');\n",
              "        docLink.innerHTML = docLinkHtml;\n",
              "        element.appendChild(docLink);\n",
              "      }\n",
              "    </script>\n",
              "  </div>\n",
              "\n",
              "\n",
              "<div id=\"df-505fc7be-589d-4851-b972-5cfd98316adb\">\n",
              "  <button class=\"colab-df-quickchart\" onclick=\"quickchart('df-505fc7be-589d-4851-b972-5cfd98316adb')\"\n",
              "            title=\"Suggest charts.\"\n",
              "            style=\"display:none;\">\n",
              "\n",
              "<svg xmlns=\"http://www.w3.org/2000/svg\" height=\"24px\"viewBox=\"0 0 24 24\"\n",
              "     width=\"24px\">\n",
              "    <g>\n",
              "        <path d=\"M19 3H5c-1.1 0-2 .9-2 2v14c0 1.1.9 2 2 2h14c1.1 0 2-.9 2-2V5c0-1.1-.9-2-2-2zM9 17H7v-7h2v7zm4 0h-2V7h2v10zm4 0h-2v-4h2v4z\"/>\n",
              "    </g>\n",
              "</svg>\n",
              "  </button>\n",
              "\n",
              "<style>\n",
              "  .colab-df-quickchart {\n",
              "      --bg-color: #E8F0FE;\n",
              "      --fill-color: #1967D2;\n",
              "      --hover-bg-color: #E2EBFA;\n",
              "      --hover-fill-color: #174EA6;\n",
              "      --disabled-fill-color: #AAA;\n",
              "      --disabled-bg-color: #DDD;\n",
              "  }\n",
              "\n",
              "  [theme=dark] .colab-df-quickchart {\n",
              "      --bg-color: #3B4455;\n",
              "      --fill-color: #D2E3FC;\n",
              "      --hover-bg-color: #434B5C;\n",
              "      --hover-fill-color: #FFFFFF;\n",
              "      --disabled-bg-color: #3B4455;\n",
              "      --disabled-fill-color: #666;\n",
              "  }\n",
              "\n",
              "  .colab-df-quickchart {\n",
              "    background-color: var(--bg-color);\n",
              "    border: none;\n",
              "    border-radius: 50%;\n",
              "    cursor: pointer;\n",
              "    display: none;\n",
              "    fill: var(--fill-color);\n",
              "    height: 32px;\n",
              "    padding: 0;\n",
              "    width: 32px;\n",
              "  }\n",
              "\n",
              "  .colab-df-quickchart:hover {\n",
              "    background-color: var(--hover-bg-color);\n",
              "    box-shadow: 0 1px 2px rgba(60, 64, 67, 0.3), 0 1px 3px 1px rgba(60, 64, 67, 0.15);\n",
              "    fill: var(--button-hover-fill-color);\n",
              "  }\n",
              "\n",
              "  .colab-df-quickchart-complete:disabled,\n",
              "  .colab-df-quickchart-complete:disabled:hover {\n",
              "    background-color: var(--disabled-bg-color);\n",
              "    fill: var(--disabled-fill-color);\n",
              "    box-shadow: none;\n",
              "  }\n",
              "\n",
              "  .colab-df-spinner {\n",
              "    border: 2px solid var(--fill-color);\n",
              "    border-color: transparent;\n",
              "    border-bottom-color: var(--fill-color);\n",
              "    animation:\n",
              "      spin 1s steps(1) infinite;\n",
              "  }\n",
              "\n",
              "  @keyframes spin {\n",
              "    0% {\n",
              "      border-color: transparent;\n",
              "      border-bottom-color: var(--fill-color);\n",
              "      border-left-color: var(--fill-color);\n",
              "    }\n",
              "    20% {\n",
              "      border-color: transparent;\n",
              "      border-left-color: var(--fill-color);\n",
              "      border-top-color: var(--fill-color);\n",
              "    }\n",
              "    30% {\n",
              "      border-color: transparent;\n",
              "      border-left-color: var(--fill-color);\n",
              "      border-top-color: var(--fill-color);\n",
              "      border-right-color: var(--fill-color);\n",
              "    }\n",
              "    40% {\n",
              "      border-color: transparent;\n",
              "      border-right-color: var(--fill-color);\n",
              "      border-top-color: var(--fill-color);\n",
              "    }\n",
              "    60% {\n",
              "      border-color: transparent;\n",
              "      border-right-color: var(--fill-color);\n",
              "    }\n",
              "    80% {\n",
              "      border-color: transparent;\n",
              "      border-right-color: var(--fill-color);\n",
              "      border-bottom-color: var(--fill-color);\n",
              "    }\n",
              "    90% {\n",
              "      border-color: transparent;\n",
              "      border-bottom-color: var(--fill-color);\n",
              "    }\n",
              "  }\n",
              "</style>\n",
              "\n",
              "  <script>\n",
              "    async function quickchart(key) {\n",
              "      const quickchartButtonEl =\n",
              "        document.querySelector('#' + key + ' button');\n",
              "      quickchartButtonEl.disabled = true;  // To prevent multiple clicks.\n",
              "      quickchartButtonEl.classList.add('colab-df-spinner');\n",
              "      try {\n",
              "        const charts = await google.colab.kernel.invokeFunction(\n",
              "            'suggestCharts', [key], {});\n",
              "      } catch (error) {\n",
              "        console.error('Error during call to suggestCharts:', error);\n",
              "      }\n",
              "      quickchartButtonEl.classList.remove('colab-df-spinner');\n",
              "      quickchartButtonEl.classList.add('colab-df-quickchart-complete');\n",
              "    }\n",
              "    (() => {\n",
              "      let quickchartButtonEl =\n",
              "        document.querySelector('#df-505fc7be-589d-4851-b972-5cfd98316adb button');\n",
              "      quickchartButtonEl.style.display =\n",
              "        google.colab.kernel.accessAllowed ? 'block' : 'none';\n",
              "    })();\n",
              "  </script>\n",
              "</div>\n",
              "    </div>\n",
              "  </div>\n"
            ]
          },
          "metadata": {},
          "execution_count": 93
        }
      ]
    }
  ]
}