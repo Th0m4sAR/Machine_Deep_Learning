{
  "cells": [
    {
      "cell_type": "markdown",
      "metadata": {
        "id": "3f5wg_mxzWBq"
      },
      "source": [
        "# Binary Classification with a Software Defects Dataset\n",
        "* For more information and the datasets: https://www.kaggle.com/competitions/playground-series-s3e23/overview"
      ]
    },
    {
      "cell_type": "markdown",
      "metadata": {
        "id": "snmwMsjhzc3L"
      },
      "source": [
        "## Import Data"
      ]
    },
    {
      "cell_type": "code",
      "execution_count": 109,
      "metadata": {
        "id": "IaIi7PogzblH"
      },
      "outputs": [],
      "source": [
        "import pandas as pd\n",
        "import numpy as np\n",
        "import matplotlib.pyplot as plt"
      ]
    },
    {
      "cell_type": "code",
      "execution_count": 110,
      "metadata": {
        "id": "4BMDTigDzhmY"
      },
      "outputs": [],
      "source": [
        "train_data = pd.read_csv(\"/content/drive/MyDrive/Data_Science/playground-series-s3e23/train.csv\")\n",
        "test_data = pd.read_csv(\"/content/drive/MyDrive/Data_Science/playground-series-s3e23/test.csv\")"
      ]
    },
    {
      "cell_type": "code",
      "execution_count": 111,
      "metadata": {
        "colab": {
          "base_uri": "https://localhost:8080/"
        },
        "id": "s1BRtw65KLUv",
        "outputId": "e16c55be-b6b9-4721-eb9d-8694ea246b77"
      },
      "outputs": [
        {
          "output_type": "execute_result",
          "data": {
            "text/plain": [
              "Index(['id', 'loc', 'v(g)', 'ev(g)', 'iv(g)', 'n', 'v', 'l', 'd', 'i', 'e',\n",
              "       'b', 't', 'lOCode', 'lOComment', 'lOBlank', 'locCodeAndComment',\n",
              "       'uniq_Op', 'uniq_Opnd', 'total_Op', 'total_Opnd', 'branchCount',\n",
              "       'defects'],\n",
              "      dtype='object')"
            ]
          },
          "metadata": {},
          "execution_count": 111
        }
      ],
      "source": [
        "train_data.columns"
      ]
    },
    {
      "cell_type": "code",
      "execution_count": 112,
      "metadata": {
        "id": "3Yzgq7PjKNum"
      },
      "outputs": [],
      "source": [
        "data = train_data.drop([\"id\", \"defects\"], axis=1)\n",
        "target = train_data[\"defects\"]"
      ]
    },
    {
      "cell_type": "markdown",
      "metadata": {
        "id": "UrM91ujUzlXo"
      },
      "source": [
        "## Visualize Data"
      ]
    },
    {
      "cell_type": "code",
      "execution_count": 113,
      "metadata": {
        "colab": {
          "base_uri": "https://localhost:8080/",
          "height": 256
        },
        "id": "cWGKw93zzn50",
        "outputId": "f67ed0df-2ac6-46a4-c376-b2da727c0627"
      },
      "outputs": [
        {
          "output_type": "execute_result",
          "data": {
            "text/plain": [
              "    loc  v(g)  ev(g)  iv(g)     n       v     l      d      i        e  ...  \\\n",
              "0  22.0   3.0    1.0    2.0  60.0  278.63  0.06  19.56  14.25  5448.79  ...   \n",
              "1  14.0   2.0    1.0    2.0  32.0  151.27  0.14   7.00  21.11   936.71  ...   \n",
              "2  11.0   2.0    1.0    2.0  45.0  197.65  0.11   8.05  22.76  1754.01  ...   \n",
              "3   8.0   1.0    1.0    1.0  23.0   94.01  0.19   5.25  17.86   473.66  ...   \n",
              "4  11.0   2.0    1.0    2.0  17.0   60.94  0.18   5.63  12.44   365.67  ...   \n",
              "\n",
              "        t  lOCode  lOComment  lOBlank  locCodeAndComment  uniq_Op  uniq_Opnd  \\\n",
              "0  302.71      17          1        1                  0     16.0        9.0   \n",
              "1   52.04      11          0        1                  0     11.0       11.0   \n",
              "2   97.45       8          0        1                  0     12.0       11.0   \n",
              "3   26.31       4          0        2                  0      8.0        6.0   \n",
              "4   20.31       7          0        2                  0      7.0        6.0   \n",
              "\n",
              "   total_Op  total_Opnd  branchCount  \n",
              "0      38.0        22.0          5.0  \n",
              "1      18.0        14.0          3.0  \n",
              "2      28.0        17.0          3.0  \n",
              "3      16.0         7.0          1.0  \n",
              "4      10.0        10.0          3.0  \n",
              "\n",
              "[5 rows x 21 columns]"
            ],
            "text/html": [
              "\n",
              "  <div id=\"df-ef17ed96-66d0-4676-8c81-0eed654db6ee\" class=\"colab-df-container\">\n",
              "    <div>\n",
              "<style scoped>\n",
              "    .dataframe tbody tr th:only-of-type {\n",
              "        vertical-align: middle;\n",
              "    }\n",
              "\n",
              "    .dataframe tbody tr th {\n",
              "        vertical-align: top;\n",
              "    }\n",
              "\n",
              "    .dataframe thead th {\n",
              "        text-align: right;\n",
              "    }\n",
              "</style>\n",
              "<table border=\"1\" class=\"dataframe\">\n",
              "  <thead>\n",
              "    <tr style=\"text-align: right;\">\n",
              "      <th></th>\n",
              "      <th>loc</th>\n",
              "      <th>v(g)</th>\n",
              "      <th>ev(g)</th>\n",
              "      <th>iv(g)</th>\n",
              "      <th>n</th>\n",
              "      <th>v</th>\n",
              "      <th>l</th>\n",
              "      <th>d</th>\n",
              "      <th>i</th>\n",
              "      <th>e</th>\n",
              "      <th>...</th>\n",
              "      <th>t</th>\n",
              "      <th>lOCode</th>\n",
              "      <th>lOComment</th>\n",
              "      <th>lOBlank</th>\n",
              "      <th>locCodeAndComment</th>\n",
              "      <th>uniq_Op</th>\n",
              "      <th>uniq_Opnd</th>\n",
              "      <th>total_Op</th>\n",
              "      <th>total_Opnd</th>\n",
              "      <th>branchCount</th>\n",
              "    </tr>\n",
              "  </thead>\n",
              "  <tbody>\n",
              "    <tr>\n",
              "      <th>0</th>\n",
              "      <td>22.0</td>\n",
              "      <td>3.0</td>\n",
              "      <td>1.0</td>\n",
              "      <td>2.0</td>\n",
              "      <td>60.0</td>\n",
              "      <td>278.63</td>\n",
              "      <td>0.06</td>\n",
              "      <td>19.56</td>\n",
              "      <td>14.25</td>\n",
              "      <td>5448.79</td>\n",
              "      <td>...</td>\n",
              "      <td>302.71</td>\n",
              "      <td>17</td>\n",
              "      <td>1</td>\n",
              "      <td>1</td>\n",
              "      <td>0</td>\n",
              "      <td>16.0</td>\n",
              "      <td>9.0</td>\n",
              "      <td>38.0</td>\n",
              "      <td>22.0</td>\n",
              "      <td>5.0</td>\n",
              "    </tr>\n",
              "    <tr>\n",
              "      <th>1</th>\n",
              "      <td>14.0</td>\n",
              "      <td>2.0</td>\n",
              "      <td>1.0</td>\n",
              "      <td>2.0</td>\n",
              "      <td>32.0</td>\n",
              "      <td>151.27</td>\n",
              "      <td>0.14</td>\n",
              "      <td>7.00</td>\n",
              "      <td>21.11</td>\n",
              "      <td>936.71</td>\n",
              "      <td>...</td>\n",
              "      <td>52.04</td>\n",
              "      <td>11</td>\n",
              "      <td>0</td>\n",
              "      <td>1</td>\n",
              "      <td>0</td>\n",
              "      <td>11.0</td>\n",
              "      <td>11.0</td>\n",
              "      <td>18.0</td>\n",
              "      <td>14.0</td>\n",
              "      <td>3.0</td>\n",
              "    </tr>\n",
              "    <tr>\n",
              "      <th>2</th>\n",
              "      <td>11.0</td>\n",
              "      <td>2.0</td>\n",
              "      <td>1.0</td>\n",
              "      <td>2.0</td>\n",
              "      <td>45.0</td>\n",
              "      <td>197.65</td>\n",
              "      <td>0.11</td>\n",
              "      <td>8.05</td>\n",
              "      <td>22.76</td>\n",
              "      <td>1754.01</td>\n",
              "      <td>...</td>\n",
              "      <td>97.45</td>\n",
              "      <td>8</td>\n",
              "      <td>0</td>\n",
              "      <td>1</td>\n",
              "      <td>0</td>\n",
              "      <td>12.0</td>\n",
              "      <td>11.0</td>\n",
              "      <td>28.0</td>\n",
              "      <td>17.0</td>\n",
              "      <td>3.0</td>\n",
              "    </tr>\n",
              "    <tr>\n",
              "      <th>3</th>\n",
              "      <td>8.0</td>\n",
              "      <td>1.0</td>\n",
              "      <td>1.0</td>\n",
              "      <td>1.0</td>\n",
              "      <td>23.0</td>\n",
              "      <td>94.01</td>\n",
              "      <td>0.19</td>\n",
              "      <td>5.25</td>\n",
              "      <td>17.86</td>\n",
              "      <td>473.66</td>\n",
              "      <td>...</td>\n",
              "      <td>26.31</td>\n",
              "      <td>4</td>\n",
              "      <td>0</td>\n",
              "      <td>2</td>\n",
              "      <td>0</td>\n",
              "      <td>8.0</td>\n",
              "      <td>6.0</td>\n",
              "      <td>16.0</td>\n",
              "      <td>7.0</td>\n",
              "      <td>1.0</td>\n",
              "    </tr>\n",
              "    <tr>\n",
              "      <th>4</th>\n",
              "      <td>11.0</td>\n",
              "      <td>2.0</td>\n",
              "      <td>1.0</td>\n",
              "      <td>2.0</td>\n",
              "      <td>17.0</td>\n",
              "      <td>60.94</td>\n",
              "      <td>0.18</td>\n",
              "      <td>5.63</td>\n",
              "      <td>12.44</td>\n",
              "      <td>365.67</td>\n",
              "      <td>...</td>\n",
              "      <td>20.31</td>\n",
              "      <td>7</td>\n",
              "      <td>0</td>\n",
              "      <td>2</td>\n",
              "      <td>0</td>\n",
              "      <td>7.0</td>\n",
              "      <td>6.0</td>\n",
              "      <td>10.0</td>\n",
              "      <td>10.0</td>\n",
              "      <td>3.0</td>\n",
              "    </tr>\n",
              "  </tbody>\n",
              "</table>\n",
              "<p>5 rows × 21 columns</p>\n",
              "</div>\n",
              "    <div class=\"colab-df-buttons\">\n",
              "\n",
              "  <div class=\"colab-df-container\">\n",
              "    <button class=\"colab-df-convert\" onclick=\"convertToInteractive('df-ef17ed96-66d0-4676-8c81-0eed654db6ee')\"\n",
              "            title=\"Convert this dataframe to an interactive table.\"\n",
              "            style=\"display:none;\">\n",
              "\n",
              "  <svg xmlns=\"http://www.w3.org/2000/svg\" height=\"24px\" viewBox=\"0 -960 960 960\">\n",
              "    <path d=\"M120-120v-720h720v720H120Zm60-500h600v-160H180v160Zm220 220h160v-160H400v160Zm0 220h160v-160H400v160ZM180-400h160v-160H180v160Zm440 0h160v-160H620v160ZM180-180h160v-160H180v160Zm440 0h160v-160H620v160Z\"/>\n",
              "  </svg>\n",
              "    </button>\n",
              "\n",
              "  <style>\n",
              "    .colab-df-container {\n",
              "      display:flex;\n",
              "      gap: 12px;\n",
              "    }\n",
              "\n",
              "    .colab-df-convert {\n",
              "      background-color: #E8F0FE;\n",
              "      border: none;\n",
              "      border-radius: 50%;\n",
              "      cursor: pointer;\n",
              "      display: none;\n",
              "      fill: #1967D2;\n",
              "      height: 32px;\n",
              "      padding: 0 0 0 0;\n",
              "      width: 32px;\n",
              "    }\n",
              "\n",
              "    .colab-df-convert:hover {\n",
              "      background-color: #E2EBFA;\n",
              "      box-shadow: 0px 1px 2px rgba(60, 64, 67, 0.3), 0px 1px 3px 1px rgba(60, 64, 67, 0.15);\n",
              "      fill: #174EA6;\n",
              "    }\n",
              "\n",
              "    .colab-df-buttons div {\n",
              "      margin-bottom: 4px;\n",
              "    }\n",
              "\n",
              "    [theme=dark] .colab-df-convert {\n",
              "      background-color: #3B4455;\n",
              "      fill: #D2E3FC;\n",
              "    }\n",
              "\n",
              "    [theme=dark] .colab-df-convert:hover {\n",
              "      background-color: #434B5C;\n",
              "      box-shadow: 0px 1px 3px 1px rgba(0, 0, 0, 0.15);\n",
              "      filter: drop-shadow(0px 1px 2px rgba(0, 0, 0, 0.3));\n",
              "      fill: #FFFFFF;\n",
              "    }\n",
              "  </style>\n",
              "\n",
              "    <script>\n",
              "      const buttonEl =\n",
              "        document.querySelector('#df-ef17ed96-66d0-4676-8c81-0eed654db6ee button.colab-df-convert');\n",
              "      buttonEl.style.display =\n",
              "        google.colab.kernel.accessAllowed ? 'block' : 'none';\n",
              "\n",
              "      async function convertToInteractive(key) {\n",
              "        const element = document.querySelector('#df-ef17ed96-66d0-4676-8c81-0eed654db6ee');\n",
              "        const dataTable =\n",
              "          await google.colab.kernel.invokeFunction('convertToInteractive',\n",
              "                                                    [key], {});\n",
              "        if (!dataTable) return;\n",
              "\n",
              "        const docLinkHtml = 'Like what you see? Visit the ' +\n",
              "          '<a target=\"_blank\" href=https://colab.research.google.com/notebooks/data_table.ipynb>data table notebook</a>'\n",
              "          + ' to learn more about interactive tables.';\n",
              "        element.innerHTML = '';\n",
              "        dataTable['output_type'] = 'display_data';\n",
              "        await google.colab.output.renderOutput(dataTable, element);\n",
              "        const docLink = document.createElement('div');\n",
              "        docLink.innerHTML = docLinkHtml;\n",
              "        element.appendChild(docLink);\n",
              "      }\n",
              "    </script>\n",
              "  </div>\n",
              "\n",
              "\n",
              "<div id=\"df-c3f62dec-cea3-4ec3-95bb-3920845ef64f\">\n",
              "  <button class=\"colab-df-quickchart\" onclick=\"quickchart('df-c3f62dec-cea3-4ec3-95bb-3920845ef64f')\"\n",
              "            title=\"Suggest charts.\"\n",
              "            style=\"display:none;\">\n",
              "\n",
              "<svg xmlns=\"http://www.w3.org/2000/svg\" height=\"24px\"viewBox=\"0 0 24 24\"\n",
              "     width=\"24px\">\n",
              "    <g>\n",
              "        <path d=\"M19 3H5c-1.1 0-2 .9-2 2v14c0 1.1.9 2 2 2h14c1.1 0 2-.9 2-2V5c0-1.1-.9-2-2-2zM9 17H7v-7h2v7zm4 0h-2V7h2v10zm4 0h-2v-4h2v4z\"/>\n",
              "    </g>\n",
              "</svg>\n",
              "  </button>\n",
              "\n",
              "<style>\n",
              "  .colab-df-quickchart {\n",
              "      --bg-color: #E8F0FE;\n",
              "      --fill-color: #1967D2;\n",
              "      --hover-bg-color: #E2EBFA;\n",
              "      --hover-fill-color: #174EA6;\n",
              "      --disabled-fill-color: #AAA;\n",
              "      --disabled-bg-color: #DDD;\n",
              "  }\n",
              "\n",
              "  [theme=dark] .colab-df-quickchart {\n",
              "      --bg-color: #3B4455;\n",
              "      --fill-color: #D2E3FC;\n",
              "      --hover-bg-color: #434B5C;\n",
              "      --hover-fill-color: #FFFFFF;\n",
              "      --disabled-bg-color: #3B4455;\n",
              "      --disabled-fill-color: #666;\n",
              "  }\n",
              "\n",
              "  .colab-df-quickchart {\n",
              "    background-color: var(--bg-color);\n",
              "    border: none;\n",
              "    border-radius: 50%;\n",
              "    cursor: pointer;\n",
              "    display: none;\n",
              "    fill: var(--fill-color);\n",
              "    height: 32px;\n",
              "    padding: 0;\n",
              "    width: 32px;\n",
              "  }\n",
              "\n",
              "  .colab-df-quickchart:hover {\n",
              "    background-color: var(--hover-bg-color);\n",
              "    box-shadow: 0 1px 2px rgba(60, 64, 67, 0.3), 0 1px 3px 1px rgba(60, 64, 67, 0.15);\n",
              "    fill: var(--button-hover-fill-color);\n",
              "  }\n",
              "\n",
              "  .colab-df-quickchart-complete:disabled,\n",
              "  .colab-df-quickchart-complete:disabled:hover {\n",
              "    background-color: var(--disabled-bg-color);\n",
              "    fill: var(--disabled-fill-color);\n",
              "    box-shadow: none;\n",
              "  }\n",
              "\n",
              "  .colab-df-spinner {\n",
              "    border: 2px solid var(--fill-color);\n",
              "    border-color: transparent;\n",
              "    border-bottom-color: var(--fill-color);\n",
              "    animation:\n",
              "      spin 1s steps(1) infinite;\n",
              "  }\n",
              "\n",
              "  @keyframes spin {\n",
              "    0% {\n",
              "      border-color: transparent;\n",
              "      border-bottom-color: var(--fill-color);\n",
              "      border-left-color: var(--fill-color);\n",
              "    }\n",
              "    20% {\n",
              "      border-color: transparent;\n",
              "      border-left-color: var(--fill-color);\n",
              "      border-top-color: var(--fill-color);\n",
              "    }\n",
              "    30% {\n",
              "      border-color: transparent;\n",
              "      border-left-color: var(--fill-color);\n",
              "      border-top-color: var(--fill-color);\n",
              "      border-right-color: var(--fill-color);\n",
              "    }\n",
              "    40% {\n",
              "      border-color: transparent;\n",
              "      border-right-color: var(--fill-color);\n",
              "      border-top-color: var(--fill-color);\n",
              "    }\n",
              "    60% {\n",
              "      border-color: transparent;\n",
              "      border-right-color: var(--fill-color);\n",
              "    }\n",
              "    80% {\n",
              "      border-color: transparent;\n",
              "      border-right-color: var(--fill-color);\n",
              "      border-bottom-color: var(--fill-color);\n",
              "    }\n",
              "    90% {\n",
              "      border-color: transparent;\n",
              "      border-bottom-color: var(--fill-color);\n",
              "    }\n",
              "  }\n",
              "</style>\n",
              "\n",
              "  <script>\n",
              "    async function quickchart(key) {\n",
              "      const quickchartButtonEl =\n",
              "        document.querySelector('#' + key + ' button');\n",
              "      quickchartButtonEl.disabled = true;  // To prevent multiple clicks.\n",
              "      quickchartButtonEl.classList.add('colab-df-spinner');\n",
              "      try {\n",
              "        const charts = await google.colab.kernel.invokeFunction(\n",
              "            'suggestCharts', [key], {});\n",
              "      } catch (error) {\n",
              "        console.error('Error during call to suggestCharts:', error);\n",
              "      }\n",
              "      quickchartButtonEl.classList.remove('colab-df-spinner');\n",
              "      quickchartButtonEl.classList.add('colab-df-quickchart-complete');\n",
              "    }\n",
              "    (() => {\n",
              "      let quickchartButtonEl =\n",
              "        document.querySelector('#df-c3f62dec-cea3-4ec3-95bb-3920845ef64f button');\n",
              "      quickchartButtonEl.style.display =\n",
              "        google.colab.kernel.accessAllowed ? 'block' : 'none';\n",
              "    })();\n",
              "  </script>\n",
              "</div>\n",
              "    </div>\n",
              "  </div>\n"
            ]
          },
          "metadata": {},
          "execution_count": 113
        }
      ],
      "source": [
        "data.head()"
      ]
    },
    {
      "cell_type": "code",
      "execution_count": 114,
      "metadata": {
        "colab": {
          "base_uri": "https://localhost:8080/",
          "height": 444
        },
        "id": "soWJSptF9can",
        "outputId": "ac6879a7-7cb8-4b8f-d6c2-478c10b1af2e"
      },
      "outputs": [
        {
          "output_type": "execute_result",
          "data": {
            "text/plain": [
              "          loc  v(g)  ev(g)  iv(g)      n        v     l      d      i  \\\n",
              "3         8.0   1.0    1.0    1.0   23.0    94.01  0.19   5.25  17.86   \n",
              "11        8.0   1.0    1.0    1.0   15.0    51.89  0.19   5.25   9.88   \n",
              "14        6.0   1.0    1.0    1.0   17.0    58.81  0.19   5.25  11.20   \n",
              "16      126.0  13.0    6.0    7.0    0.0     0.00  0.00   0.00   0.00   \n",
              "18       40.0   9.0    3.0    7.0  151.0   823.92  0.04  23.33  35.54   \n",
              "...       ...   ...    ...    ...    ...      ...   ...    ...    ...   \n",
              "101739   79.0  12.0    7.0    8.0    0.0     0.00  0.00   0.00   0.00   \n",
              "101741   23.0   3.0    1.0    3.0   64.0   310.91  0.09  11.20  27.21   \n",
              "101746   48.0   9.0    4.0    7.0  129.0   713.14  0.04  26.00  27.24   \n",
              "101748  104.0  23.0    8.0   12.0  396.0  2467.19  0.02  45.54  56.27   \n",
              "101749   51.0   4.0    1.0    3.0  171.0  1022.11  0.03  38.46  26.74   \n",
              "\n",
              "                e  ...        t  lOCode  lOComment  lOBlank  \\\n",
              "3          473.66  ...    26.31       4          0        2   \n",
              "11         272.43  ...    15.14       5          0        1   \n",
              "14         276.75  ...    15.38       3          0        0   \n",
              "16           0.00  ...     0.00       0          0        0   \n",
              "18       22476.10  ...  1248.67      32          0        8   \n",
              "...           ...  ...      ...     ...        ...      ...   \n",
              "101739       0.00  ...     0.00       0          0        0   \n",
              "101741    3318.18  ...   184.34      14          0        2   \n",
              "101746   18539.72  ...  1029.98      35          0       11   \n",
              "101748  116471.96  ...  6470.66      85          7        7   \n",
              "101749   38520.22  ...  2134.19      43          0        5   \n",
              "\n",
              "        locCodeAndComment  uniq_Op  uniq_Opnd  total_Op  total_Opnd  \\\n",
              "3                       0      8.0        6.0      16.0         7.0   \n",
              "11                      0      7.0        4.0       8.0         7.0   \n",
              "14                      0      7.0        4.0      12.0         6.0   \n",
              "16                      0      0.0        0.0       0.0         0.0   \n",
              "18                      2     18.0       21.0      95.0        56.0   \n",
              "...                   ...      ...        ...       ...         ...   \n",
              "101739                  0      0.0        0.0       0.0         0.0   \n",
              "101741                  0     14.0       15.0      33.0        29.0   \n",
              "101746                  0     26.0       22.0      77.0        52.0   \n",
              "101748                  0     29.0       54.0     249.0       147.0   \n",
              "101749                  0     18.0       19.0      95.0        76.0   \n",
              "\n",
              "        branchCount  \n",
              "3               1.0  \n",
              "11              1.0  \n",
              "14              1.0  \n",
              "16             25.0  \n",
              "18             17.0  \n",
              "...             ...  \n",
              "101739         23.0  \n",
              "101741          5.0  \n",
              "101746         15.0  \n",
              "101748         45.0  \n",
              "101749          7.0  \n",
              "\n",
              "[23064 rows x 21 columns]"
            ],
            "text/html": [
              "\n",
              "  <div id=\"df-f03c73f1-c6a3-43e3-af1c-a832d619e540\" class=\"colab-df-container\">\n",
              "    <div>\n",
              "<style scoped>\n",
              "    .dataframe tbody tr th:only-of-type {\n",
              "        vertical-align: middle;\n",
              "    }\n",
              "\n",
              "    .dataframe tbody tr th {\n",
              "        vertical-align: top;\n",
              "    }\n",
              "\n",
              "    .dataframe thead th {\n",
              "        text-align: right;\n",
              "    }\n",
              "</style>\n",
              "<table border=\"1\" class=\"dataframe\">\n",
              "  <thead>\n",
              "    <tr style=\"text-align: right;\">\n",
              "      <th></th>\n",
              "      <th>loc</th>\n",
              "      <th>v(g)</th>\n",
              "      <th>ev(g)</th>\n",
              "      <th>iv(g)</th>\n",
              "      <th>n</th>\n",
              "      <th>v</th>\n",
              "      <th>l</th>\n",
              "      <th>d</th>\n",
              "      <th>i</th>\n",
              "      <th>e</th>\n",
              "      <th>...</th>\n",
              "      <th>t</th>\n",
              "      <th>lOCode</th>\n",
              "      <th>lOComment</th>\n",
              "      <th>lOBlank</th>\n",
              "      <th>locCodeAndComment</th>\n",
              "      <th>uniq_Op</th>\n",
              "      <th>uniq_Opnd</th>\n",
              "      <th>total_Op</th>\n",
              "      <th>total_Opnd</th>\n",
              "      <th>branchCount</th>\n",
              "    </tr>\n",
              "  </thead>\n",
              "  <tbody>\n",
              "    <tr>\n",
              "      <th>3</th>\n",
              "      <td>8.0</td>\n",
              "      <td>1.0</td>\n",
              "      <td>1.0</td>\n",
              "      <td>1.0</td>\n",
              "      <td>23.0</td>\n",
              "      <td>94.01</td>\n",
              "      <td>0.19</td>\n",
              "      <td>5.25</td>\n",
              "      <td>17.86</td>\n",
              "      <td>473.66</td>\n",
              "      <td>...</td>\n",
              "      <td>26.31</td>\n",
              "      <td>4</td>\n",
              "      <td>0</td>\n",
              "      <td>2</td>\n",
              "      <td>0</td>\n",
              "      <td>8.0</td>\n",
              "      <td>6.0</td>\n",
              "      <td>16.0</td>\n",
              "      <td>7.0</td>\n",
              "      <td>1.0</td>\n",
              "    </tr>\n",
              "    <tr>\n",
              "      <th>11</th>\n",
              "      <td>8.0</td>\n",
              "      <td>1.0</td>\n",
              "      <td>1.0</td>\n",
              "      <td>1.0</td>\n",
              "      <td>15.0</td>\n",
              "      <td>51.89</td>\n",
              "      <td>0.19</td>\n",
              "      <td>5.25</td>\n",
              "      <td>9.88</td>\n",
              "      <td>272.43</td>\n",
              "      <td>...</td>\n",
              "      <td>15.14</td>\n",
              "      <td>5</td>\n",
              "      <td>0</td>\n",
              "      <td>1</td>\n",
              "      <td>0</td>\n",
              "      <td>7.0</td>\n",
              "      <td>4.0</td>\n",
              "      <td>8.0</td>\n",
              "      <td>7.0</td>\n",
              "      <td>1.0</td>\n",
              "    </tr>\n",
              "    <tr>\n",
              "      <th>14</th>\n",
              "      <td>6.0</td>\n",
              "      <td>1.0</td>\n",
              "      <td>1.0</td>\n",
              "      <td>1.0</td>\n",
              "      <td>17.0</td>\n",
              "      <td>58.81</td>\n",
              "      <td>0.19</td>\n",
              "      <td>5.25</td>\n",
              "      <td>11.20</td>\n",
              "      <td>276.75</td>\n",
              "      <td>...</td>\n",
              "      <td>15.38</td>\n",
              "      <td>3</td>\n",
              "      <td>0</td>\n",
              "      <td>0</td>\n",
              "      <td>0</td>\n",
              "      <td>7.0</td>\n",
              "      <td>4.0</td>\n",
              "      <td>12.0</td>\n",
              "      <td>6.0</td>\n",
              "      <td>1.0</td>\n",
              "    </tr>\n",
              "    <tr>\n",
              "      <th>16</th>\n",
              "      <td>126.0</td>\n",
              "      <td>13.0</td>\n",
              "      <td>6.0</td>\n",
              "      <td>7.0</td>\n",
              "      <td>0.0</td>\n",
              "      <td>0.00</td>\n",
              "      <td>0.00</td>\n",
              "      <td>0.00</td>\n",
              "      <td>0.00</td>\n",
              "      <td>0.00</td>\n",
              "      <td>...</td>\n",
              "      <td>0.00</td>\n",
              "      <td>0</td>\n",
              "      <td>0</td>\n",
              "      <td>0</td>\n",
              "      <td>0</td>\n",
              "      <td>0.0</td>\n",
              "      <td>0.0</td>\n",
              "      <td>0.0</td>\n",
              "      <td>0.0</td>\n",
              "      <td>25.0</td>\n",
              "    </tr>\n",
              "    <tr>\n",
              "      <th>18</th>\n",
              "      <td>40.0</td>\n",
              "      <td>9.0</td>\n",
              "      <td>3.0</td>\n",
              "      <td>7.0</td>\n",
              "      <td>151.0</td>\n",
              "      <td>823.92</td>\n",
              "      <td>0.04</td>\n",
              "      <td>23.33</td>\n",
              "      <td>35.54</td>\n",
              "      <td>22476.10</td>\n",
              "      <td>...</td>\n",
              "      <td>1248.67</td>\n",
              "      <td>32</td>\n",
              "      <td>0</td>\n",
              "      <td>8</td>\n",
              "      <td>2</td>\n",
              "      <td>18.0</td>\n",
              "      <td>21.0</td>\n",
              "      <td>95.0</td>\n",
              "      <td>56.0</td>\n",
              "      <td>17.0</td>\n",
              "    </tr>\n",
              "    <tr>\n",
              "      <th>...</th>\n",
              "      <td>...</td>\n",
              "      <td>...</td>\n",
              "      <td>...</td>\n",
              "      <td>...</td>\n",
              "      <td>...</td>\n",
              "      <td>...</td>\n",
              "      <td>...</td>\n",
              "      <td>...</td>\n",
              "      <td>...</td>\n",
              "      <td>...</td>\n",
              "      <td>...</td>\n",
              "      <td>...</td>\n",
              "      <td>...</td>\n",
              "      <td>...</td>\n",
              "      <td>...</td>\n",
              "      <td>...</td>\n",
              "      <td>...</td>\n",
              "      <td>...</td>\n",
              "      <td>...</td>\n",
              "      <td>...</td>\n",
              "      <td>...</td>\n",
              "    </tr>\n",
              "    <tr>\n",
              "      <th>101739</th>\n",
              "      <td>79.0</td>\n",
              "      <td>12.0</td>\n",
              "      <td>7.0</td>\n",
              "      <td>8.0</td>\n",
              "      <td>0.0</td>\n",
              "      <td>0.00</td>\n",
              "      <td>0.00</td>\n",
              "      <td>0.00</td>\n",
              "      <td>0.00</td>\n",
              "      <td>0.00</td>\n",
              "      <td>...</td>\n",
              "      <td>0.00</td>\n",
              "      <td>0</td>\n",
              "      <td>0</td>\n",
              "      <td>0</td>\n",
              "      <td>0</td>\n",
              "      <td>0.0</td>\n",
              "      <td>0.0</td>\n",
              "      <td>0.0</td>\n",
              "      <td>0.0</td>\n",
              "      <td>23.0</td>\n",
              "    </tr>\n",
              "    <tr>\n",
              "      <th>101741</th>\n",
              "      <td>23.0</td>\n",
              "      <td>3.0</td>\n",
              "      <td>1.0</td>\n",
              "      <td>3.0</td>\n",
              "      <td>64.0</td>\n",
              "      <td>310.91</td>\n",
              "      <td>0.09</td>\n",
              "      <td>11.20</td>\n",
              "      <td>27.21</td>\n",
              "      <td>3318.18</td>\n",
              "      <td>...</td>\n",
              "      <td>184.34</td>\n",
              "      <td>14</td>\n",
              "      <td>0</td>\n",
              "      <td>2</td>\n",
              "      <td>0</td>\n",
              "      <td>14.0</td>\n",
              "      <td>15.0</td>\n",
              "      <td>33.0</td>\n",
              "      <td>29.0</td>\n",
              "      <td>5.0</td>\n",
              "    </tr>\n",
              "    <tr>\n",
              "      <th>101746</th>\n",
              "      <td>48.0</td>\n",
              "      <td>9.0</td>\n",
              "      <td>4.0</td>\n",
              "      <td>7.0</td>\n",
              "      <td>129.0</td>\n",
              "      <td>713.14</td>\n",
              "      <td>0.04</td>\n",
              "      <td>26.00</td>\n",
              "      <td>27.24</td>\n",
              "      <td>18539.72</td>\n",
              "      <td>...</td>\n",
              "      <td>1029.98</td>\n",
              "      <td>35</td>\n",
              "      <td>0</td>\n",
              "      <td>11</td>\n",
              "      <td>0</td>\n",
              "      <td>26.0</td>\n",
              "      <td>22.0</td>\n",
              "      <td>77.0</td>\n",
              "      <td>52.0</td>\n",
              "      <td>15.0</td>\n",
              "    </tr>\n",
              "    <tr>\n",
              "      <th>101748</th>\n",
              "      <td>104.0</td>\n",
              "      <td>23.0</td>\n",
              "      <td>8.0</td>\n",
              "      <td>12.0</td>\n",
              "      <td>396.0</td>\n",
              "      <td>2467.19</td>\n",
              "      <td>0.02</td>\n",
              "      <td>45.54</td>\n",
              "      <td>56.27</td>\n",
              "      <td>116471.96</td>\n",
              "      <td>...</td>\n",
              "      <td>6470.66</td>\n",
              "      <td>85</td>\n",
              "      <td>7</td>\n",
              "      <td>7</td>\n",
              "      <td>0</td>\n",
              "      <td>29.0</td>\n",
              "      <td>54.0</td>\n",
              "      <td>249.0</td>\n",
              "      <td>147.0</td>\n",
              "      <td>45.0</td>\n",
              "    </tr>\n",
              "    <tr>\n",
              "      <th>101749</th>\n",
              "      <td>51.0</td>\n",
              "      <td>4.0</td>\n",
              "      <td>1.0</td>\n",
              "      <td>3.0</td>\n",
              "      <td>171.0</td>\n",
              "      <td>1022.11</td>\n",
              "      <td>0.03</td>\n",
              "      <td>38.46</td>\n",
              "      <td>26.74</td>\n",
              "      <td>38520.22</td>\n",
              "      <td>...</td>\n",
              "      <td>2134.19</td>\n",
              "      <td>43</td>\n",
              "      <td>0</td>\n",
              "      <td>5</td>\n",
              "      <td>0</td>\n",
              "      <td>18.0</td>\n",
              "      <td>19.0</td>\n",
              "      <td>95.0</td>\n",
              "      <td>76.0</td>\n",
              "      <td>7.0</td>\n",
              "    </tr>\n",
              "  </tbody>\n",
              "</table>\n",
              "<p>23064 rows × 21 columns</p>\n",
              "</div>\n",
              "    <div class=\"colab-df-buttons\">\n",
              "\n",
              "  <div class=\"colab-df-container\">\n",
              "    <button class=\"colab-df-convert\" onclick=\"convertToInteractive('df-f03c73f1-c6a3-43e3-af1c-a832d619e540')\"\n",
              "            title=\"Convert this dataframe to an interactive table.\"\n",
              "            style=\"display:none;\">\n",
              "\n",
              "  <svg xmlns=\"http://www.w3.org/2000/svg\" height=\"24px\" viewBox=\"0 -960 960 960\">\n",
              "    <path d=\"M120-120v-720h720v720H120Zm60-500h600v-160H180v160Zm220 220h160v-160H400v160Zm0 220h160v-160H400v160ZM180-400h160v-160H180v160Zm440 0h160v-160H620v160ZM180-180h160v-160H180v160Zm440 0h160v-160H620v160Z\"/>\n",
              "  </svg>\n",
              "    </button>\n",
              "\n",
              "  <style>\n",
              "    .colab-df-container {\n",
              "      display:flex;\n",
              "      gap: 12px;\n",
              "    }\n",
              "\n",
              "    .colab-df-convert {\n",
              "      background-color: #E8F0FE;\n",
              "      border: none;\n",
              "      border-radius: 50%;\n",
              "      cursor: pointer;\n",
              "      display: none;\n",
              "      fill: #1967D2;\n",
              "      height: 32px;\n",
              "      padding: 0 0 0 0;\n",
              "      width: 32px;\n",
              "    }\n",
              "\n",
              "    .colab-df-convert:hover {\n",
              "      background-color: #E2EBFA;\n",
              "      box-shadow: 0px 1px 2px rgba(60, 64, 67, 0.3), 0px 1px 3px 1px rgba(60, 64, 67, 0.15);\n",
              "      fill: #174EA6;\n",
              "    }\n",
              "\n",
              "    .colab-df-buttons div {\n",
              "      margin-bottom: 4px;\n",
              "    }\n",
              "\n",
              "    [theme=dark] .colab-df-convert {\n",
              "      background-color: #3B4455;\n",
              "      fill: #D2E3FC;\n",
              "    }\n",
              "\n",
              "    [theme=dark] .colab-df-convert:hover {\n",
              "      background-color: #434B5C;\n",
              "      box-shadow: 0px 1px 3px 1px rgba(0, 0, 0, 0.15);\n",
              "      filter: drop-shadow(0px 1px 2px rgba(0, 0, 0, 0.3));\n",
              "      fill: #FFFFFF;\n",
              "    }\n",
              "  </style>\n",
              "\n",
              "    <script>\n",
              "      const buttonEl =\n",
              "        document.querySelector('#df-f03c73f1-c6a3-43e3-af1c-a832d619e540 button.colab-df-convert');\n",
              "      buttonEl.style.display =\n",
              "        google.colab.kernel.accessAllowed ? 'block' : 'none';\n",
              "\n",
              "      async function convertToInteractive(key) {\n",
              "        const element = document.querySelector('#df-f03c73f1-c6a3-43e3-af1c-a832d619e540');\n",
              "        const dataTable =\n",
              "          await google.colab.kernel.invokeFunction('convertToInteractive',\n",
              "                                                    [key], {});\n",
              "        if (!dataTable) return;\n",
              "\n",
              "        const docLinkHtml = 'Like what you see? Visit the ' +\n",
              "          '<a target=\"_blank\" href=https://colab.research.google.com/notebooks/data_table.ipynb>data table notebook</a>'\n",
              "          + ' to learn more about interactive tables.';\n",
              "        element.innerHTML = '';\n",
              "        dataTable['output_type'] = 'display_data';\n",
              "        await google.colab.output.renderOutput(dataTable, element);\n",
              "        const docLink = document.createElement('div');\n",
              "        docLink.innerHTML = docLinkHtml;\n",
              "        element.appendChild(docLink);\n",
              "      }\n",
              "    </script>\n",
              "  </div>\n",
              "\n",
              "\n",
              "<div id=\"df-57f3cdad-5e66-4329-be60-71d9731f61ba\">\n",
              "  <button class=\"colab-df-quickchart\" onclick=\"quickchart('df-57f3cdad-5e66-4329-be60-71d9731f61ba')\"\n",
              "            title=\"Suggest charts.\"\n",
              "            style=\"display:none;\">\n",
              "\n",
              "<svg xmlns=\"http://www.w3.org/2000/svg\" height=\"24px\"viewBox=\"0 0 24 24\"\n",
              "     width=\"24px\">\n",
              "    <g>\n",
              "        <path d=\"M19 3H5c-1.1 0-2 .9-2 2v14c0 1.1.9 2 2 2h14c1.1 0 2-.9 2-2V5c0-1.1-.9-2-2-2zM9 17H7v-7h2v7zm4 0h-2V7h2v10zm4 0h-2v-4h2v4z\"/>\n",
              "    </g>\n",
              "</svg>\n",
              "  </button>\n",
              "\n",
              "<style>\n",
              "  .colab-df-quickchart {\n",
              "      --bg-color: #E8F0FE;\n",
              "      --fill-color: #1967D2;\n",
              "      --hover-bg-color: #E2EBFA;\n",
              "      --hover-fill-color: #174EA6;\n",
              "      --disabled-fill-color: #AAA;\n",
              "      --disabled-bg-color: #DDD;\n",
              "  }\n",
              "\n",
              "  [theme=dark] .colab-df-quickchart {\n",
              "      --bg-color: #3B4455;\n",
              "      --fill-color: #D2E3FC;\n",
              "      --hover-bg-color: #434B5C;\n",
              "      --hover-fill-color: #FFFFFF;\n",
              "      --disabled-bg-color: #3B4455;\n",
              "      --disabled-fill-color: #666;\n",
              "  }\n",
              "\n",
              "  .colab-df-quickchart {\n",
              "    background-color: var(--bg-color);\n",
              "    border: none;\n",
              "    border-radius: 50%;\n",
              "    cursor: pointer;\n",
              "    display: none;\n",
              "    fill: var(--fill-color);\n",
              "    height: 32px;\n",
              "    padding: 0;\n",
              "    width: 32px;\n",
              "  }\n",
              "\n",
              "  .colab-df-quickchart:hover {\n",
              "    background-color: var(--hover-bg-color);\n",
              "    box-shadow: 0 1px 2px rgba(60, 64, 67, 0.3), 0 1px 3px 1px rgba(60, 64, 67, 0.15);\n",
              "    fill: var(--button-hover-fill-color);\n",
              "  }\n",
              "\n",
              "  .colab-df-quickchart-complete:disabled,\n",
              "  .colab-df-quickchart-complete:disabled:hover {\n",
              "    background-color: var(--disabled-bg-color);\n",
              "    fill: var(--disabled-fill-color);\n",
              "    box-shadow: none;\n",
              "  }\n",
              "\n",
              "  .colab-df-spinner {\n",
              "    border: 2px solid var(--fill-color);\n",
              "    border-color: transparent;\n",
              "    border-bottom-color: var(--fill-color);\n",
              "    animation:\n",
              "      spin 1s steps(1) infinite;\n",
              "  }\n",
              "\n",
              "  @keyframes spin {\n",
              "    0% {\n",
              "      border-color: transparent;\n",
              "      border-bottom-color: var(--fill-color);\n",
              "      border-left-color: var(--fill-color);\n",
              "    }\n",
              "    20% {\n",
              "      border-color: transparent;\n",
              "      border-left-color: var(--fill-color);\n",
              "      border-top-color: var(--fill-color);\n",
              "    }\n",
              "    30% {\n",
              "      border-color: transparent;\n",
              "      border-left-color: var(--fill-color);\n",
              "      border-top-color: var(--fill-color);\n",
              "      border-right-color: var(--fill-color);\n",
              "    }\n",
              "    40% {\n",
              "      border-color: transparent;\n",
              "      border-right-color: var(--fill-color);\n",
              "      border-top-color: var(--fill-color);\n",
              "    }\n",
              "    60% {\n",
              "      border-color: transparent;\n",
              "      border-right-color: var(--fill-color);\n",
              "    }\n",
              "    80% {\n",
              "      border-color: transparent;\n",
              "      border-right-color: var(--fill-color);\n",
              "      border-bottom-color: var(--fill-color);\n",
              "    }\n",
              "    90% {\n",
              "      border-color: transparent;\n",
              "      border-bottom-color: var(--fill-color);\n",
              "    }\n",
              "  }\n",
              "</style>\n",
              "\n",
              "  <script>\n",
              "    async function quickchart(key) {\n",
              "      const quickchartButtonEl =\n",
              "        document.querySelector('#' + key + ' button');\n",
              "      quickchartButtonEl.disabled = true;  // To prevent multiple clicks.\n",
              "      quickchartButtonEl.classList.add('colab-df-spinner');\n",
              "      try {\n",
              "        const charts = await google.colab.kernel.invokeFunction(\n",
              "            'suggestCharts', [key], {});\n",
              "      } catch (error) {\n",
              "        console.error('Error during call to suggestCharts:', error);\n",
              "      }\n",
              "      quickchartButtonEl.classList.remove('colab-df-spinner');\n",
              "      quickchartButtonEl.classList.add('colab-df-quickchart-complete');\n",
              "    }\n",
              "    (() => {\n",
              "      let quickchartButtonEl =\n",
              "        document.querySelector('#df-57f3cdad-5e66-4329-be60-71d9731f61ba button');\n",
              "      quickchartButtonEl.style.display =\n",
              "        google.colab.kernel.accessAllowed ? 'block' : 'none';\n",
              "    })();\n",
              "  </script>\n",
              "</div>\n",
              "    </div>\n",
              "  </div>\n"
            ]
          },
          "metadata": {},
          "execution_count": 114
        }
      ],
      "source": [
        "data.loc[train_data[\"defects\"] == True]"
      ]
    },
    {
      "cell_type": "code",
      "source": [
        "target.value_counts().plot(kind=\"bar\");"
      ],
      "metadata": {
        "colab": {
          "base_uri": "https://localhost:8080/",
          "height": 451
        },
        "id": "78KeZWSerQpU",
        "outputId": "814a69e0-a437-44d2-e31a-ddcb6bffa596"
      },
      "execution_count": 115,
      "outputs": [
        {
          "output_type": "display_data",
          "data": {
            "text/plain": [
              "<Figure size 640x480 with 1 Axes>"
            ],
            "image/png": "[encoded data removed]"
          },
          "metadata": {}
        }
      ]
    },
    {
      "cell_type": "code",
      "source": [
        "from sklearn.model_selection import train_test_split\n",
        "\n",
        "X_train, X_val, y_train, y_val = train_test_split(data, target, random_state=42)\n",
        "\n",
        "X_train.shape, y_train.shape"
      ],
      "metadata": {
        "colab": {
          "base_uri": "https://localhost:8080/"
        },
        "id": "k4L3-Zzxr0Cn",
        "outputId": "97258bbe-d704-44da-8c84-3a177e3e7dd7"
      },
      "execution_count": 116,
      "outputs": [
        {
          "output_type": "execute_result",
          "data": {
            "text/plain": [
              "((76322, 21), (76322,))"
            ]
          },
          "metadata": {},
          "execution_count": 116
        }
      ]
    },
    {
      "cell_type": "markdown",
      "source": [
        "#### Scaling data"
      ],
      "metadata": {
        "id": "ATJeHXdA2eLJ"
      }
    },
    {
      "cell_type": "code",
      "source": [
        "from sklearn.preprocessing import StandardScaler\n",
        "\n",
        "scaler = StandardScaler()\n",
        "X_train_subset = scaler.fit_transform(X_train)\n",
        "X_val_subset = scaler.transform(X_val)"
      ],
      "metadata": {
        "id": "75QlZ0z_3ItG"
      },
      "execution_count": 117,
      "outputs": []
    },
    {
      "cell_type": "markdown",
      "source": [
        "### Baseline Models"
      ],
      "metadata": {
        "id": "VEuFk76X3_7l"
      }
    },
    {
      "cell_type": "code",
      "source": [
        "AUC_Scores = {}"
      ],
      "metadata": {
        "id": "IxlUGdtxdEVe"
      },
      "execution_count": 118,
      "outputs": []
    },
    {
      "cell_type": "code",
      "source": [
        "from sklearn.ensemble import RandomForestClassifier\n",
        "from sklearn.metrics import roc_auc_score, f1_score\n",
        "\n",
        "clf = RandomForestClassifier()\n",
        "clf.fit(X_train_subset, y_train)\n",
        "\n",
        "forest_preds = clf.predict(X_val_subset)\n",
        "\n",
        "score_random_forest = roc_auc_score(y_val, forest_preds)\n",
        "AUC_Scores[\"Random_Forest\"] = {\"Normal_Data\": score_random_forest}\n",
        "\n",
        "f1 = f1_score(y_val, forest_preds)\n",
        "\n",
        "print(f\"AUC: {score_random_forest}\")\n",
        "print(f\"F1_Sccore: {f1}\")"
      ],
      "metadata": {
        "colab": {
          "base_uri": "https://localhost:8080/"
        },
        "id": "_MO8rTfy3rhO",
        "outputId": "d10dc552-5b99-4635-a5db-538b43f24f8f"
      },
      "execution_count": 119,
      "outputs": [
        {
          "output_type": "stream",
          "name": "stdout",
          "text": [
            "AUC: 0.6585129327734782\n",
            "F1_Sccore: 0.4758380496299521\n"
          ]
        }
      ]
    },
    {
      "cell_type": "code",
      "source": [
        "from lightgbm import LGBMClassifier\n",
        "\n",
        "lgb = LGBMClassifier()\n",
        "lgb.fit(X_train_subset, y_train)\n",
        "\n",
        "lgb_preds = lgb.predict(X_val_subset)\n",
        "score_lgb = roc_auc_score(y_val, lgb_preds)\n",
        "\n",
        "AUC_Scores[\"LGBMClassifier\"] = {\"Normal_Data\": score_lgb}\n",
        "\n",
        "f1 = f1_score(y_val, lgb_preds)\n",
        "\n",
        "print(f\"AUC: {score_lgb}\")\n",
        "print(f\"F1_Sccore: {f1}\")"
      ],
      "metadata": {
        "colab": {
          "base_uri": "https://localhost:8080/"
        },
        "id": "OkP6UwHyWe-e",
        "outputId": "8ade58dd-a760-4e2a-a8e0-ac4fa08bfc17"
      },
      "execution_count": 120,
      "outputs": [
        {
          "output_type": "stream",
          "name": "stdout",
          "text": [
            "[LightGBM] [Info] Number of positive: 17337, number of negative: 58985\n",
            "[LightGBM] [Warning] Auto-choosing row-wise multi-threading, the overhead of testing was 0.005803 seconds.\n",
            "You can set `force_row_wise=true` to remove the overhead.\n",
            "And if memory is not enough, you can set `force_col_wise=true`.\n",
            "[LightGBM] [Info] Total Bins 3553\n",
            "[LightGBM] [Info] Number of data points in the train set: 76322, number of used features: 21\n",
            "[LightGBM] [Info] [binary:BoostFromScore]: pavg=0.227156 -> initscore=-1.224440\n",
            "[LightGBM] [Info] Start training from score -1.224440\n",
            "AUC: 0.6663426513726346\n",
            "F1_Sccore: 0.4907006920415224\n"
          ]
        }
      ]
    },
    {
      "cell_type": "code",
      "source": [
        "from xgboost import XGBClassifier\n",
        "\n",
        "xgb = XGBClassifier()\n",
        "xgb.fit(X_train_subset, y_train)\n",
        "\n",
        "xgb_preds = xgb.predict(X_val_subset)\n",
        "\n",
        "score_xgb = roc_auc_score(y_val, xgb_preds)\n",
        "AUC_Scores[\"XGBClassifier\"] = {\"Normal_Data\": score_xgb}\n",
        "\n",
        "f1 = f1_score(y_val, xgb_preds)\n",
        "\n",
        "print(f\"AUC: {score_xgb}\")\n",
        "print(f\"F1_Sccore: {f1}\")"
      ],
      "metadata": {
        "colab": {
          "base_uri": "https://localhost:8080/"
        },
        "id": "J0saUjD1iFOf",
        "outputId": "bb3185d1-8452-4e1f-bbaf-364689cb2803"
      },
      "execution_count": 121,
      "outputs": [
        {
          "output_type": "stream",
          "name": "stdout",
          "text": [
            "AUC: 0.6636069001316344\n",
            "F1_Sccore: 0.48522617384764155\n"
          ]
        }
      ]
    },
    {
      "cell_type": "markdown",
      "source": [
        "#### Tuning models"
      ],
      "metadata": {
        "id": "W2zBDPY8VDfz"
      }
    },
    {
      "cell_type": "code",
      "source": [
        "!pip install scikit-optimize"
      ],
      "metadata": {
        "colab": {
          "base_uri": "https://localhost:8080/"
        },
        "id": "BkIPbyDCp9ml",
        "outputId": "f569f93a-29e1-4a54-f82e-8debb28a942e"
      },
      "execution_count": 122,
      "outputs": [
        {
          "output_type": "stream",
          "name": "stdout",
          "text": [
            "Requirement already satisfied: scikit-optimize in /usr/local/lib/python3.10/dist-packages (0.9.0)\n",
            "Requirement already satisfied: joblib>=0.11 in /usr/local/lib/python3.10/dist-packages (from scikit-optimize) (1.3.2)\n",
            "Requirement already satisfied: pyaml>=16.9 in /usr/local/lib/python3.10/dist-packages (from scikit-optimize) (23.9.7)\n",
            "Requirement already satisfied: numpy>=1.13.3 in /usr/local/lib/python3.10/dist-packages (from scikit-optimize) (1.23.5)\n",
            "Requirement already satisfied: scipy>=0.19.1 in /usr/local/lib/python3.10/dist-packages (from scikit-optimize) (1.11.3)\n",
            "Requirement already satisfied: scikit-learn>=0.20.0 in /usr/local/lib/python3.10/dist-packages (from scikit-optimize) (1.2.2)\n",
            "Requirement already satisfied: PyYAML in /usr/local/lib/python3.10/dist-packages (from pyaml>=16.9->scikit-optimize) (6.0.1)\n",
            "Requirement already satisfied: threadpoolctl>=2.0.0 in /usr/local/lib/python3.10/dist-packages (from scikit-learn>=0.20.0->scikit-optimize) (3.2.0)\n"
          ]
        }
      ]
    },
    {
      "cell_type": "code",
      "source": [
        "from skopt import gp_minimize\n",
        "\n",
        "def train_lgb(params):\n",
        "  \"\"\"\n",
        "  Trains a model with a list of tuples.\n",
        "  \"\"\"\n",
        "\n",
        "  learning_rate = params[0]\n",
        "  num_leaves = params[1]\n",
        "  min_child_samples = params[2]\n",
        "  subsample = params[3]\n",
        "  colsample_bytree = params[4]\n",
        "\n",
        "  lgb = LGBMClassifier(learning_rate=learning_rate,\n",
        "                       num_leaves=num_leaves,\n",
        "                       min_child_samples=min_child_samples,\n",
        "                       subsample=subsample,\n",
        "                       colsample_bytree=colsample_bytree,\n",
        "                       random_state=42,\n",
        "                       subsample_freq=1,\n",
        "                       n_estimators=100,\n",
        "                       verbose=-1)\n",
        "\n",
        "  lgb.fit(X_train_subset, y_train)\n",
        "\n",
        "  preds = lgb.predict(X_val_subset)\n",
        "\n",
        "  return -roc_auc_score(y_val, preds)\n",
        "\n",
        "grid = [(1e-3, 1e-1), # learning_rate\n",
        "        (2, 128), # num_leaves\n",
        "        (1, 100), # nim_child_samples\n",
        "        (0.05, 1.0), # subsample\n",
        "        (0.1, 1)] # colsample_bytree\n",
        "\n",
        "results_lgb = gp_minimize(train_lgb, grid, random_state=42, verbose=0, n_calls=30, n_random_starts=10)"
      ],
      "metadata": {
        "id": "IYVh1hEsVH-j"
      },
      "execution_count": 123,
      "outputs": []
    },
    {
      "cell_type": "code",
      "source": [
        "results_lgb.func_vals"
      ],
      "metadata": {
        "colab": {
          "base_uri": "https://localhost:8080/"
        },
        "id": "g44v6pTreqA_",
        "outputId": "7be4ffb8-4c4e-4f45-fd80-140b83ff9f31"
      },
      "execution_count": 124,
      "outputs": [
        {
          "output_type": "execute_result",
          "data": {
            "text/plain": [
              "array([-0.66579931, -0.5995997 , -0.51017477, -0.65843146, -0.65552358,\n",
              "       -0.66452874, -0.66508965, -0.66236415, -0.66236366, -0.66368154,\n",
              "       -0.65059982, -0.66426731, -0.66354301, -0.65059982, -0.65802764,\n",
              "       -0.5       , -0.66110578, -0.58953415, -0.65990446, -0.66355229,\n",
              "       -0.66156521, -0.66590905, -0.64584971, -0.66753371, -0.66759858,\n",
              "       -0.66206614, -0.64242139, -0.66183446, -0.65220352, -0.66684112])"
            ]
          },
          "metadata": {},
          "execution_count": 124
        }
      ]
    },
    {
      "cell_type": "code",
      "source": [
        "print(f\"Best params: {results_lgb.x}\\nAUC score: {np.min(results_lgb.func_vals)}\")"
      ],
      "metadata": {
        "colab": {
          "base_uri": "https://localhost:8080/"
        },
        "id": "6H1cP4rcg9aM",
        "outputId": "5003e64e-defc-4cee-c2f1-15c58883b6db"
      },
      "execution_count": 125,
      "outputs": [
        {
          "output_type": "stream",
          "name": "stdout",
          "text": [
            "Best params: [0.08969282622710473, 4, 56, 0.9822582052729546, 1.0]\n",
            "AUC score: -0.6675985848550989\n"
          ]
        }
      ]
    },
    {
      "cell_type": "code",
      "source": [
        "def train_xgb(params):\n",
        "\n",
        "  eta = params[0]\n",
        "  max_depth = params[1]\n",
        "  min_child_weight = params[2]\n",
        "  gamma = params[3]\n",
        "\n",
        "  xgb = XGBClassifier(eta=eta,\n",
        "                      max_depth=max_depth,\n",
        "                      min_child_weight=min_child_weight,\n",
        "                      gamma=gamma)\n",
        "\n",
        "  xgb.fit(X_train_subset, y_train)\n",
        "\n",
        "  preds = xgb.predict(X_val_subset)\n",
        "\n",
        "  return -roc_auc_score(y_val, preds)\n",
        "\n",
        "grid = [(1e-3, 1e-1), # Eta\n",
        "        (1, 50), # Max depth\n",
        "        (1, 50), # Min_child_weight\n",
        "        (1, 50)] # Gamma\n",
        "\n",
        "results = gp_minimize(train_xgb, grid, random_state=42, verbose=0, n_calls=30, n_random_starts=10)"
      ],
      "metadata": {
        "id": "8_Cyoz46iov8"
      },
      "execution_count": 126,
      "outputs": []
    },
    {
      "cell_type": "code",
      "source": [
        "results.func_vals"
      ],
      "metadata": {
        "colab": {
          "base_uri": "https://localhost:8080/"
        },
        "id": "s64sk_PGm8Io",
        "outputId": "13aa00fc-8ecd-419e-e210-0011395bb14d"
      },
      "execution_count": 127,
      "outputs": [
        {
          "output_type": "execute_result",
          "data": {
            "text/plain": [
              "array([-0.66508428, -0.66606708, -0.64708421, -0.66719814, -0.6640254 ,\n",
              "       -0.66690599, -0.60184087, -0.66626413, -0.5       , -0.5       ,\n",
              "       -0.66076485, -0.66134084, -0.66367666, -0.66041755, -0.66329622,\n",
              "       -0.66553496, -0.66656213, -0.66475799, -0.65782865, -0.66689185,\n",
              "       -0.66424488, -0.66712255, -0.66645483, -0.66523353, -0.66556325,\n",
              "       -0.6649204 , -0.66530133, -0.66648361, -0.66646897, -0.65966744])"
            ]
          },
          "metadata": {},
          "execution_count": 127
        }
      ]
    },
    {
      "cell_type": "code",
      "source": [
        "print(f\"Best params: {results.x}\\nAUC score: {np.min(results.func_vals)}\")"
      ],
      "metadata": {
        "colab": {
          "base_uri": "https://localhost:8080/"
        },
        "id": "wnRr52K9nQ7G",
        "outputId": "c105924a-834d-46cd-cd87-0e5321dafeb4"
      },
      "execution_count": 128,
      "outputs": [
        {
          "output_type": "stream",
          "name": "stdout",
          "text": [
            "Best params: [0.0939167181925593, 1, 50, 31]\n",
            "AUC score: -0.6671981449269694\n"
          ]
        }
      ]
    },
    {
      "cell_type": "markdown",
      "source": [
        "#### Undersampling"
      ],
      "metadata": {
        "id": "XoLIfFOFe-RF"
      }
    },
    {
      "cell_type": "code",
      "source": [
        "from imblearn.under_sampling import RandomUnderSampler\n",
        "\n",
        "us = RandomUnderSampler(random_state=42)\n",
        "\n",
        "X_train_under, y_train_under = us.fit_resample(X_train, y_train)"
      ],
      "metadata": {
        "id": "-ydT_nEifDks"
      },
      "execution_count": 129,
      "outputs": []
    },
    {
      "cell_type": "code",
      "source": [
        "y_train_under.value_counts().plot(kind=\"bar\");"
      ],
      "metadata": {
        "colab": {
          "base_uri": "https://localhost:8080/",
          "height": 451
        },
        "id": "X7LiRh3NoDeT",
        "outputId": "ec9d530f-35dd-42cd-8b31-198cffb55e9a"
      },
      "execution_count": 130,
      "outputs": [
        {
          "output_type": "display_data",
          "data": {
            "text/plain": [
              "<Figure size 640x480 with 1 Axes>"
            ],
            "image/png": "[encoded data removed]"
          },
          "metadata": {}
        }
      ]
    },
    {
      "cell_type": "markdown",
      "source": [
        "### Training best model with undersampling"
      ],
      "metadata": {
        "id": "706hws92oaN6"
      }
    },
    {
      "cell_type": "code",
      "source": [
        "lgb = LGBMClassifier(learning_rate=0.897,\n",
        "                       num_leaves=4,\n",
        "                       min_child_samples=56,\n",
        "                       subsample=0.98,\n",
        "                       colsample_bytree=1,\n",
        "                       random_state=42,\n",
        "                       subsample_freq=1,\n",
        "                       n_estimators=100,\n",
        "                       verbose=-1)\n",
        "\n",
        "lgb.fit(X_train_under, y_train_under)\n",
        "\n",
        "preds = lgb.predict(X_val_subset)\n",
        "\n",
        "score = roc_auc_score(y_val, preds)\n",
        "AUC_Scores[\"LGBMClassifier\"].update({\"Undersampled_Data\": score})\n",
        "\n",
        "f1 = f1_score(y_val, lgb_preds)\n",
        "\n",
        "print(f\"AUC: {score}\")\n",
        "print(f\"F1_Sccore: {f1}\")"
      ],
      "metadata": {
        "id": "u_I2hV8lofCo",
        "colab": {
          "base_uri": "https://localhost:8080/"
        },
        "outputId": "dd883db5-3f34-4e53-80a8-7ea7f81cacd6"
      },
      "execution_count": 131,
      "outputs": [
        {
          "output_type": "stream",
          "name": "stdout",
          "text": [
            "AUC: 0.5123905779661557\n",
            "F1_Sccore: 0.4907006920415224\n"
          ]
        }
      ]
    },
    {
      "cell_type": "code",
      "source": [
        "xgb = XGBClassifier(eta=0.09,\n",
        "                    max_depth=1,\n",
        "                    min_child_weight=50,\n",
        "                    gamma=31)\n",
        "\n",
        "xgb.fit(X_train_under, y_train_under)\n",
        "\n",
        "preds = xgb.predict(X_val_subset)\n",
        "\n",
        "score = roc_auc_score(y_val, preds)\n",
        "AUC_Scores[\"XGBClassifier\"].update({\"Undersampled_Data\": score})\n",
        "\n",
        "f1 = f1_score(y_val, preds)\n",
        "\n",
        "print(f\"AUC: {score}\")\n",
        "print(f\"F1_Sccore: {f1}\")"
      ],
      "metadata": {
        "id": "azfY6_pYs_Dz",
        "colab": {
          "base_uri": "https://localhost:8080/"
        },
        "outputId": "09e322de-e8b1-4c4f-daa2-60dc27482383"
      },
      "execution_count": 132,
      "outputs": [
        {
          "output_type": "stream",
          "name": "stdout",
          "text": [
            "AUC: 0.5003238602924562\n",
            "F1_Sccore: 0.0013956734124214933\n"
          ]
        }
      ]
    },
    {
      "cell_type": "markdown",
      "source": [
        "## Feature Selection"
      ],
      "metadata": {
        "id": "BSi0K66bsd8k"
      }
    },
    {
      "cell_type": "code",
      "source": [
        "from sklearn.feature_selection import SelectKBest, SelectPercentile, f_classif\n",
        "\n",
        "k_vs_score = []\n",
        "\n",
        "for i in range(2, len(data.columns)+1):\n",
        "  k = i\n",
        "  # Create Filter\n",
        "  selector = SelectKBest(score_func=f_classif, k=k)\n",
        "\n",
        "  # Fit and transform\n",
        "  X_train_subset = selector.fit_transform(X_train, y_train)\n",
        "  X_val_subset = selector.transform(X_val)\n",
        "\n",
        "  # Create model\n",
        "  clf = XGBClassifier(n_estimators=100, n_jobs=-1, random_state=42)\n",
        "  clf.fit(X_train_subset, y_train)\n",
        "\n",
        "  # Get predictions\n",
        "  preds = clf.predict(X_val_subset)\n",
        "\n",
        "  # Get score\n",
        "  score = roc_auc_score(y_val, preds)\n",
        "  k_vs_score.append(score)\n",
        "  print(f\"K = {k} // AUC = {score}\")"
      ],
      "metadata": {
        "colab": {
          "base_uri": "https://localhost:8080/"
        },
        "id": "hfjXTMfMsWbr",
        "outputId": "fd1fae84-7022-4ecb-f6a1-dc6c5c55c927"
      },
      "execution_count": 133,
      "outputs": [
        {
          "output_type": "stream",
          "name": "stdout",
          "text": [
            "K = 2 // AUC = 0.6660178079273262\n",
            "K = 3 // AUC = 0.6640068484833379\n",
            "K = 4 // AUC = 0.660021040533904\n",
            "K = 5 // AUC = 0.6592513779950091\n",
            "K = 6 // AUC = 0.6580315333080052\n",
            "K = 7 // AUC = 0.6597571569940457\n",
            "K = 8 // AUC = 0.6559079054328834\n",
            "K = 9 // AUC = 0.6594142802225481\n",
            "K = 10 // AUC = 0.6604931664765284\n",
            "K = 11 // AUC = 0.6585353681444197\n",
            "K = 12 // AUC = 0.6619822356148307\n",
            "K = 13 // AUC = 0.6627884785256122\n",
            "K = 14 // AUC = 0.6615998511559725\n",
            "K = 15 // AUC = 0.6626465369397364\n",
            "K = 16 // AUC = 0.6624494900793588\n",
            "K = 17 // AUC = 0.6630581945533367\n",
            "K = 18 // AUC = 0.6630386864978693\n",
            "K = 19 // AUC = 0.6637849305129707\n",
            "K = 20 // AUC = 0.6618076241253947\n",
            "K = 21 // AUC = 0.6636069001316344\n"
          ]
        }
      ]
    },
    {
      "cell_type": "code",
      "source": [
        "pd.Series(k_vs_score, index=range(2, len(data.columns)+1)).plot(figsize=(10, 7));"
      ],
      "metadata": {
        "colab": {
          "base_uri": "https://localhost:8080/",
          "height": 599
        },
        "id": "uRIOxfrZyrOh",
        "outputId": "97d69d3a-6626-45d3-ef42-969e822cdd0d"
      },
      "execution_count": 134,
      "outputs": [
        {
          "output_type": "display_data",
          "data": {
            "text/plain": [
              "<Figure size 1000x700 with 1 Axes>"
            ],
            "image/png": "[encoded data removed]"
          },
          "metadata": {}
        }
      ]
    },
    {
      "cell_type": "code",
      "source": [
        "# Create Filter\n",
        "selector = SelectKBest(score_func=f_classif, k=16)\n",
        "selector.fit(X_train, y_train)\n",
        "\n",
        "# Get columns\n",
        "features_list = selector.get_support()\n",
        "X_val.columns[features_list]"
      ],
      "metadata": {
        "colab": {
          "base_uri": "https://localhost:8080/"
        },
        "id": "bkjYpBhG0iUZ",
        "outputId": "a3076695-c4ad-4087-853a-47b364013638"
      },
      "execution_count": 135,
      "outputs": [
        {
          "output_type": "execute_result",
          "data": {
            "text/plain": [
              "Index(['loc', 'v(g)', 'ev(g)', 'iv(g)', 'n', 'v', 'l', 'd', 'b', 'lOCode',\n",
              "       'lOComment', 'lOBlank', 'uniq_Opnd', 'total_Op', 'total_Opnd',\n",
              "       'branchCount'],\n",
              "      dtype='object')"
            ]
          },
          "metadata": {},
          "execution_count": 135
        }
      ]
    },
    {
      "cell_type": "code",
      "source": [
        "pd.Series(selector.scores_, index=X_train.columns).sort_values().plot(kind=\"barh\");"
      ],
      "metadata": {
        "colab": {
          "base_uri": "https://localhost:8080/",
          "height": 430
        },
        "id": "DeS0bPHa0yuD",
        "outputId": "1c28bece-2e7b-4023-fd4e-39dcc9255806"
      },
      "execution_count": 136,
      "outputs": [
        {
          "output_type": "display_data",
          "data": {
            "text/plain": [
              "<Figure size 640x480 with 1 Axes>"
            ],
            "image/png": "[encoded data removed]"
          },
          "metadata": {}
        }
      ]
    },
    {
      "cell_type": "code",
      "source": [
        "X_train_features = X_train.loc[:, X_train.columns[features_list]]\n",
        "X_train_features\n",
        "\n",
        "X_val_features = X_val.loc[:, X_val.columns[features_list]]\n",
        "X_val_features"
      ],
      "metadata": {
        "colab": {
          "base_uri": "https://localhost:8080/",
          "height": 424
        },
        "id": "ozEaLNPftryP",
        "outputId": "888be120-7c12-4d24-9f17-4993ecba7ada"
      },
      "execution_count": 137,
      "outputs": [
        {
          "output_type": "execute_result",
          "data": {
            "text/plain": [
              "        loc  v(g)  ev(g)  iv(g)      n       v     l      d     b  lOCode  \\\n",
              "35956  21.0   3.0    1.0    3.0   71.0  355.00  0.10  10.50  0.12      17   \n",
              "60927  29.0   4.0    1.0    2.0   67.0  315.78  0.08  12.79  0.11      17   \n",
              "79918  42.0  11.0    9.0    5.0  165.0  872.80  0.05  21.72  0.29      33   \n",
              "50078   8.0   1.0    1.0    1.0    7.0   19.65  0.33   3.00  0.01       3   \n",
              "44080   5.0   1.0    1.0    1.0   14.0   46.51  0.33   3.00  0.01       3   \n",
              "...     ...   ...    ...    ...    ...     ...   ...    ...   ...     ...   \n",
              "2145   16.0   2.0    1.0    1.0   41.0  180.09  0.14   7.13  0.06       9   \n",
              "56352  64.0   7.0    5.0    6.0    0.0    0.00  0.00   0.00  0.00       0   \n",
              "11754  19.0   4.0    1.0    2.0   52.0  238.42  0.08  13.00  0.08      14   \n",
              "37789  44.0  13.0   11.0    3.0  137.0  596.54  0.04  26.92  0.20      36   \n",
              "31703  21.0   4.0    1.0    2.0   53.0  235.02  0.17   5.88  0.08      17   \n",
              "\n",
              "       lOComment  lOBlank  uniq_Opnd  total_Op  total_Opnd  branchCount  \n",
              "35956          0        2       18.0      43.0        28.0          5.0  \n",
              "60927          4        4       17.0      42.0        29.0          7.0  \n",
              "79918          1        4       29.0      96.0        69.0         21.0  \n",
              "50078          0        2        1.0       6.0         1.0          1.0  \n",
              "44080          0        0        5.0       8.0         6.0          1.0  \n",
              "...          ...      ...        ...       ...         ...          ...  \n",
              "2145           2        4       12.0      25.0        16.0          3.0  \n",
              "56352          0        0        0.0       0.0         0.0         13.0  \n",
              "11754          0        3       11.0      31.0        21.0          7.0  \n",
              "37789          9        3       12.0     115.0        42.0         25.0  \n",
              "31703          0        2       17.0      30.0        23.0          5.0  \n",
              "\n",
              "[25441 rows x 16 columns]"
            ],
            "text/html": [
              "\n",
              "  <div id=\"df-afe87de1-f6c0-4a9b-b86f-d5bba8318651\" class=\"colab-df-container\">\n",
              "    <div>\n",
              "<style scoped>\n",
              "    .dataframe tbody tr th:only-of-type {\n",
              "        vertical-align: middle;\n",
              "    }\n",
              "\n",
              "    .dataframe tbody tr th {\n",
              "        vertical-align: top;\n",
              "    }\n",
              "\n",
              "    .dataframe thead th {\n",
              "        text-align: right;\n",
              "    }\n",
              "</style>\n",
              "<table border=\"1\" class=\"dataframe\">\n",
              "  <thead>\n",
              "    <tr style=\"text-align: right;\">\n",
              "      <th></th>\n",
              "      <th>loc</th>\n",
              "      <th>v(g)</th>\n",
              "      <th>ev(g)</th>\n",
              "      <th>iv(g)</th>\n",
              "      <th>n</th>\n",
              "      <th>v</th>\n",
              "      <th>l</th>\n",
              "      <th>d</th>\n",
              "      <th>b</th>\n",
              "      <th>lOCode</th>\n",
              "      <th>lOComment</th>\n",
              "      <th>lOBlank</th>\n",
              "      <th>uniq_Opnd</th>\n",
              "      <th>total_Op</th>\n",
              "      <th>total_Opnd</th>\n",
              "      <th>branchCount</th>\n",
              "    </tr>\n",
              "  </thead>\n",
              "  <tbody>\n",
              "    <tr>\n",
              "      <th>35956</th>\n",
              "      <td>21.0</td>\n",
              "      <td>3.0</td>\n",
              "      <td>1.0</td>\n",
              "      <td>3.0</td>\n",
              "      <td>71.0</td>\n",
              "      <td>355.00</td>\n",
              "      <td>0.10</td>\n",
              "      <td>10.50</td>\n",
              "      <td>0.12</td>\n",
              "      <td>17</td>\n",
              "      <td>0</td>\n",
              "      <td>2</td>\n",
              "      <td>18.0</td>\n",
              "      <td>43.0</td>\n",
              "      <td>28.0</td>\n",
              "      <td>5.0</td>\n",
              "    </tr>\n",
              "    <tr>\n",
              "      <th>60927</th>\n",
              "      <td>29.0</td>\n",
              "      <td>4.0</td>\n",
              "      <td>1.0</td>\n",
              "      <td>2.0</td>\n",
              "      <td>67.0</td>\n",
              "      <td>315.78</td>\n",
              "      <td>0.08</td>\n",
              "      <td>12.79</td>\n",
              "      <td>0.11</td>\n",
              "      <td>17</td>\n",
              "      <td>4</td>\n",
              "      <td>4</td>\n",
              "      <td>17.0</td>\n",
              "      <td>42.0</td>\n",
              "      <td>29.0</td>\n",
              "      <td>7.0</td>\n",
              "    </tr>\n",
              "    <tr>\n",
              "      <th>79918</th>\n",
              "      <td>42.0</td>\n",
              "      <td>11.0</td>\n",
              "      <td>9.0</td>\n",
              "      <td>5.0</td>\n",
              "      <td>165.0</td>\n",
              "      <td>872.80</td>\n",
              "      <td>0.05</td>\n",
              "      <td>21.72</td>\n",
              "      <td>0.29</td>\n",
              "      <td>33</td>\n",
              "      <td>1</td>\n",
              "      <td>4</td>\n",
              "      <td>29.0</td>\n",
              "      <td>96.0</td>\n",
              "      <td>69.0</td>\n",
              "      <td>21.0</td>\n",
              "    </tr>\n",
              "    <tr>\n",
              "      <th>50078</th>\n",
              "      <td>8.0</td>\n",
              "      <td>1.0</td>\n",
              "      <td>1.0</td>\n",
              "      <td>1.0</td>\n",
              "      <td>7.0</td>\n",
              "      <td>19.65</td>\n",
              "      <td>0.33</td>\n",
              "      <td>3.00</td>\n",
              "      <td>0.01</td>\n",
              "      <td>3</td>\n",
              "      <td>0</td>\n",
              "      <td>2</td>\n",
              "      <td>1.0</td>\n",
              "      <td>6.0</td>\n",
              "      <td>1.0</td>\n",
              "      <td>1.0</td>\n",
              "    </tr>\n",
              "    <tr>\n",
              "      <th>44080</th>\n",
              "      <td>5.0</td>\n",
              "      <td>1.0</td>\n",
              "      <td>1.0</td>\n",
              "      <td>1.0</td>\n",
              "      <td>14.0</td>\n",
              "      <td>46.51</td>\n",
              "      <td>0.33</td>\n",
              "      <td>3.00</td>\n",
              "      <td>0.01</td>\n",
              "      <td>3</td>\n",
              "      <td>0</td>\n",
              "      <td>0</td>\n",
              "      <td>5.0</td>\n",
              "      <td>8.0</td>\n",
              "      <td>6.0</td>\n",
              "      <td>1.0</td>\n",
              "    </tr>\n",
              "    <tr>\n",
              "      <th>...</th>\n",
              "      <td>...</td>\n",
              "      <td>...</td>\n",
              "      <td>...</td>\n",
              "      <td>...</td>\n",
              "      <td>...</td>\n",
              "      <td>...</td>\n",
              "      <td>...</td>\n",
              "      <td>...</td>\n",
              "      <td>...</td>\n",
              "      <td>...</td>\n",
              "      <td>...</td>\n",
              "      <td>...</td>\n",
              "      <td>...</td>\n",
              "      <td>...</td>\n",
              "      <td>...</td>\n",
              "      <td>...</td>\n",
              "    </tr>\n",
              "    <tr>\n",
              "      <th>2145</th>\n",
              "      <td>16.0</td>\n",
              "      <td>2.0</td>\n",
              "      <td>1.0</td>\n",
              "      <td>1.0</td>\n",
              "      <td>41.0</td>\n",
              "      <td>180.09</td>\n",
              "      <td>0.14</td>\n",
              "      <td>7.13</td>\n",
              "      <td>0.06</td>\n",
              "      <td>9</td>\n",
              "      <td>2</td>\n",
              "      <td>4</td>\n",
              "      <td>12.0</td>\n",
              "      <td>25.0</td>\n",
              "      <td>16.0</td>\n",
              "      <td>3.0</td>\n",
              "    </tr>\n",
              "    <tr>\n",
              "      <th>56352</th>\n",
              "      <td>64.0</td>\n",
              "      <td>7.0</td>\n",
              "      <td>5.0</td>\n",
              "      <td>6.0</td>\n",
              "      <td>0.0</td>\n",
              "      <td>0.00</td>\n",
              "      <td>0.00</td>\n",
              "      <td>0.00</td>\n",
              "      <td>0.00</td>\n",
              "      <td>0</td>\n",
              "      <td>0</td>\n",
              "      <td>0</td>\n",
              "      <td>0.0</td>\n",
              "      <td>0.0</td>\n",
              "      <td>0.0</td>\n",
              "      <td>13.0</td>\n",
              "    </tr>\n",
              "    <tr>\n",
              "      <th>11754</th>\n",
              "      <td>19.0</td>\n",
              "      <td>4.0</td>\n",
              "      <td>1.0</td>\n",
              "      <td>2.0</td>\n",
              "      <td>52.0</td>\n",
              "      <td>238.42</td>\n",
              "      <td>0.08</td>\n",
              "      <td>13.00</td>\n",
              "      <td>0.08</td>\n",
              "      <td>14</td>\n",
              "      <td>0</td>\n",
              "      <td>3</td>\n",
              "      <td>11.0</td>\n",
              "      <td>31.0</td>\n",
              "      <td>21.0</td>\n",
              "      <td>7.0</td>\n",
              "    </tr>\n",
              "    <tr>\n",
              "      <th>37789</th>\n",
              "      <td>44.0</td>\n",
              "      <td>13.0</td>\n",
              "      <td>11.0</td>\n",
              "      <td>3.0</td>\n",
              "      <td>137.0</td>\n",
              "      <td>596.54</td>\n",
              "      <td>0.04</td>\n",
              "      <td>26.92</td>\n",
              "      <td>0.20</td>\n",
              "      <td>36</td>\n",
              "      <td>9</td>\n",
              "      <td>3</td>\n",
              "      <td>12.0</td>\n",
              "      <td>115.0</td>\n",
              "      <td>42.0</td>\n",
              "      <td>25.0</td>\n",
              "    </tr>\n",
              "    <tr>\n",
              "      <th>31703</th>\n",
              "      <td>21.0</td>\n",
              "      <td>4.0</td>\n",
              "      <td>1.0</td>\n",
              "      <td>2.0</td>\n",
              "      <td>53.0</td>\n",
              "      <td>235.02</td>\n",
              "      <td>0.17</td>\n",
              "      <td>5.88</td>\n",
              "      <td>0.08</td>\n",
              "      <td>17</td>\n",
              "      <td>0</td>\n",
              "      <td>2</td>\n",
              "      <td>17.0</td>\n",
              "      <td>30.0</td>\n",
              "      <td>23.0</td>\n",
              "      <td>5.0</td>\n",
              "    </tr>\n",
              "  </tbody>\n",
              "</table>\n",
              "<p>25441 rows × 16 columns</p>\n",
              "</div>\n",
              "    <div class=\"colab-df-buttons\">\n",
              "\n",
              "  <div class=\"colab-df-container\">\n",
              "    <button class=\"colab-df-convert\" onclick=\"convertToInteractive('df-afe87de1-f6c0-4a9b-b86f-d5bba8318651')\"\n",
              "            title=\"Convert this dataframe to an interactive table.\"\n",
              "            style=\"display:none;\">\n",
              "\n",
              "  <svg xmlns=\"http://www.w3.org/2000/svg\" height=\"24px\" viewBox=\"0 -960 960 960\">\n",
              "    <path d=\"M120-120v-720h720v720H120Zm60-500h600v-160H180v160Zm220 220h160v-160H400v160Zm0 220h160v-160H400v160ZM180-400h160v-160H180v160Zm440 0h160v-160H620v160ZM180-180h160v-160H180v160Zm440 0h160v-160H620v160Z\"/>\n",
              "  </svg>\n",
              "    </button>\n",
              "\n",
              "  <style>\n",
              "    .colab-df-container {\n",
              "      display:flex;\n",
              "      gap: 12px;\n",
              "    }\n",
              "\n",
              "    .colab-df-convert {\n",
              "      background-color: #E8F0FE;\n",
              "      border: none;\n",
              "      border-radius: 50%;\n",
              "      cursor: pointer;\n",
              "      display: none;\n",
              "      fill: #1967D2;\n",
              "      height: 32px;\n",
              "      padding: 0 0 0 0;\n",
              "      width: 32px;\n",
              "    }\n",
              "\n",
              "    .colab-df-convert:hover {\n",
              "      background-color: #E2EBFA;\n",
              "      box-shadow: 0px 1px 2px rgba(60, 64, 67, 0.3), 0px 1px 3px 1px rgba(60, 64, 67, 0.15);\n",
              "      fill: #174EA6;\n",
              "    }\n",
              "\n",
              "    .colab-df-buttons div {\n",
              "      margin-bottom: 4px;\n",
              "    }\n",
              "\n",
              "    [theme=dark] .colab-df-convert {\n",
              "      background-color: #3B4455;\n",
              "      fill: #D2E3FC;\n",
              "    }\n",
              "\n",
              "    [theme=dark] .colab-df-convert:hover {\n",
              "      background-color: #434B5C;\n",
              "      box-shadow: 0px 1px 3px 1px rgba(0, 0, 0, 0.15);\n",
              "      filter: drop-shadow(0px 1px 2px rgba(0, 0, 0, 0.3));\n",
              "      fill: #FFFFFF;\n",
              "    }\n",
              "  </style>\n",
              "\n",
              "    <script>\n",
              "      const buttonEl =\n",
              "        document.querySelector('#df-afe87de1-f6c0-4a9b-b86f-d5bba8318651 button.colab-df-convert');\n",
              "      buttonEl.style.display =\n",
              "        google.colab.kernel.accessAllowed ? 'block' : 'none';\n",
              "\n",
              "      async function convertToInteractive(key) {\n",
              "        const element = document.querySelector('#df-afe87de1-f6c0-4a9b-b86f-d5bba8318651');\n",
              "        const dataTable =\n",
              "          await google.colab.kernel.invokeFunction('convertToInteractive',\n",
              "                                                    [key], {});\n",
              "        if (!dataTable) return;\n",
              "\n",
              "        const docLinkHtml = 'Like what you see? Visit the ' +\n",
              "          '<a target=\"_blank\" href=https://colab.research.google.com/notebooks/data_table.ipynb>data table notebook</a>'\n",
              "          + ' to learn more about interactive tables.';\n",
              "        element.innerHTML = '';\n",
              "        dataTable['output_type'] = 'display_data';\n",
              "        await google.colab.output.renderOutput(dataTable, element);\n",
              "        const docLink = document.createElement('div');\n",
              "        docLink.innerHTML = docLinkHtml;\n",
              "        element.appendChild(docLink);\n",
              "      }\n",
              "    </script>\n",
              "  </div>\n",
              "\n",
              "\n",
              "<div id=\"df-c3f510d1-3d56-45f1-b966-9aae368c7fad\">\n",
              "  <button class=\"colab-df-quickchart\" onclick=\"quickchart('df-c3f510d1-3d56-45f1-b966-9aae368c7fad')\"\n",
              "            title=\"Suggest charts.\"\n",
              "            style=\"display:none;\">\n",
              "\n",
              "<svg xmlns=\"http://www.w3.org/2000/svg\" height=\"24px\"viewBox=\"0 0 24 24\"\n",
              "     width=\"24px\">\n",
              "    <g>\n",
              "        <path d=\"M19 3H5c-1.1 0-2 .9-2 2v14c0 1.1.9 2 2 2h14c1.1 0 2-.9 2-2V5c0-1.1-.9-2-2-2zM9 17H7v-7h2v7zm4 0h-2V7h2v10zm4 0h-2v-4h2v4z\"/>\n",
              "    </g>\n",
              "</svg>\n",
              "  </button>\n",
              "\n",
              "<style>\n",
              "  .colab-df-quickchart {\n",
              "      --bg-color: #E8F0FE;\n",
              "      --fill-color: #1967D2;\n",
              "      --hover-bg-color: #E2EBFA;\n",
              "      --hover-fill-color: #174EA6;\n",
              "      --disabled-fill-color: #AAA;\n",
              "      --disabled-bg-color: #DDD;\n",
              "  }\n",
              "\n",
              "  [theme=dark] .colab-df-quickchart {\n",
              "      --bg-color: #3B4455;\n",
              "      --fill-color: #D2E3FC;\n",
              "      --hover-bg-color: #434B5C;\n",
              "      --hover-fill-color: #FFFFFF;\n",
              "      --disabled-bg-color: #3B4455;\n",
              "      --disabled-fill-color: #666;\n",
              "  }\n",
              "\n",
              "  .colab-df-quickchart {\n",
              "    background-color: var(--bg-color);\n",
              "    border: none;\n",
              "    border-radius: 50%;\n",
              "    cursor: pointer;\n",
              "    display: none;\n",
              "    fill: var(--fill-color);\n",
              "    height: 32px;\n",
              "    padding: 0;\n",
              "    width: 32px;\n",
              "  }\n",
              "\n",
              "  .colab-df-quickchart:hover {\n",
              "    background-color: var(--hover-bg-color);\n",
              "    box-shadow: 0 1px 2px rgba(60, 64, 67, 0.3), 0 1px 3px 1px rgba(60, 64, 67, 0.15);\n",
              "    fill: var(--button-hover-fill-color);\n",
              "  }\n",
              "\n",
              "  .colab-df-quickchart-complete:disabled,\n",
              "  .colab-df-quickchart-complete:disabled:hover {\n",
              "    background-color: var(--disabled-bg-color);\n",
              "    fill: var(--disabled-fill-color);\n",
              "    box-shadow: none;\n",
              "  }\n",
              "\n",
              "  .colab-df-spinner {\n",
              "    border: 2px solid var(--fill-color);\n",
              "    border-color: transparent;\n",
              "    border-bottom-color: var(--fill-color);\n",
              "    animation:\n",
              "      spin 1s steps(1) infinite;\n",
              "  }\n",
              "\n",
              "  @keyframes spin {\n",
              "    0% {\n",
              "      border-color: transparent;\n",
              "      border-bottom-color: var(--fill-color);\n",
              "      border-left-color: var(--fill-color);\n",
              "    }\n",
              "    20% {\n",
              "      border-color: transparent;\n",
              "      border-left-color: var(--fill-color);\n",
              "      border-top-color: var(--fill-color);\n",
              "    }\n",
              "    30% {\n",
              "      border-color: transparent;\n",
              "      border-left-color: var(--fill-color);\n",
              "      border-top-color: var(--fill-color);\n",
              "      border-right-color: var(--fill-color);\n",
              "    }\n",
              "    40% {\n",
              "      border-color: transparent;\n",
              "      border-right-color: var(--fill-color);\n",
              "      border-top-color: var(--fill-color);\n",
              "    }\n",
              "    60% {\n",
              "      border-color: transparent;\n",
              "      border-right-color: var(--fill-color);\n",
              "    }\n",
              "    80% {\n",
              "      border-color: transparent;\n",
              "      border-right-color: var(--fill-color);\n",
              "      border-bottom-color: var(--fill-color);\n",
              "    }\n",
              "    90% {\n",
              "      border-color: transparent;\n",
              "      border-bottom-color: var(--fill-color);\n",
              "    }\n",
              "  }\n",
              "</style>\n",
              "\n",
              "  <script>\n",
              "    async function quickchart(key) {\n",
              "      const quickchartButtonEl =\n",
              "        document.querySelector('#' + key + ' button');\n",
              "      quickchartButtonEl.disabled = true;  // To prevent multiple clicks.\n",
              "      quickchartButtonEl.classList.add('colab-df-spinner');\n",
              "      try {\n",
              "        const charts = await google.colab.kernel.invokeFunction(\n",
              "            'suggestCharts', [key], {});\n",
              "      } catch (error) {\n",
              "        console.error('Error during call to suggestCharts:', error);\n",
              "      }\n",
              "      quickchartButtonEl.classList.remove('colab-df-spinner');\n",
              "      quickchartButtonEl.classList.add('colab-df-quickchart-complete');\n",
              "    }\n",
              "    (() => {\n",
              "      let quickchartButtonEl =\n",
              "        document.querySelector('#df-c3f510d1-3d56-45f1-b966-9aae368c7fad button');\n",
              "      quickchartButtonEl.style.display =\n",
              "        google.colab.kernel.accessAllowed ? 'block' : 'none';\n",
              "    })();\n",
              "  </script>\n",
              "</div>\n",
              "    </div>\n",
              "  </div>\n"
            ]
          },
          "metadata": {},
          "execution_count": 137
        }
      ]
    },
    {
      "cell_type": "code",
      "source": [
        "scaler = StandardScaler()\n",
        "scaler.fit(X_train_features)"
      ],
      "metadata": {
        "colab": {
          "base_uri": "https://localhost:8080/",
          "height": 75
        },
        "id": "xj57K--5rwla",
        "outputId": "1059556b-95dd-435a-affc-2c524a8fa718"
      },
      "execution_count": 138,
      "outputs": [
        {
          "output_type": "execute_result",
          "data": {
            "text/plain": [
              "StandardScaler()"
            ],
            "text/html": [
              "<style>#sk-container-id-4 {color: black;background-color: white;}#sk-container-id-4 pre{padding: 0;}#sk-container-id-4 div.sk-toggleable {background-color: white;}#sk-container-id-4 label.sk-toggleable__label {cursor: pointer;display: block;width: 100%;margin-bottom: 0;padding: 0.3em;box-sizing: border-box;text-align: center;}#sk-container-id-4 label.sk-toggleable__label-arrow:before {content: \"▸\";float: left;margin-right: 0.25em;color: #696969;}#sk-container-id-4 label.sk-toggleable__label-arrow:hover:before {color: black;}#sk-container-id-4 div.sk-estimator:hover label.sk-toggleable__label-arrow:before {color: black;}#sk-container-id-4 div.sk-toggleable__content {max-height: 0;max-width: 0;overflow: hidden;text-align: left;background-color: #f0f8ff;}#sk-container-id-4 div.sk-toggleable__content pre {margin: 0.2em;color: black;border-radius: 0.25em;background-color: #f0f8ff;}#sk-container-id-4 input.sk-toggleable__control:checked~div.sk-toggleable__content {max-height: 200px;max-width: 100%;overflow: auto;}#sk-container-id-4 input.sk-toggleable__control:checked~label.sk-toggleable__label-arrow:before {content: \"▾\";}#sk-container-id-4 div.sk-estimator input.sk-toggleable__control:checked~label.sk-toggleable__label {background-color: #d4ebff;}#sk-container-id-4 div.sk-label input.sk-toggleable__control:checked~label.sk-toggleable__label {background-color: #d4ebff;}#sk-container-id-4 input.sk-hidden--visually {border: 0;clip: rect(1px 1px 1px 1px);clip: rect(1px, 1px, 1px, 1px);height: 1px;margin: -1px;overflow: hidden;padding: 0;position: absolute;width: 1px;}#sk-container-id-4 div.sk-estimator {font-family: monospace;background-color: #f0f8ff;border: 1px dotted black;border-radius: 0.25em;box-sizing: border-box;margin-bottom: 0.5em;}#sk-container-id-4 div.sk-estimator:hover {background-color: #d4ebff;}#sk-container-id-4 div.sk-parallel-item::after {content: \"\";width: 100%;border-bottom: 1px solid gray;flex-grow: 1;}#sk-container-id-4 div.sk-label:hover label.sk-toggleable__label {background-color: #d4ebff;}#sk-container-id-4 div.sk-serial::before {content: \"\";position: absolute;border-left: 1px solid gray;box-sizing: border-box;top: 0;bottom: 0;left: 50%;z-index: 0;}#sk-container-id-4 div.sk-serial {display: flex;flex-direction: column;align-items: center;background-color: white;padding-right: 0.2em;padding-left: 0.2em;position: relative;}#sk-container-id-4 div.sk-item {position: relative;z-index: 1;}#sk-container-id-4 div.sk-parallel {display: flex;align-items: stretch;justify-content: center;background-color: white;position: relative;}#sk-container-id-4 div.sk-item::before, #sk-container-id-4 div.sk-parallel-item::before {content: \"\";position: absolute;border-left: 1px solid gray;box-sizing: border-box;top: 0;bottom: 0;left: 50%;z-index: -1;}#sk-container-id-4 div.sk-parallel-item {display: flex;flex-direction: column;z-index: 1;position: relative;background-color: white;}#sk-container-id-4 div.sk-parallel-item:first-child::after {align-self: flex-end;width: 50%;}#sk-container-id-4 div.sk-parallel-item:last-child::after {align-self: flex-start;width: 50%;}#sk-container-id-4 div.sk-parallel-item:only-child::after {width: 0;}#sk-container-id-4 div.sk-dashed-wrapped {border: 1px dashed gray;margin: 0 0.4em 0.5em 0.4em;box-sizing: border-box;padding-bottom: 0.4em;background-color: white;}#sk-container-id-4 div.sk-label label {font-family: monospace;font-weight: bold;display: inline-block;line-height: 1.2em;}#sk-container-id-4 div.sk-label-container {text-align: center;}#sk-container-id-4 div.sk-container {/* jupyter's `normalize.less` sets `[hidden] { display: none; }` but bootstrap.min.css set `[hidden] { display: none !important; }` so we also need the `!important` here to be able to override the default hidden behavior on the sphinx rendered scikit-learn.org. See: https://github.com/scikit-learn/scikit-learn/issues/21755 */display: inline-block !important;position: relative;}#sk-container-id-4 div.sk-text-repr-fallback {display: none;}</style><div id=\"sk-container-id-4\" class=\"sk-top-container\"><div class=\"sk-text-repr-fallback\"><pre>StandardScaler()</pre><b>In a Jupyter environment, please rerun this cell to show the HTML representation or trust the notebook. <br />On GitHub, the HTML representation is unable to render, please try loading this page with nbviewer.org.</b></div><div class=\"sk-container\" hidden><div class=\"sk-item\"><div class=\"sk-estimator sk-toggleable\"><input class=\"sk-toggleable__control sk-hidden--visually\" id=\"sk-estimator-id-4\" type=\"checkbox\" checked><label for=\"sk-estimator-id-4\" class=\"sk-toggleable__label sk-toggleable__label-arrow\">StandardScaler</label><div class=\"sk-toggleable__content\"><pre>StandardScaler()</pre></div></div></div></div></div>"
            ]
          },
          "metadata": {},
          "execution_count": 138
        }
      ]
    },
    {
      "cell_type": "code",
      "source": [
        "X_train_feature_norm = scaler.transform(X_train_features)\n",
        "\n",
        "X_val_feature_norm = scaler.transform(X_val_features)\n",
        "\n",
        "X_train_feature_norm.shape, X_val_feature_norm.shape"
      ],
      "metadata": {
        "colab": {
          "base_uri": "https://localhost:8080/"
        },
        "id": "lQk-VoynUr4Y",
        "outputId": "471ceda2-3295-4c12-b758-0bd072bb60e5"
      },
      "execution_count": 139,
      "outputs": [
        {
          "output_type": "execute_result",
          "data": {
            "text/plain": [
              "((76322, 16), (25441, 16))"
            ]
          },
          "metadata": {},
          "execution_count": 139
        }
      ]
    },
    {
      "cell_type": "markdown",
      "source": [
        "### Training model with feature selection"
      ],
      "metadata": {
        "id": "vYr4X4w9ofoM"
      }
    },
    {
      "cell_type": "code",
      "source": [
        "lgb.fit(X_train_feature_norm, y_train)\n",
        "\n",
        "# Get predictions\n",
        "preds = lgb.predict(X_val_feature_norm)\n",
        "\n",
        "# Get score\n",
        "score = roc_auc_score(y_val, preds)\n",
        "score\n",
        "\n",
        "AUC_Scores[\"LGBMClassifier\"].update({\"Feature_Selection_Data\": score})\n",
        "\n",
        "print(f\"AUC: {score_xgb}\")"
      ],
      "metadata": {
        "id": "7SGO3jNUU3Ck",
        "colab": {
          "base_uri": "https://localhost:8080/"
        },
        "outputId": "801a05ef-f156-4a78-eb37-ceba752eeb00"
      },
      "execution_count": 140,
      "outputs": [
        {
          "output_type": "stream",
          "name": "stdout",
          "text": [
            "AUC: 0.6636069001316344\n"
          ]
        }
      ]
    },
    {
      "cell_type": "code",
      "source": [
        "xgb.fit(X_train_feature_norm, y_train)\n",
        "\n",
        "# Get predictions\n",
        "preds = xgb.predict(X_val_feature_norm)\n",
        "\n",
        "# Get score\n",
        "score = roc_auc_score(y_val, preds)\n",
        "score\n",
        "\n",
        "AUC_Scores[\"XGBClassifier\"].update({\"Feature_Selection_Data\": score})\n",
        "\n",
        "print(f\"AUC: {score}\")"
      ],
      "metadata": {
        "id": "DLEb_9J_U8uF",
        "colab": {
          "base_uri": "https://localhost:8080/"
        },
        "outputId": "644ade58-5af3-450b-df3c-c477a2b4fcc7"
      },
      "execution_count": 141,
      "outputs": [
        {
          "output_type": "stream",
          "name": "stdout",
          "text": [
            "AUC: 0.6638844370960116\n"
          ]
        }
      ]
    },
    {
      "cell_type": "markdown",
      "source": [
        "### Training model with feature selection + undersampling"
      ],
      "metadata": {
        "id": "zOduXJqOolTJ"
      }
    },
    {
      "cell_type": "code",
      "source": [
        "X_train_feat_norm_under, y_train_under = us.fit_resample(X_train_feature_norm, y_train)\n",
        "X_train_feat_norm_under"
      ],
      "metadata": {
        "id": "A-6-3fp-orSA",
        "colab": {
          "base_uri": "https://localhost:8080/"
        },
        "outputId": "d78302b3-3afb-456c-a303-7cbcc25a4d60"
      },
      "execution_count": 142,
      "outputs": [
        {
          "output_type": "execute_result",
          "data": {
            "text/plain": [
              "array([[-0.59929657, -0.56525071, -0.39630263, ..., -0.4855283 ,\n",
              "        -0.47687308, -0.61248798],\n",
              "       [-0.35798539, -0.31404207, -0.39630263, ..., -0.24014057,\n",
              "        -0.24649108, -0.33559343],\n",
              "       [ 0.75575851, -0.43964639, -0.39630263, ...,  1.07513761,\n",
              "         1.4525762 , -0.4740407 ],\n",
              "       ...,\n",
              "       [-0.20948621, -0.43964639, -0.39630263, ..., -0.22050956,\n",
              "        -0.16009783, -0.4740407 ],\n",
              "       [ 0.18032416, -0.06283343, -0.39630263, ...,  0.29971241,\n",
              "         0.30066618, -0.05869887],\n",
              "       [ 0.25457375, -0.43964639, -0.39630263, ...,  0.947536  ,\n",
              "         0.96301444, -0.4740407 ]])"
            ]
          },
          "metadata": {},
          "execution_count": 142
        }
      ]
    },
    {
      "cell_type": "code",
      "source": [
        "lgb.fit(X_train_feat_norm_under, y_train_under)\n",
        "\n",
        "# Get predictions\n",
        "preds = lgb.predict(X_val_feature_norm)\n",
        "\n",
        "# Get score\n",
        "score = roc_auc_score(y_val, preds)\n",
        "score\n",
        "\n",
        "AUC_Scores[\"LGBMClassifier\"].update({\"Selection_Undersampled_Data\": score})\n",
        "\n",
        "print(f\"AUC: {score}\")"
      ],
      "metadata": {
        "id": "kCZv65P8Xbu4",
        "colab": {
          "base_uri": "https://localhost:8080/"
        },
        "outputId": "5fb067cf-00b1-45a6-a713-561e5694561d"
      },
      "execution_count": 143,
      "outputs": [
        {
          "output_type": "stream",
          "name": "stdout",
          "text": [
            "AUC: 0.7153114799180225\n"
          ]
        }
      ]
    },
    {
      "cell_type": "code",
      "source": [
        "xgb.fit(X_train_feat_norm_under, y_train_under)\n",
        "\n",
        "# Get predictions\n",
        "preds = xgb.predict(X_val_feature_norm)\n",
        "\n",
        "# Get score\n",
        "score = roc_auc_score(y_val, preds)\n",
        "score\n",
        "\n",
        "AUC_Scores[\"XGBClassifier\"].update({\"Selection_Undersampled_Data\": score})\n",
        "\n",
        "print(f\"AUC: {score_xgb}\")"
      ],
      "metadata": {
        "id": "XoCESCxAXbfF",
        "colab": {
          "base_uri": "https://localhost:8080/"
        },
        "outputId": "e25b4c58-e006-49e0-88d1-c1b332669431"
      },
      "execution_count": 144,
      "outputs": [
        {
          "output_type": "stream",
          "name": "stdout",
          "text": [
            "AUC: 0.6636069001316344\n"
          ]
        }
      ]
    },
    {
      "cell_type": "markdown",
      "source": [
        "## Tensorflow Experiments"
      ],
      "metadata": {
        "id": "yc94tyEMXvOv"
      }
    },
    {
      "cell_type": "code",
      "source": [
        "import tensorflow as tf\n",
        "from tensorflow.keras import layers"
      ],
      "metadata": {
        "id": "yUXPEydsci_A"
      },
      "execution_count": 145,
      "outputs": []
    },
    {
      "cell_type": "code",
      "source": [
        "# Tensorflow callback\n",
        "early_stop = tf.keras.callbacks.EarlyStopping(monitor=\"val_loss\",\n",
        "                                              patience=3)"
      ],
      "metadata": {
        "id": "feUreaKwfNyo"
      },
      "execution_count": 146,
      "outputs": []
    },
    {
      "cell_type": "markdown",
      "source": [
        "#### Normal Data\n"
      ],
      "metadata": {
        "id": "IiGVXC4UhEfV"
      }
    },
    {
      "cell_type": "code",
      "source": [
        "cols = len(X_train.columns)\n",
        "\n",
        "inputs = layers.Input(shape=(cols, ), name=\"inputs\")\n",
        "x = layers.Dense(64, activation=\"tanh\")(inputs)\n",
        "outputs = layers.Dense(1, activation=\"sigmoid\")(x)\n",
        "\n",
        "\n",
        "model_tf_normal = tf.keras.Model(inputs, outputs, name=\"normal_data\")\n",
        "\n",
        "model_tf_normal.compile(loss=\"BinaryCrossentropy\",\n",
        "                        optimizer=\"Adam\",\n",
        "                        metrics=[\"acc\"])\n",
        "\n",
        "history_tf_normal = model_tf_normal.fit(X_train, y_train,\n",
        "                                        epochs=100,\n",
        "                                        validation_data=(X_val, y_val),\n",
        "                                        callbacks=[early_stop],\n",
        "                                        verbose=0)\n",
        "\n",
        "tf_pred = model_tf_normal.predict(X_val)\n",
        "\n",
        "score = roc_auc_score(y_val, tf_pred)\n",
        "AUC_Scores[\"TensorFlow\"] = {\"Normal_Data\": score}\n",
        "\n",
        "print(f\"Accuracy: {history_tf_normal.history['acc']}\")"
      ],
      "metadata": {
        "colab": {
          "base_uri": "https://localhost:8080/"
        },
        "id": "IDncHsQIcqRP",
        "outputId": "b1a3f059-007f-4407-cb27-a3cf2594f4c7"
      },
      "execution_count": 147,
      "outputs": [
        {
          "output_type": "stream",
          "name": "stdout",
          "text": [
            "796/796 [==============================] - 1s 792us/step\n",
            "Accuracy: [0.7797227501869202, 0.7861691117286682, 0.7873745560646057, 0.7868373394012451, 0.7870208024978638, 0.7870076894760132, 0.7873745560646057, 0.788068950176239, 0.7875972986221313]\n"
          ]
        }
      ]
    },
    {
      "cell_type": "markdown",
      "source": [
        "#### Feature Selection"
      ],
      "metadata": {
        "id": "34q235OuhGbM"
      }
    },
    {
      "cell_type": "code",
      "source": [
        "inputs = layers.Input(shape=(len(X_train_features.columns),), name=\"inputs\")\n",
        "x = layers.Dense(64, activation=\"tanh\")(inputs)\n",
        "outputs = layers.Dense(1, activation=\"sigmoid\")(x)\n",
        "\n",
        "\n",
        "model_tf_feature = tf.keras.Model(inputs, outputs, name=\"normal_data\")\n",
        "\n",
        "model_tf_feature.compile(loss=\"BinaryCrossentropy\",\n",
        "                        optimizer=\"Adam\",\n",
        "                        metrics=[\"acc\"])\n",
        "\n",
        "history_tf_feature = model_tf_feature.fit(X_train_features, y_train,\n",
        "                                        epochs=100,\n",
        "                                        validation_data=(X_val_features, y_val),\n",
        "                                        callbacks=[early_stop],\n",
        "                                        verbose=0)\n",
        "\n",
        "tf_pred = model_tf_feature.predict(X_val_features)\n",
        "\n",
        "score = roc_auc_score(y_val, tf_pred)\n",
        "AUC_Scores[\"TensorFlow\"].update({\"Feature_Selection_Data\": score})\n",
        "\n",
        "print(f\"Accuracy: {history_tf_feature.history['acc']}\")"
      ],
      "metadata": {
        "id": "-OqdGCfpc6qt",
        "colab": {
          "base_uri": "https://localhost:8080/"
        },
        "outputId": "af009b67-49a8-4972-fd71-0ba5387c94bc"
      },
      "execution_count": 148,
      "outputs": [
        {
          "output_type": "stream",
          "name": "stdout",
          "text": [
            "796/796 [==============================] - 1s 763us/step\n",
            "Accuracy: [0.7951049208641052, 0.7957469820976257, 0.7971489429473877, 0.8004507422447205, 0.8040669560432434, 0.8005686402320862, 0.7977647185325623]\n"
          ]
        }
      ]
    },
    {
      "cell_type": "markdown",
      "source": [
        "#### Undersampled data"
      ],
      "metadata": {
        "id": "sIj4bidZhJea"
      }
    },
    {
      "cell_type": "code",
      "source": [
        "inputs = layers.Input(shape=(len(X_train_under.columns),), name=\"inputs\")\n",
        "x = layers.Dense(64, activation=\"tanh\")(inputs)\n",
        "outputs = layers.Dense(1, activation=\"sigmoid\")(x)\n",
        "\n",
        "\n",
        "model_tf_under = tf.keras.Model(inputs, outputs, name=\"normal_data\")\n",
        "\n",
        "model_tf_under.compile(loss=\"BinaryCrossentropy\",\n",
        "                        optimizer=\"Adam\",\n",
        "                        metrics=[\"acc\"])\n",
        "\n",
        "history_tf_under = model_tf_under.fit(X_train_under, y_train_under,\n",
        "                                        epochs=100,\n",
        "                                        validation_data=(X_val, y_val),\n",
        "                                        callbacks=[early_stop],\n",
        "                                        verbose=0)\n",
        "\n",
        "tf_pred = model_tf_under.predict(X_val)\n",
        "\n",
        "print(f\"Accuracy: {history_tf_under.history['acc']}\")"
      ],
      "metadata": {
        "id": "oWgNNv4DhN8x",
        "colab": {
          "base_uri": "https://localhost:8080/"
        },
        "outputId": "fdbee3c0-d90f-4dc7-d164-a38e5e539e63"
      },
      "execution_count": 149,
      "outputs": [
        {
          "output_type": "stream",
          "name": "stdout",
          "text": [
            "796/796 [==============================] - 1s 784us/step\n",
            "Accuracy: [0.6572648286819458, 0.5631885528564453, 0.5978254675865173, 0.6660898923873901, 0.5556036233901978, 0.5959796905517578, 0.6471419334411621, 0.5609967112541199, 0.6773951649665833]\n"
          ]
        }
      ]
    },
    {
      "cell_type": "markdown",
      "source": [
        "#### Feature Selection + Undersampled"
      ],
      "metadata": {
        "id": "xHtCXwHOhOQE"
      }
    },
    {
      "cell_type": "code",
      "source": [
        "inputs = layers.Input(shape=(X_train_feat_norm_under.shape[1], ), name=\"inputs\")\n",
        "x = layers.Dense(64, activation=\"tanh\")(inputs)\n",
        "outputs = layers.Dense(1, activation=\"sigmoid\")(x)\n",
        "\n",
        "\n",
        "model_tf_selection_undersampled = tf.keras.Model(inputs, outputs, name=\"normal_data\")\n",
        "\n",
        "model_tf_selection_undersampled.compile(loss=\"BinaryCrossentropy\",\n",
        "                                        optimizer=\"Adam\",\n",
        "                                        metrics=[\"acc\"])\n",
        "\n",
        "history_tf_selection_undersampled = model_tf_selection_undersampled.fit(X_train_feat_norm_under, y_train_under,\n",
        "                                                                        epochs=100,\n",
        "                                                                        validation_data=(X_val_feature_norm, y_val),\n",
        "                                                                        callbacks=[early_stop],\n",
        "                                                                        verbose=0)\n",
        "\n",
        "tf_pred = model_tf_selection_undersampled.predict(X_val_feature_norm)\n",
        "\n",
        "score = roc_auc_score(y_val, tf_pred)\n",
        "AUC_Scores[\"TensorFlow\"].update({\"Selection_Undersampled_Data\": score})\n",
        "\n",
        "print(f\"Accuracy: {history_tf_selection_undersampled.history['acc']}\")"
      ],
      "metadata": {
        "id": "3OK0j38FhTHE",
        "colab": {
          "base_uri": "https://localhost:8080/"
        },
        "outputId": "824c9f89-848a-4e30-fca8-fc13a895d267"
      },
      "execution_count": 150,
      "outputs": [
        {
          "output_type": "stream",
          "name": "stdout",
          "text": [
            "796/796 [==============================] - 1s 779us/step\n",
            "Accuracy: [0.7206264138221741, 0.7231354713439941, 0.7248659133911133, 0.7235969305038452]\n"
          ]
        }
      ]
    },
    {
      "cell_type": "markdown",
      "source": [
        "## Comparing results\n",
        "\n",
        "\n"
      ],
      "metadata": {
        "id": "0RpB77kpMD7Q"
      }
    },
    {
      "cell_type": "code",
      "source": [
        "pd.DataFrame(AUC_Scores)"
      ],
      "metadata": {
        "colab": {
          "base_uri": "https://localhost:8080/",
          "height": 175
        },
        "id": "Wpev8tSnMGVu",
        "outputId": "330e7d43-800c-46c1-eb7d-ecee323ac870"
      },
      "execution_count": 151,
      "outputs": [
        {
          "output_type": "execute_result",
          "data": {
            "text/plain": [
              "                             Random_Forest  LGBMClassifier  XGBClassifier  \\\n",
              "Normal_Data                       0.658513        0.666343       0.663607   \n",
              "Undersampled_Data                      NaN        0.512391       0.500324   \n",
              "Feature_Selection_Data                 NaN        0.660437       0.663884   \n",
              "Selection_Undersampled_Data            NaN        0.715311       0.719763   \n",
              "\n",
              "                             TensorFlow  \n",
              "Normal_Data                    0.714141  \n",
              "Undersampled_Data                   NaN  \n",
              "Feature_Selection_Data         0.769760  \n",
              "Selection_Undersampled_Data    0.786227  "
            ],
            "text/html": [
              "\n",
              "  <div id=\"df-d5340d46-f352-4cb6-929e-627cc1781247\" class=\"colab-df-container\">\n",
              "    <div>\n",
              "<style scoped>\n",
              "    .dataframe tbody tr th:only-of-type {\n",
              "        vertical-align: middle;\n",
              "    }\n",
              "\n",
              "    .dataframe tbody tr th {\n",
              "        vertical-align: top;\n",
              "    }\n",
              "\n",
              "    .dataframe thead th {\n",
              "        text-align: right;\n",
              "    }\n",
              "</style>\n",
              "<table border=\"1\" class=\"dataframe\">\n",
              "  <thead>\n",
              "    <tr style=\"text-align: right;\">\n",
              "      <th></th>\n",
              "      <th>Random_Forest</th>\n",
              "      <th>LGBMClassifier</th>\n",
              "      <th>XGBClassifier</th>\n",
              "      <th>TensorFlow</th>\n",
              "    </tr>\n",
              "  </thead>\n",
              "  <tbody>\n",
              "    <tr>\n",
              "      <th>Normal_Data</th>\n",
              "      <td>0.658513</td>\n",
              "      <td>0.666343</td>\n",
              "      <td>0.663607</td>\n",
              "      <td>0.714141</td>\n",
              "    </tr>\n",
              "    <tr>\n",
              "      <th>Undersampled_Data</th>\n",
              "      <td>NaN</td>\n",
              "      <td>0.512391</td>\n",
              "      <td>0.500324</td>\n",
              "      <td>NaN</td>\n",
              "    </tr>\n",
              "    <tr>\n",
              "      <th>Feature_Selection_Data</th>\n",
              "      <td>NaN</td>\n",
              "      <td>0.660437</td>\n",
              "      <td>0.663884</td>\n",
              "      <td>0.769760</td>\n",
              "    </tr>\n",
              "    <tr>\n",
              "      <th>Selection_Undersampled_Data</th>\n",
              "      <td>NaN</td>\n",
              "      <td>0.715311</td>\n",
              "      <td>0.719763</td>\n",
              "      <td>0.786227</td>\n",
              "    </tr>\n",
              "  </tbody>\n",
              "</table>\n",
              "</div>\n",
              "    <div class=\"colab-df-buttons\">\n",
              "\n",
              "  <div class=\"colab-df-container\">\n",
              "    <button class=\"colab-df-convert\" onclick=\"convertToInteractive('df-d5340d46-f352-4cb6-929e-627cc1781247')\"\n",
              "            title=\"Convert this dataframe to an interactive table.\"\n",
              "            style=\"display:none;\">\n",
              "\n",
              "  <svg xmlns=\"http://www.w3.org/2000/svg\" height=\"24px\" viewBox=\"0 -960 960 960\">\n",
              "    <path d=\"M120-120v-720h720v720H120Zm60-500h600v-160H180v160Zm220 220h160v-160H400v160Zm0 220h160v-160H400v160ZM180-400h160v-160H180v160Zm440 0h160v-160H620v160ZM180-180h160v-160H180v160Zm440 0h160v-160H620v160Z\"/>\n",
              "  </svg>\n",
              "    </button>\n",
              "\n",
              "  <style>\n",
              "    .colab-df-container {\n",
              "      display:flex;\n",
              "      gap: 12px;\n",
              "    }\n",
              "\n",
              "    .colab-df-convert {\n",
              "      background-color: #E8F0FE;\n",
              "      border: none;\n",
              "      border-radius: 50%;\n",
              "      cursor: pointer;\n",
              "      display: none;\n",
              "      fill: #1967D2;\n",
              "      height: 32px;\n",
              "      padding: 0 0 0 0;\n",
              "      width: 32px;\n",
              "    }\n",
              "\n",
              "    .colab-df-convert:hover {\n",
              "      background-color: #E2EBFA;\n",
              "      box-shadow: 0px 1px 2px rgba(60, 64, 67, 0.3), 0px 1px 3px 1px rgba(60, 64, 67, 0.15);\n",
              "      fill: #174EA6;\n",
              "    }\n",
              "\n",
              "    .colab-df-buttons div {\n",
              "      margin-bottom: 4px;\n",
              "    }\n",
              "\n",
              "    [theme=dark] .colab-df-convert {\n",
              "      background-color: #3B4455;\n",
              "      fill: #D2E3FC;\n",
              "    }\n",
              "\n",
              "    [theme=dark] .colab-df-convert:hover {\n",
              "      background-color: #434B5C;\n",
              "      box-shadow: 0px 1px 3px 1px rgba(0, 0, 0, 0.15);\n",
              "      filter: drop-shadow(0px 1px 2px rgba(0, 0, 0, 0.3));\n",
              "      fill: #FFFFFF;\n",
              "    }\n",
              "  </style>\n",
              "\n",
              "    <script>\n",
              "      const buttonEl =\n",
              "        document.querySelector('#df-d5340d46-f352-4cb6-929e-627cc1781247 button.colab-df-convert');\n",
              "      buttonEl.style.display =\n",
              "        google.colab.kernel.accessAllowed ? 'block' : 'none';\n",
              "\n",
              "      async function convertToInteractive(key) {\n",
              "        const element = document.querySelector('#df-d5340d46-f352-4cb6-929e-627cc1781247');\n",
              "        const dataTable =\n",
              "          await google.colab.kernel.invokeFunction('convertToInteractive',\n",
              "                                                    [key], {});\n",
              "        if (!dataTable) return;\n",
              "\n",
              "        const docLinkHtml = 'Like what you see? Visit the ' +\n",
              "          '<a target=\"_blank\" href=https://colab.research.google.com/notebooks/data_table.ipynb>data table notebook</a>'\n",
              "          + ' to learn more about interactive tables.';\n",
              "        element.innerHTML = '';\n",
              "        dataTable['output_type'] = 'display_data';\n",
              "        await google.colab.output.renderOutput(dataTable, element);\n",
              "        const docLink = document.createElement('div');\n",
              "        docLink.innerHTML = docLinkHtml;\n",
              "        element.appendChild(docLink);\n",
              "      }\n",
              "    </script>\n",
              "  </div>\n",
              "\n",
              "\n",
              "<div id=\"df-903e9368-1488-48ba-9067-bc9d1e211802\">\n",
              "  <button class=\"colab-df-quickchart\" onclick=\"quickchart('df-903e9368-1488-48ba-9067-bc9d1e211802')\"\n",
              "            title=\"Suggest charts.\"\n",
              "            style=\"display:none;\">\n",
              "\n",
              "<svg xmlns=\"http://www.w3.org/2000/svg\" height=\"24px\"viewBox=\"0 0 24 24\"\n",
              "     width=\"24px\">\n",
              "    <g>\n",
              "        <path d=\"M19 3H5c-1.1 0-2 .9-2 2v14c0 1.1.9 2 2 2h14c1.1 0 2-.9 2-2V5c0-1.1-.9-2-2-2zM9 17H7v-7h2v7zm4 0h-2V7h2v10zm4 0h-2v-4h2v4z\"/>\n",
              "    </g>\n",
              "</svg>\n",
              "  </button>\n",
              "\n",
              "<style>\n",
              "  .colab-df-quickchart {\n",
              "      --bg-color: #E8F0FE;\n",
              "      --fill-color: #1967D2;\n",
              "      --hover-bg-color: #E2EBFA;\n",
              "      --hover-fill-color: #174EA6;\n",
              "      --disabled-fill-color: #AAA;\n",
              "      --disabled-bg-color: #DDD;\n",
              "  }\n",
              "\n",
              "  [theme=dark] .colab-df-quickchart {\n",
              "      --bg-color: #3B4455;\n",
              "      --fill-color: #D2E3FC;\n",
              "      --hover-bg-color: #434B5C;\n",
              "      --hover-fill-color: #FFFFFF;\n",
              "      --disabled-bg-color: #3B4455;\n",
              "      --disabled-fill-color: #666;\n",
              "  }\n",
              "\n",
              "  .colab-df-quickchart {\n",
              "    background-color: var(--bg-color);\n",
              "    border: none;\n",
              "    border-radius: 50%;\n",
              "    cursor: pointer;\n",
              "    display: none;\n",
              "    fill: var(--fill-color);\n",
              "    height: 32px;\n",
              "    padding: 0;\n",
              "    width: 32px;\n",
              "  }\n",
              "\n",
              "  .colab-df-quickchart:hover {\n",
              "    background-color: var(--hover-bg-color);\n",
              "    box-shadow: 0 1px 2px rgba(60, 64, 67, 0.3), 0 1px 3px 1px rgba(60, 64, 67, 0.15);\n",
              "    fill: var(--button-hover-fill-color);\n",
              "  }\n",
              "\n",
              "  .colab-df-quickchart-complete:disabled,\n",
              "  .colab-df-quickchart-complete:disabled:hover {\n",
              "    background-color: var(--disabled-bg-color);\n",
              "    fill: var(--disabled-fill-color);\n",
              "    box-shadow: none;\n",
              "  }\n",
              "\n",
              "  .colab-df-spinner {\n",
              "    border: 2px solid var(--fill-color);\n",
              "    border-color: transparent;\n",
              "    border-bottom-color: var(--fill-color);\n",
              "    animation:\n",
              "      spin 1s steps(1) infinite;\n",
              "  }\n",
              "\n",
              "  @keyframes spin {\n",
              "    0% {\n",
              "      border-color: transparent;\n",
              "      border-bottom-color: var(--fill-color);\n",
              "      border-left-color: var(--fill-color);\n",
              "    }\n",
              "    20% {\n",
              "      border-color: transparent;\n",
              "      border-left-color: var(--fill-color);\n",
              "      border-top-color: var(--fill-color);\n",
              "    }\n",
              "    30% {\n",
              "      border-color: transparent;\n",
              "      border-left-color: var(--fill-color);\n",
              "      border-top-color: var(--fill-color);\n",
              "      border-right-color: var(--fill-color);\n",
              "    }\n",
              "    40% {\n",
              "      border-color: transparent;\n",
              "      border-right-color: var(--fill-color);\n",
              "      border-top-color: var(--fill-color);\n",
              "    }\n",
              "    60% {\n",
              "      border-color: transparent;\n",
              "      border-right-color: var(--fill-color);\n",
              "    }\n",
              "    80% {\n",
              "      border-color: transparent;\n",
              "      border-right-color: var(--fill-color);\n",
              "      border-bottom-color: var(--fill-color);\n",
              "    }\n",
              "    90% {\n",
              "      border-color: transparent;\n",
              "      border-bottom-color: var(--fill-color);\n",
              "    }\n",
              "  }\n",
              "</style>\n",
              "\n",
              "  <script>\n",
              "    async function quickchart(key) {\n",
              "      const quickchartButtonEl =\n",
              "        document.querySelector('#' + key + ' button');\n",
              "      quickchartButtonEl.disabled = true;  // To prevent multiple clicks.\n",
              "      quickchartButtonEl.classList.add('colab-df-spinner');\n",
              "      try {\n",
              "        const charts = await google.colab.kernel.invokeFunction(\n",
              "            'suggestCharts', [key], {});\n",
              "      } catch (error) {\n",
              "        console.error('Error during call to suggestCharts:', error);\n",
              "      }\n",
              "      quickchartButtonEl.classList.remove('colab-df-spinner');\n",
              "      quickchartButtonEl.classList.add('colab-df-quickchart-complete');\n",
              "    }\n",
              "    (() => {\n",
              "      let quickchartButtonEl =\n",
              "        document.querySelector('#df-903e9368-1488-48ba-9067-bc9d1e211802 button');\n",
              "      quickchartButtonEl.style.display =\n",
              "        google.colab.kernel.accessAllowed ? 'block' : 'none';\n",
              "    })();\n",
              "  </script>\n",
              "</div>\n",
              "    </div>\n",
              "  </div>\n"
            ]
          },
          "metadata": {},
          "execution_count": 151
        }
      ]
    },
    {
      "cell_type": "code",
      "source": [],
      "metadata": {
        "id": "I-8Xp5--qCm7"
      },
      "execution_count": 151,
      "outputs": []
    },
    {
      "cell_type": "markdown",
      "source": [
        "## Evaluating best model"
      ],
      "metadata": {
        "id": "cDVcOVHJp-9w"
      }
    },
    {
      "cell_type": "code",
      "source": [
        "# Function to return ROC curve\n",
        "from sklearn.metrics import roc_curve, roc_auc_score\n",
        "\n",
        "def get_roc(y_true, y_pred):\n",
        "  \"\"\"\n",
        "  Returns a dictionary of true positives, false positives and thresholds\n",
        "  \"\"\"\n",
        "  # Cacculate the ROC curve\n",
        "  fpr, tpr, threshold = roc_curve(y_true, y_pred)\n",
        "\n",
        "  # Calculate area unde the curve\n",
        "  auc = roc_auc_score(y_true, y_pred)\n",
        "\n",
        "  # Dictionary\n",
        "  roc = {\"fpr\": fpr,\n",
        "         \"tpr\": tpr,\n",
        "         \"threshold\": threshold,\n",
        "         \"auc\": auc}\n",
        "\n",
        "  return roc"
      ],
      "metadata": {
        "id": "frivX2KZ7iLI"
      },
      "execution_count": 152,
      "outputs": []
    },
    {
      "cell_type": "code",
      "source": [
        "# Plot ROC curve\n",
        "import matplotlib.pyplot as plt\n",
        "\n",
        "def plot_roc_curve(fpr, tpr):\n",
        "  \"\"\"\n",
        "  Plot the roc curve.\n",
        "  \"\"\"\n",
        "  plt.plot(fpr, tpr)\n",
        "  plt.xlabel(\"False Positive Rate\")\n",
        "  plt.ylabel(\"True Positive Rate\")\n",
        "  plt.title(\"ROC Curve\")"
      ],
      "metadata": {
        "id": "spldHoPC7mSy"
      },
      "execution_count": 153,
      "outputs": []
    },
    {
      "cell_type": "code",
      "source": [
        "# Plot loss and val_loss curves\n",
        "def plot_loss(history):\n",
        "  \"\"\"\n",
        "  Plot the graphs of loss and val_loss, auc and val_auc\n",
        "  \"\"\"\n",
        "  # Training metrics\n",
        "  loss = history.history[\"loss\"]\n",
        "  auc = history.history[\"auc\"]\n",
        "\n",
        "  # Validation metrics\n",
        "  val_loss = history.history[\"val_loss\"]\n",
        "  val_auc = history.history[\"val_auc\"]\n",
        "\n",
        "  epochs = range(len(history.history[\"loss\"]))\n",
        "\n",
        "  # Plot curves\n",
        "  plt.plot(epochs, loss, label=\"training loss\")\n",
        "  plt.plot(epochs, val_loss, label=\"validation_loss\")\n",
        "  plt.title(\"loss\")\n",
        "  plt.xlabel(\"epochs\")\n",
        "  plt.legend()\n",
        "\n",
        "  # Create new figure\n",
        "  plt.figure()\n",
        "\n",
        "  # Plot AUC curve\n",
        "  plt.plot(epochs, auc, label=\"training auc\")\n",
        "  plt.plot(epochs, val_auc, label=\"validation auc\")\n",
        "  plt.title(\"auc\")\n",
        "  plt.xlabel(\"epochs\")\n",
        "  plt.legend()\n"
      ],
      "metadata": {
        "id": "D86-u-xLp7-3"
      },
      "execution_count": 154,
      "outputs": []
    },
    {
      "cell_type": "code",
      "source": [
        "roc_baseline = get_roc(y_val, tf_pred)\n",
        "roc_baseline"
      ],
      "metadata": {
        "colab": {
          "base_uri": "https://localhost:8080/"
        },
        "id": "SRrY_GZM7pvO",
        "outputId": "5fefbb18-c6af-4f61-e391-697cba31481c"
      },
      "execution_count": 155,
      "outputs": [
        {
          "output_type": "execute_result",
          "data": {
            "text/plain": [
              "{'fpr': array([0.       , 0.       , 0.       , ..., 0.9997971, 0.9997971,\n",
              "        1.       ]),\n",
              " 'tpr': array([0.00000000e+00, 1.74611489e-04, 6.98445958e-04, ...,\n",
              "        9.99825389e-01, 1.00000000e+00, 1.00000000e+00]),\n",
              " 'threshold': array([1.9954281 , 0.995428  , 0.9753514 , ..., 0.17788504, 0.1768252 ,\n",
              "        0.17386673], dtype=float32),\n",
              " 'auc': 0.7862269594364775}"
            ]
          },
          "metadata": {},
          "execution_count": 155
        }
      ]
    },
    {
      "cell_type": "code",
      "source": [
        "plot_roc_curve(roc_baseline[\"fpr\"],\n",
        "               roc_baseline[\"tpr\"])"
      ],
      "metadata": {
        "colab": {
          "base_uri": "https://localhost:8080/",
          "height": 472
        },
        "id": "mIbkrTaB7prr",
        "outputId": "166a6e6a-a1d1-44da-e3a2-8bccdf34019d"
      },
      "execution_count": 156,
      "outputs": [
        {
          "output_type": "display_data",
          "data": {
            "text/plain": [
              "<Figure size 640x480 with 1 Axes>"
            ],
            "image/png": "[encoded data removed]"
          },
          "metadata": {}
        }
      ]
    },
    {
      "cell_type": "code",
      "source": [
        "from sklearn.metrics import confusion_matrix, ConfusionMatrixDisplay\n",
        "\n",
        "cm = confusion_matrix(y_val, np.round(tf_pred))\n",
        "ConfusionMatrixDisplay(cm).plot();"
      ],
      "metadata": {
        "colab": {
          "base_uri": "https://localhost:8080/",
          "height": 449
        },
        "id": "f73q3pqd7pjI",
        "outputId": "db559943-5e7d-4315-d09f-aa3594d84309"
      },
      "execution_count": 157,
      "outputs": [
        {
          "output_type": "display_data",
          "data": {
            "text/plain": [
              "<Figure size 640x480 with 2 Axes>"
            ],
            "image/png": "[encoded data removed]"
          },
          "metadata": {}
        }
      ]
    },
    {
      "cell_type": "markdown",
      "source": [
        "### Trying improve model\n",
        "* Best Score -> 0.786649"
      ],
      "metadata": {
        "id": "bHB_scBo_w2o"
      }
    },
    {
      "cell_type": "code",
      "source": [
        "def scheduler(epoch, lr):\n",
        "  if epoch < 10:\n",
        "    return lr\n",
        "  else:\n",
        "    return lr * tf.math.exp(0.1)\n",
        "\n",
        "lr_scheduler = tf.keras.callbacks.LearningRateScheduler(scheduler)"
      ],
      "metadata": {
        "id": "-uzP11hXIAJL"
      },
      "execution_count": 158,
      "outputs": []
    },
    {
      "cell_type": "code",
      "source": [
        "inputs = layers.Input(shape=(len(X_train_features.columns), ), name=\"inputs\")\n",
        "x = layers.Dense(64, activation=\"relu\")(inputs)\n",
        "x = layers.Dense(8, activation=\"tanh\")(x)\n",
        "x = layers.Dense(8, activation=\"relu\")(x)\n",
        "outputs = layers.Dense(1, activation=\"sigmoid\")(x)\n",
        "\n",
        "\n",
        "model_1 = tf.keras.Model(inputs, outputs, name=\"normal_data\")\n",
        "\n",
        "model_1.compile(loss=\"BinaryCrossentropy\",\n",
        "                        optimizer=\"Adam\",\n",
        "                        metrics=[\"acc\"])\n",
        "\n",
        "history_1 = model_1.fit(X_train_features, y_train,\n",
        "                        epochs=100,\n",
        "                        validation_data=(X_val_features, y_val),\n",
        "                        callbacks=[early_stop],\n",
        "                        verbose=0)\n",
        "\n",
        "\n",
        "tf_pred = model_1.predict(X_val_features)\n",
        "\n",
        "score = roc_auc_score(y_val, tf_pred)\n",
        "\n",
        "AUC_Scores[\"TensorFlow\"].update({\"Selection_Undersampled_Data\": score})\n",
        "\n",
        "best_lr = round(model_1.optimizer.lr.numpy(), 5)\n",
        "\n",
        "f1 = f1_score(y_val, tf.argmax(tf_pred, axis=1))\n",
        "\n",
        "print(f\"F1_Score: {f1_score}\")\n",
        "print(f\"AUC Score: {score}\")\n",
        "print(f\"Tf AUC Score: {history_1.history['val_acc']}\")\n",
        "print(f\"Best Learning Rate: {best_lr}\")"
      ],
      "metadata": {
        "colab": {
          "base_uri": "https://localhost:8080/"
        },
        "id": "Y0xeyMwb9GgQ",
        "outputId": "56e63988-e0ee-4d53-a116-a43bdecd6694"
      },
      "execution_count": 159,
      "outputs": [
        {
          "output_type": "stream",
          "name": "stdout",
          "text": [
            "796/796 [==============================] - 1s 793us/step\n",
            "F1_Score: <function f1_score at 0x7d780ec4acb0>\n",
            "AUC Score: 0.5573281033853071\n",
            "Tf AUC Score: [0.7748908996582031, 0.7862505316734314, 0.7855036854743958, 0.7874690294265747, 0.7897881269454956, 0.7845996618270874, 0.7876262664794922, 0.7884123921394348]\n",
            "Best Learning Rate: 0.0010000000474974513\n"
          ]
        }
      ]
    },
    {
      "cell_type": "markdown",
      "source": [
        "### Prepraring Test Data"
      ],
      "metadata": {
        "id": "PHP8TGGkM5o1"
      }
    },
    {
      "cell_type": "code",
      "source": [
        "X_test = test_data.drop(\"id\", axis=1)\n",
        "X_test = X_test.loc[:, X_test.columns[features_list]]\n",
        "X_test = scaler.transform(X_test)\n",
        "\n",
        "X_test"
      ],
      "metadata": {
        "id": "PuZu-DQ8NPAa",
        "colab": {
          "base_uri": "https://localhost:8080/"
        },
        "outputId": "c321194b-0b1f-4647-8c45-f9eec028b0c9"
      },
      "execution_count": 160,
      "outputs": [
        {
          "output_type": "execute_result",
          "data": {
            "text/plain": [
              "array([[-0.07954942, -0.06283343, -0.39630263, ...,  0.2898969 ,\n",
              "         0.25746956, -0.05869887],\n",
              "       [-0.19092381,  0.31397953,  1.10348319, ...,  0.12303325,\n",
              "         0.14227855,  0.35664296],\n",
              "       [ 1.72100322,  0.69079249,  0.88922807, ...,  2.70451209,\n",
              "         2.95005922,  0.77198479],\n",
              "       ...,\n",
              "       [-0.246611  , -0.43964639, -0.39630263, ..., -0.21069405,\n",
              "        -0.30408658, -0.4740407 ],\n",
              "       [-0.35798539, -0.43964639, -0.39630263, ..., -0.27940261,\n",
              "        -0.24649108, -0.4740407 ],\n",
              "       [ 1.18269367,  1.19320977,  1.53199342, ..., -0.56405237,\n",
              "        -0.56326633,  1.32577389]])"
            ]
          },
          "metadata": {},
          "execution_count": 160
        }
      ]
    },
    {
      "cell_type": "markdown",
      "source": [
        "### Creating Predictions\n",
        "* Submission: ID - Pred_probs"
      ],
      "metadata": {
        "id": "2qoR756k7M44"
      }
    },
    {
      "cell_type": "markdown",
      "source": [
        "* Observation: Using the model trained on undersampled data gave a really low score on Kaggle, so I used the normal."
      ],
      "metadata": {
        "id": "m8rdUkzrPu3H"
      }
    },
    {
      "cell_type": "code",
      "source": [
        "pred_probs = model_1.predict(X_test)\n",
        "defects = tf.squeeze(pred_probs)\n",
        "defects"
      ],
      "metadata": {
        "id": "QDnPcd-mN-yd",
        "colab": {
          "base_uri": "https://localhost:8080/"
        },
        "outputId": "3e5d2579-f871-448b-b5f8-16d24966cda5"
      },
      "execution_count": 161,
      "outputs": [
        {
          "output_type": "stream",
          "name": "stdout",
          "text": [
            "2121/2121 [==============================] - 2s 794us/step\n"
          ]
        },
        {
          "output_type": "execute_result",
          "data": {
            "text/plain": [
              "<tf.Tensor: shape=(67842,), dtype=float32, numpy=\n",
              "array([0.20708384, 0.20708688, 0.20700972, ..., 0.21446292, 0.22127774,\n",
              "       0.23945114], dtype=float32)>"
            ]
          },
          "metadata": {},
          "execution_count": 161
        }
      ]
    },
    {
      "cell_type": "code",
      "source": [
        "id = test_data[\"id\"]\n",
        "id"
      ],
      "metadata": {
        "id": "sOas-YIWSNIv",
        "colab": {
          "base_uri": "https://localhost:8080/"
        },
        "outputId": "1d79a45b-6536-45bb-b01d-ccb84d27cafb"
      },
      "execution_count": 162,
      "outputs": [
        {
          "output_type": "execute_result",
          "data": {
            "text/plain": [
              "0        101763\n",
              "1        101764\n",
              "2        101765\n",
              "3        101766\n",
              "4        101767\n",
              "          ...  \n",
              "67837    169600\n",
              "67838    169601\n",
              "67839    169602\n",
              "67840    169603\n",
              "67841    169604\n",
              "Name: id, Length: 67842, dtype: int64"
            ]
          },
          "metadata": {},
          "execution_count": 162
        }
      ]
    },
    {
      "cell_type": "code",
      "source": [
        "submission = {\"id\":id, \"defects\":defects}\n",
        "\n",
        "sub_data = pd.DataFrame(submission)\n",
        "sub_data"
      ],
      "metadata": {
        "id": "hIvuQZN5OLSK",
        "colab": {
          "base_uri": "https://localhost:8080/",
          "height": 424
        },
        "outputId": "45fcd339-2fbd-4c8a-d5c6-8ffe0401012c"
      },
      "execution_count": 163,
      "outputs": [
        {
          "output_type": "execute_result",
          "data": {
            "text/plain": [
              "           id   defects\n",
              "0      101763  0.207084\n",
              "1      101764  0.207087\n",
              "2      101765  0.207010\n",
              "3      101766  0.207023\n",
              "4      101767  0.215254\n",
              "...       ...       ...\n",
              "67837  169600  0.207405\n",
              "67838  169601  0.218567\n",
              "67839  169602  0.214463\n",
              "67840  169603  0.221278\n",
              "67841  169604  0.239451\n",
              "\n",
              "[67842 rows x 2 columns]"
            ],
            "text/html": [
              "\n",
              "  <div id=\"df-304ba78b-843f-485e-919c-d168c28a0483\" class=\"colab-df-container\">\n",
              "    <div>\n",
              "<style scoped>\n",
              "    .dataframe tbody tr th:only-of-type {\n",
              "        vertical-align: middle;\n",
              "    }\n",
              "\n",
              "    .dataframe tbody tr th {\n",
              "        vertical-align: top;\n",
              "    }\n",
              "\n",
              "    .dataframe thead th {\n",
              "        text-align: right;\n",
              "    }\n",
              "</style>\n",
              "<table border=\"1\" class=\"dataframe\">\n",
              "  <thead>\n",
              "    <tr style=\"text-align: right;\">\n",
              "      <th></th>\n",
              "      <th>id</th>\n",
              "      <th>defects</th>\n",
              "    </tr>\n",
              "  </thead>\n",
              "  <tbody>\n",
              "    <tr>\n",
              "      <th>0</th>\n",
              "      <td>101763</td>\n",
              "      <td>0.207084</td>\n",
              "    </tr>\n",
              "    <tr>\n",
              "      <th>1</th>\n",
              "      <td>101764</td>\n",
              "      <td>0.207087</td>\n",
              "    </tr>\n",
              "    <tr>\n",
              "      <th>2</th>\n",
              "      <td>101765</td>\n",
              "      <td>0.207010</td>\n",
              "    </tr>\n",
              "    <tr>\n",
              "      <th>3</th>\n",
              "      <td>101766</td>\n",
              "      <td>0.207023</td>\n",
              "    </tr>\n",
              "    <tr>\n",
              "      <th>4</th>\n",
              "      <td>101767</td>\n",
              "      <td>0.215254</td>\n",
              "    </tr>\n",
              "    <tr>\n",
              "      <th>...</th>\n",
              "      <td>...</td>\n",
              "      <td>...</td>\n",
              "    </tr>\n",
              "    <tr>\n",
              "      <th>67837</th>\n",
              "      <td>169600</td>\n",
              "      <td>0.207405</td>\n",
              "    </tr>\n",
              "    <tr>\n",
              "      <th>67838</th>\n",
              "      <td>169601</td>\n",
              "      <td>0.218567</td>\n",
              "    </tr>\n",
              "    <tr>\n",
              "      <th>67839</th>\n",
              "      <td>169602</td>\n",
              "      <td>0.214463</td>\n",
              "    </tr>\n",
              "    <tr>\n",
              "      <th>67840</th>\n",
              "      <td>169603</td>\n",
              "      <td>0.221278</td>\n",
              "    </tr>\n",
              "    <tr>\n",
              "      <th>67841</th>\n",
              "      <td>169604</td>\n",
              "      <td>0.239451</td>\n",
              "    </tr>\n",
              "  </tbody>\n",
              "</table>\n",
              "<p>67842 rows × 2 columns</p>\n",
              "</div>\n",
              "    <div class=\"colab-df-buttons\">\n",
              "\n",
              "  <div class=\"colab-df-container\">\n",
              "    <button class=\"colab-df-convert\" onclick=\"convertToInteractive('df-304ba78b-843f-485e-919c-d168c28a0483')\"\n",
              "            title=\"Convert this dataframe to an interactive table.\"\n",
              "            style=\"display:none;\">\n",
              "\n",
              "  <svg xmlns=\"http://www.w3.org/2000/svg\" height=\"24px\" viewBox=\"0 -960 960 960\">\n",
              "    <path d=\"M120-120v-720h720v720H120Zm60-500h600v-160H180v160Zm220 220h160v-160H400v160Zm0 220h160v-160H400v160ZM180-400h160v-160H180v160Zm440 0h160v-160H620v160ZM180-180h160v-160H180v160Zm440 0h160v-160H620v160Z\"/>\n",
              "  </svg>\n",
              "    </button>\n",
              "\n",
              "  <style>\n",
              "    .colab-df-container {\n",
              "      display:flex;\n",
              "      gap: 12px;\n",
              "    }\n",
              "\n",
              "    .colab-df-convert {\n",
              "      background-color: #E8F0FE;\n",
              "      border: none;\n",
              "      border-radius: 50%;\n",
              "      cursor: pointer;\n",
              "      display: none;\n",
              "      fill: #1967D2;\n",
              "      height: 32px;\n",
              "      padding: 0 0 0 0;\n",
              "      width: 32px;\n",
              "    }\n",
              "\n",
              "    .colab-df-convert:hover {\n",
              "      background-color: #E2EBFA;\n",
              "      box-shadow: 0px 1px 2px rgba(60, 64, 67, 0.3), 0px 1px 3px 1px rgba(60, 64, 67, 0.15);\n",
              "      fill: #174EA6;\n",
              "    }\n",
              "\n",
              "    .colab-df-buttons div {\n",
              "      margin-bottom: 4px;\n",
              "    }\n",
              "\n",
              "    [theme=dark] .colab-df-convert {\n",
              "      background-color: #3B4455;\n",
              "      fill: #D2E3FC;\n",
              "    }\n",
              "\n",
              "    [theme=dark] .colab-df-convert:hover {\n",
              "      background-color: #434B5C;\n",
              "      box-shadow: 0px 1px 3px 1px rgba(0, 0, 0, 0.15);\n",
              "      filter: drop-shadow(0px 1px 2px rgba(0, 0, 0, 0.3));\n",
              "      fill: #FFFFFF;\n",
              "    }\n",
              "  </style>\n",
              "\n",
              "    <script>\n",
              "      const buttonEl =\n",
              "        document.querySelector('#df-304ba78b-843f-485e-919c-d168c28a0483 button.colab-df-convert');\n",
              "      buttonEl.style.display =\n",
              "        google.colab.kernel.accessAllowed ? 'block' : 'none';\n",
              "\n",
              "      async function convertToInteractive(key) {\n",
              "        const element = document.querySelector('#df-304ba78b-843f-485e-919c-d168c28a0483');\n",
              "        const dataTable =\n",
              "          await google.colab.kernel.invokeFunction('convertToInteractive',\n",
              "                                                    [key], {});\n",
              "        if (!dataTable) return;\n",
              "\n",
              "        const docLinkHtml = 'Like what you see? Visit the ' +\n",
              "          '<a target=\"_blank\" href=https://colab.research.google.com/notebooks/data_table.ipynb>data table notebook</a>'\n",
              "          + ' to learn more about interactive tables.';\n",
              "        element.innerHTML = '';\n",
              "        dataTable['output_type'] = 'display_data';\n",
              "        await google.colab.output.renderOutput(dataTable, element);\n",
              "        const docLink = document.createElement('div');\n",
              "        docLink.innerHTML = docLinkHtml;\n",
              "        element.appendChild(docLink);\n",
              "      }\n",
              "    </script>\n",
              "  </div>\n",
              "\n",
              "\n",
              "<div id=\"df-eac69f27-ee6a-466f-a087-5dbffc1f4b7e\">\n",
              "  <button class=\"colab-df-quickchart\" onclick=\"quickchart('df-eac69f27-ee6a-466f-a087-5dbffc1f4b7e')\"\n",
              "            title=\"Suggest charts.\"\n",
              "            style=\"display:none;\">\n",
              "\n",
              "<svg xmlns=\"http://www.w3.org/2000/svg\" height=\"24px\"viewBox=\"0 0 24 24\"\n",
              "     width=\"24px\">\n",
              "    <g>\n",
              "        <path d=\"M19 3H5c-1.1 0-2 .9-2 2v14c0 1.1.9 2 2 2h14c1.1 0 2-.9 2-2V5c0-1.1-.9-2-2-2zM9 17H7v-7h2v7zm4 0h-2V7h2v10zm4 0h-2v-4h2v4z\"/>\n",
              "    </g>\n",
              "</svg>\n",
              "  </button>\n",
              "\n",
              "<style>\n",
              "  .colab-df-quickchart {\n",
              "      --bg-color: #E8F0FE;\n",
              "      --fill-color: #1967D2;\n",
              "      --hover-bg-color: #E2EBFA;\n",
              "      --hover-fill-color: #174EA6;\n",
              "      --disabled-fill-color: #AAA;\n",
              "      --disabled-bg-color: #DDD;\n",
              "  }\n",
              "\n",
              "  [theme=dark] .colab-df-quickchart {\n",
              "      --bg-color: #3B4455;\n",
              "      --fill-color: #D2E3FC;\n",
              "      --hover-bg-color: #434B5C;\n",
              "      --hover-fill-color: #FFFFFF;\n",
              "      --disabled-bg-color: #3B4455;\n",
              "      --disabled-fill-color: #666;\n",
              "  }\n",
              "\n",
              "  .colab-df-quickchart {\n",
              "    background-color: var(--bg-color);\n",
              "    border: none;\n",
              "    border-radius: 50%;\n",
              "    cursor: pointer;\n",
              "    display: none;\n",
              "    fill: var(--fill-color);\n",
              "    height: 32px;\n",
              "    padding: 0;\n",
              "    width: 32px;\n",
              "  }\n",
              "\n",
              "  .colab-df-quickchart:hover {\n",
              "    background-color: var(--hover-bg-color);\n",
              "    box-shadow: 0 1px 2px rgba(60, 64, 67, 0.3), 0 1px 3px 1px rgba(60, 64, 67, 0.15);\n",
              "    fill: var(--button-hover-fill-color);\n",
              "  }\n",
              "\n",
              "  .colab-df-quickchart-complete:disabled,\n",
              "  .colab-df-quickchart-complete:disabled:hover {\n",
              "    background-color: var(--disabled-bg-color);\n",
              "    fill: var(--disabled-fill-color);\n",
              "    box-shadow: none;\n",
              "  }\n",
              "\n",
              "  .colab-df-spinner {\n",
              "    border: 2px solid var(--fill-color);\n",
              "    border-color: transparent;\n",
              "    border-bottom-color: var(--fill-color);\n",
              "    animation:\n",
              "      spin 1s steps(1) infinite;\n",
              "  }\n",
              "\n",
              "  @keyframes spin {\n",
              "    0% {\n",
              "      border-color: transparent;\n",
              "      border-bottom-color: var(--fill-color);\n",
              "      border-left-color: var(--fill-color);\n",
              "    }\n",
              "    20% {\n",
              "      border-color: transparent;\n",
              "      border-left-color: var(--fill-color);\n",
              "      border-top-color: var(--fill-color);\n",
              "    }\n",
              "    30% {\n",
              "      border-color: transparent;\n",
              "      border-left-color: var(--fill-color);\n",
              "      border-top-color: var(--fill-color);\n",
              "      border-right-color: var(--fill-color);\n",
              "    }\n",
              "    40% {\n",
              "      border-color: transparent;\n",
              "      border-right-color: var(--fill-color);\n",
              "      border-top-color: var(--fill-color);\n",
              "    }\n",
              "    60% {\n",
              "      border-color: transparent;\n",
              "      border-right-color: var(--fill-color);\n",
              "    }\n",
              "    80% {\n",
              "      border-color: transparent;\n",
              "      border-right-color: var(--fill-color);\n",
              "      border-bottom-color: var(--fill-color);\n",
              "    }\n",
              "    90% {\n",
              "      border-color: transparent;\n",
              "      border-bottom-color: var(--fill-color);\n",
              "    }\n",
              "  }\n",
              "</style>\n",
              "\n",
              "  <script>\n",
              "    async function quickchart(key) {\n",
              "      const quickchartButtonEl =\n",
              "        document.querySelector('#' + key + ' button');\n",
              "      quickchartButtonEl.disabled = true;  // To prevent multiple clicks.\n",
              "      quickchartButtonEl.classList.add('colab-df-spinner');\n",
              "      try {\n",
              "        const charts = await google.colab.kernel.invokeFunction(\n",
              "            'suggestCharts', [key], {});\n",
              "      } catch (error) {\n",
              "        console.error('Error during call to suggestCharts:', error);\n",
              "      }\n",
              "      quickchartButtonEl.classList.remove('colab-df-spinner');\n",
              "      quickchartButtonEl.classList.add('colab-df-quickchart-complete');\n",
              "    }\n",
              "    (() => {\n",
              "      let quickchartButtonEl =\n",
              "        document.querySelector('#df-eac69f27-ee6a-466f-a087-5dbffc1f4b7e button');\n",
              "      quickchartButtonEl.style.display =\n",
              "        google.colab.kernel.accessAllowed ? 'block' : 'none';\n",
              "    })();\n",
              "  </script>\n",
              "</div>\n",
              "    </div>\n",
              "  </div>\n"
            ]
          },
          "metadata": {},
          "execution_count": 163
        }
      ]
    },
    {
      "cell_type": "code",
      "source": [
        "sub_data.to_csv('submission_2_file.csv', index=False)"
      ],
      "metadata": {
        "id": "Ua3lKYtrT9jo"
      },
      "execution_count": 164,
      "outputs": []
    }
  ],
  "metadata": {
    "colab": {
      "provenance": []
    },
    "kernelspec": {
      "display_name": "Python 3",
      "name": "python3"
    },
    "language_info": {
      "name": "python"
    }
  },
  "nbformat": 4,
  "nbformat_minor": 0
}